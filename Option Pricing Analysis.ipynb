{
 "cells": [
  {
   "cell_type": "code",
   "execution_count": 1,
   "metadata": {
    "cell_id": "6b1e1e67afbf4ab3b346e457091eee8c",
    "deepnote_cell_type": "code",
    "deepnote_to_be_reexecuted": false,
    "execution_millis": 40,
    "execution_start": 1681681020091,
    "source_hash": "2a2c755b"
   },
   "outputs": [],
   "source": [
    "# import library for data cleaning \n",
    "from sklearn.impute import SimpleImputer\n",
    "from sklearn.preprocessing import StandardScaler\n",
    "import pandas as pd\n",
    "import numpy as np\n",
    "\n",
    "# import library for plotting\n",
    "import matplotlib.pyplot as plt\n",
    "import seaborn as sns\n",
    "%matplotlib inline\n",
    "\n",
    "# import library for modeling\n",
    "import scipy.stats\n",
    "import statsmodels.formula.api as smf\n",
    "from sklearn.linear_model import LinearRegression\n",
    "from sklearn.linear_model import LogisticRegression\n",
    "from sklearn.discriminant_analysis import LinearDiscriminantAnalysis\n",
    "from sklearn.neighbors import KNeighborsClassifier\n",
    "from sklearn.neighbors import KNeighborsRegressor\n",
    "from sklearn.tree import DecisionTreeClassifier\n",
    "from sklearn.tree import DecisionTreeRegressor\n",
    "from sklearn.ensemble import RandomForestRegressor, RandomForestClassifier\n",
    "import xgboost as xgb\n",
    "from xgboost import XGBClassifier\n",
    "from xgboost import XGBRegressor\n",
    "\n",
    "# import library for Cross Validation \n",
    "from sklearn.model_selection import KFold # for regression\n",
    "from sklearn.model_selection import StratifiedKFold # for classificaion\n",
    "from sklearn.model_selection import cross_val_score\n",
    "\n",
    "# import library for train/test split\n",
    "from sklearn.model_selection import train_test_split\n",
    "\n",
    "from sklearn.metrics import accuracy_score\n",
    "from sklearn.metrics import confusion_matrix\n",
    "from sklearn.metrics import r2_score"
   ]
  },
  {
   "cell_type": "markdown",
   "metadata": {
    "cell_id": "db8be73a0c2b42db94441d09aa7cbad8",
    "deepnote_cell_type": "text-cell-h1",
    "formattedRanges": []
   },
   "source": [
    "# Data Cleaning "
   ]
  },
  {
   "cell_type": "markdown",
   "metadata": {
    "cell_id": "9ed438768013447187af37dd0dc2aed7",
    "deepnote_cell_type": "text-cell-h2",
    "formattedRanges": []
   },
   "source": [
    "## Training Data Exploration"
   ]
  },
  {
   "cell_type": "code",
   "execution_count": 2,
   "metadata": {
    "cell_id": "a16f5f1732b540eeb731824859f7b9e1",
    "deepnote_cell_type": "code",
    "deepnote_to_be_reexecuted": false,
    "execution_millis": 180,
    "execution_start": 1681681177994,
    "source_hash": "a0e14fe"
   },
   "outputs": [
    {
     "data": {
      "text/html": [
       "<div>\n",
       "<style scoped>\n",
       "    .dataframe tbody tr th:only-of-type {\n",
       "        vertical-align: middle;\n",
       "    }\n",
       "\n",
       "    .dataframe tbody tr th {\n",
       "        vertical-align: top;\n",
       "    }\n",
       "\n",
       "    .dataframe thead th {\n",
       "        text-align: right;\n",
       "    }\n",
       "</style>\n",
       "<table border=\"1\" class=\"dataframe\">\n",
       "  <thead>\n",
       "    <tr style=\"text-align: right;\">\n",
       "      <th></th>\n",
       "      <th>Value</th>\n",
       "      <th>S</th>\n",
       "      <th>K</th>\n",
       "      <th>tau</th>\n",
       "      <th>r</th>\n",
       "      <th>BS</th>\n",
       "    </tr>\n",
       "  </thead>\n",
       "  <tbody>\n",
       "    <tr>\n",
       "      <th>0</th>\n",
       "      <td>21.670404</td>\n",
       "      <td>431.623898</td>\n",
       "      <td>420.0</td>\n",
       "      <td>0.341270</td>\n",
       "      <td>0.03013</td>\n",
       "      <td>Under</td>\n",
       "    </tr>\n",
       "    <tr>\n",
       "      <th>1</th>\n",
       "      <td>0.125000</td>\n",
       "      <td>427.015526</td>\n",
       "      <td>465.0</td>\n",
       "      <td>0.166667</td>\n",
       "      <td>0.03126</td>\n",
       "      <td>Over</td>\n",
       "    </tr>\n",
       "    <tr>\n",
       "      <th>2</th>\n",
       "      <td>20.691244</td>\n",
       "      <td>427.762336</td>\n",
       "      <td>415.0</td>\n",
       "      <td>0.265873</td>\n",
       "      <td>0.03116</td>\n",
       "      <td>Under</td>\n",
       "    </tr>\n",
       "    <tr>\n",
       "      <th>3</th>\n",
       "      <td>1.035002</td>\n",
       "      <td>451.711658</td>\n",
       "      <td>460.0</td>\n",
       "      <td>0.063492</td>\n",
       "      <td>0.02972</td>\n",
       "      <td>Over</td>\n",
       "    </tr>\n",
       "    <tr>\n",
       "      <th>4</th>\n",
       "      <td>39.553020</td>\n",
       "      <td>446.718974</td>\n",
       "      <td>410.0</td>\n",
       "      <td>0.166667</td>\n",
       "      <td>0.02962</td>\n",
       "      <td>Under</td>\n",
       "    </tr>\n",
       "    <tr>\n",
       "      <th>...</th>\n",
       "      <td>...</td>\n",
       "      <td>...</td>\n",
       "      <td>...</td>\n",
       "      <td>...</td>\n",
       "      <td>...</td>\n",
       "      <td>...</td>\n",
       "    </tr>\n",
       "    <tr>\n",
       "      <th>1675</th>\n",
       "      <td>1.470000</td>\n",
       "      <td>444.397163</td>\n",
       "      <td>475.0</td>\n",
       "      <td>0.273810</td>\n",
       "      <td>0.03034</td>\n",
       "      <td>Over</td>\n",
       "    </tr>\n",
       "    <tr>\n",
       "      <th>1676</th>\n",
       "      <td>34.927317</td>\n",
       "      <td>438.453825</td>\n",
       "      <td>410.0</td>\n",
       "      <td>0.301587</td>\n",
       "      <td>0.02972</td>\n",
       "      <td>Under</td>\n",
       "    </tr>\n",
       "    <tr>\n",
       "      <th>1677</th>\n",
       "      <td>41.127997</td>\n",
       "      <td>428.042219</td>\n",
       "      <td>390.0</td>\n",
       "      <td>0.170635</td>\n",
       "      <td>0.03188</td>\n",
       "      <td>Under</td>\n",
       "    </tr>\n",
       "    <tr>\n",
       "      <th>1678</th>\n",
       "      <td>0.440003</td>\n",
       "      <td>439.081203</td>\n",
       "      <td>480.0</td>\n",
       "      <td>0.293651</td>\n",
       "      <td>0.02962</td>\n",
       "      <td>Over</td>\n",
       "    </tr>\n",
       "    <tr>\n",
       "      <th>1679</th>\n",
       "      <td>0.410002</td>\n",
       "      <td>432.167692</td>\n",
       "      <td>465.0</td>\n",
       "      <td>0.218254</td>\n",
       "      <td>0.02993</td>\n",
       "      <td>Over</td>\n",
       "    </tr>\n",
       "  </tbody>\n",
       "</table>\n",
       "<p>1680 rows × 6 columns</p>\n",
       "</div>"
      ],
      "text/plain": [
       "          Value           S      K       tau        r     BS\n",
       "0     21.670404  431.623898  420.0  0.341270  0.03013  Under\n",
       "1      0.125000  427.015526  465.0  0.166667  0.03126   Over\n",
       "2     20.691244  427.762336  415.0  0.265873  0.03116  Under\n",
       "3      1.035002  451.711658  460.0  0.063492  0.02972   Over\n",
       "4     39.553020  446.718974  410.0  0.166667  0.02962  Under\n",
       "...         ...         ...    ...       ...      ...    ...\n",
       "1675   1.470000  444.397163  475.0  0.273810  0.03034   Over\n",
       "1676  34.927317  438.453825  410.0  0.301587  0.02972  Under\n",
       "1677  41.127997  428.042219  390.0  0.170635  0.03188  Under\n",
       "1678   0.440003  439.081203  480.0  0.293651  0.02962   Over\n",
       "1679   0.410002  432.167692  465.0  0.218254  0.02993   Over\n",
       "\n",
       "[1680 rows x 6 columns]"
      ]
     },
     "execution_count": 2,
     "metadata": {},
     "output_type": "execute_result"
    }
   ],
   "source": [
    "train_data = pd.read_csv('option_train.csv')\n",
    "train_data"
   ]
  },
  {
   "cell_type": "markdown",
   "metadata": {
    "cell_id": "67a0e3811a554106b9ca40f8b150cefc",
    "deepnote_cell_type": "text-cell-bullet",
    "formattedRanges": []
   },
   "source": [
    "- Value (C): Current option value      "
   ]
  },
  {
   "cell_type": "markdown",
   "metadata": {
    "cell_id": "3d3a12f5-5b82-4778-ab16-afaf036780cb",
    "deepnote_cell_type": "text-cell-bullet",
    "formattedRanges": []
   },
   "source": [
    "- S: Current asset value"
   ]
  },
  {
   "cell_type": "markdown",
   "metadata": {
    "cell_id": "4f5216ef-f433-4f63-bc45-5a4618c08a82",
    "deepnote_cell_type": "text-cell-bullet",
    "formattedRanges": []
   },
   "source": [
    "- K: Strike price of option"
   ]
  },
  {
   "cell_type": "markdown",
   "metadata": {
    "cell_id": "0cc423c1-0e17-490f-9439-8cae077de10b",
    "deepnote_cell_type": "text-cell-bullet",
    "formattedRanges": []
   },
   "source": [
    "- r: Annual interest rate"
   ]
  },
  {
   "cell_type": "markdown",
   "metadata": {
    "cell_id": "4bc5df2f-afdf-46a3-9093-6b6312472173",
    "deepnote_cell_type": "text-cell-bullet",
    "formattedRanges": []
   },
   "source": [
    "- tau: Time to maturity (in years)"
   ]
  },
  {
   "cell_type": "markdown",
   "metadata": {
    "cell_id": "71e5923a-1dc7-427c-9cf5-59293254329b",
    "deepnote_cell_type": "text-cell-bullet",
    "formattedRanges": []
   },
   "source": [
    "- BS: The Black-Scholes formula was applied to this data (using some 𝜎) to get C_pred. If an option has C_pred – C > 0, i.e., the prediction over estimated the option value, we associate that option by (Over); otherwise, we associate that option with (Under)."
   ]
  },
  {
   "cell_type": "code",
   "execution_count": 3,
   "metadata": {
    "cell_id": "eef23b0326d84615aee12679cda39e25",
    "deepnote_cell_type": "code",
    "deepnote_table_loading": false,
    "deepnote_table_state": {
     "filters": [],
     "pageIndex": 0,
     "pageSize": 25,
     "sortBy": []
    },
    "deepnote_to_be_reexecuted": false,
    "execution_millis": 187,
    "execution_start": 1681681181289,
    "source_hash": "e7b51d1c"
   },
   "outputs": [
    {
     "data": {
      "text/html": [
       "<div>\n",
       "<style scoped>\n",
       "    .dataframe tbody tr th:only-of-type {\n",
       "        vertical-align: middle;\n",
       "    }\n",
       "\n",
       "    .dataframe tbody tr th {\n",
       "        vertical-align: top;\n",
       "    }\n",
       "\n",
       "    .dataframe thead th {\n",
       "        text-align: right;\n",
       "    }\n",
       "</style>\n",
       "<table border=\"1\" class=\"dataframe\">\n",
       "  <thead>\n",
       "    <tr style=\"text-align: right;\">\n",
       "      <th></th>\n",
       "      <th>Value</th>\n",
       "      <th>S</th>\n",
       "      <th>K</th>\n",
       "      <th>tau</th>\n",
       "      <th>r</th>\n",
       "      <th>BS</th>\n",
       "    </tr>\n",
       "  </thead>\n",
       "  <tbody>\n",
       "    <tr>\n",
       "      <th>count</th>\n",
       "      <td>1678.000000</td>\n",
       "      <td>1679.000000</td>\n",
       "      <td>1678.000000</td>\n",
       "      <td>1679.000000</td>\n",
       "      <td>1680.000000</td>\n",
       "      <td>1680</td>\n",
       "    </tr>\n",
       "    <tr>\n",
       "      <th>unique</th>\n",
       "      <td>NaN</td>\n",
       "      <td>NaN</td>\n",
       "      <td>NaN</td>\n",
       "      <td>NaN</td>\n",
       "      <td>NaN</td>\n",
       "      <td>2</td>\n",
       "    </tr>\n",
       "    <tr>\n",
       "      <th>top</th>\n",
       "      <td>NaN</td>\n",
       "      <td>NaN</td>\n",
       "      <td>NaN</td>\n",
       "      <td>NaN</td>\n",
       "      <td>NaN</td>\n",
       "      <td>Under</td>\n",
       "    </tr>\n",
       "    <tr>\n",
       "      <th>freq</th>\n",
       "      <td>NaN</td>\n",
       "      <td>NaN</td>\n",
       "      <td>NaN</td>\n",
       "      <td>NaN</td>\n",
       "      <td>NaN</td>\n",
       "      <td>946</td>\n",
       "    </tr>\n",
       "    <tr>\n",
       "      <th>mean</th>\n",
       "      <td>15.068709</td>\n",
       "      <td>464.402535</td>\n",
       "      <td>438.241955</td>\n",
       "      <td>0.437519</td>\n",
       "      <td>0.030235</td>\n",
       "      <td>NaN</td>\n",
       "    </tr>\n",
       "    <tr>\n",
       "      <th>std</th>\n",
       "      <td>14.040023</td>\n",
       "      <td>973.652179</td>\n",
       "      <td>23.408989</td>\n",
       "      <td>7.057555</td>\n",
       "      <td>0.000557</td>\n",
       "      <td>NaN</td>\n",
       "    </tr>\n",
       "    <tr>\n",
       "      <th>min</th>\n",
       "      <td>0.125000</td>\n",
       "      <td>0.000000</td>\n",
       "      <td>375.000000</td>\n",
       "      <td>0.003968</td>\n",
       "      <td>0.029510</td>\n",
       "      <td>NaN</td>\n",
       "    </tr>\n",
       "    <tr>\n",
       "      <th>25%</th>\n",
       "      <td>2.255001</td>\n",
       "      <td>433.863864</td>\n",
       "      <td>420.000000</td>\n",
       "      <td>0.119048</td>\n",
       "      <td>0.029820</td>\n",
       "      <td>NaN</td>\n",
       "    </tr>\n",
       "    <tr>\n",
       "      <th>50%</th>\n",
       "      <td>11.190967</td>\n",
       "      <td>442.634081</td>\n",
       "      <td>440.000000</td>\n",
       "      <td>0.202381</td>\n",
       "      <td>0.030130</td>\n",
       "      <td>NaN</td>\n",
       "    </tr>\n",
       "    <tr>\n",
       "      <th>75%</th>\n",
       "      <td>25.747434</td>\n",
       "      <td>447.320414</td>\n",
       "      <td>455.000000</td>\n",
       "      <td>0.285714</td>\n",
       "      <td>0.030540</td>\n",
       "      <td>NaN</td>\n",
       "    </tr>\n",
       "    <tr>\n",
       "      <th>max</th>\n",
       "      <td>60.149367</td>\n",
       "      <td>40333.000000</td>\n",
       "      <td>500.000000</td>\n",
       "      <td>250.000000</td>\n",
       "      <td>0.031880</td>\n",
       "      <td>NaN</td>\n",
       "    </tr>\n",
       "  </tbody>\n",
       "</table>\n",
       "</div>"
      ],
      "text/plain": [
       "              Value             S            K          tau            r  \\\n",
       "count   1678.000000   1679.000000  1678.000000  1679.000000  1680.000000   \n",
       "unique          NaN           NaN          NaN          NaN          NaN   \n",
       "top             NaN           NaN          NaN          NaN          NaN   \n",
       "freq            NaN           NaN          NaN          NaN          NaN   \n",
       "mean      15.068709    464.402535   438.241955     0.437519     0.030235   \n",
       "std       14.040023    973.652179    23.408989     7.057555     0.000557   \n",
       "min        0.125000      0.000000   375.000000     0.003968     0.029510   \n",
       "25%        2.255001    433.863864   420.000000     0.119048     0.029820   \n",
       "50%       11.190967    442.634081   440.000000     0.202381     0.030130   \n",
       "75%       25.747434    447.320414   455.000000     0.285714     0.030540   \n",
       "max       60.149367  40333.000000   500.000000   250.000000     0.031880   \n",
       "\n",
       "           BS  \n",
       "count    1680  \n",
       "unique      2  \n",
       "top     Under  \n",
       "freq      946  \n",
       "mean      NaN  \n",
       "std       NaN  \n",
       "min       NaN  \n",
       "25%       NaN  \n",
       "50%       NaN  \n",
       "75%       NaN  \n",
       "max       NaN  "
      ]
     },
     "execution_count": 3,
     "metadata": {},
     "output_type": "execute_result"
    }
   ],
   "source": [
    "train_data.describe(include='all')"
   ]
  },
  {
   "cell_type": "code",
   "execution_count": 4,
   "metadata": {
    "cell_id": "bc25bc58fd58442d9fbfe4375941bd36",
    "deepnote_cell_type": "code",
    "deepnote_to_be_reexecuted": false,
    "execution_millis": 31,
    "execution_start": 1681681185096,
    "source_hash": "9456a8b0"
   },
   "outputs": [
    {
     "name": "stdout",
     "output_type": "stream",
     "text": [
      "<class 'pandas.core.frame.DataFrame'>\n",
      "RangeIndex: 1680 entries, 0 to 1679\n",
      "Data columns (total 6 columns):\n",
      " #   Column  Non-Null Count  Dtype  \n",
      "---  ------  --------------  -----  \n",
      " 0   Value   1678 non-null   float64\n",
      " 1   S       1679 non-null   float64\n",
      " 2   K       1678 non-null   float64\n",
      " 3   tau     1679 non-null   float64\n",
      " 4   r       1680 non-null   float64\n",
      " 5   BS      1680 non-null   object \n",
      "dtypes: float64(5), object(1)\n",
      "memory usage: 78.9+ KB\n"
     ]
    }
   ],
   "source": [
    "train_data.info()"
   ]
  },
  {
   "cell_type": "code",
   "execution_count": 5,
   "metadata": {
    "cell_id": "ff82d24d1a4549c3b77fdcd9c65a3c92",
    "deepnote_cell_type": "code",
    "deepnote_to_be_reexecuted": false,
    "execution_millis": 19,
    "execution_start": 1681681187167,
    "source_hash": "4264a62"
   },
   "outputs": [
    {
     "data": {
      "text/plain": [
       "Value    1678\n",
       "S        1679\n",
       "K        1678\n",
       "tau      1679\n",
       "r        1680\n",
       "BS       1680\n",
       "dtype: int64"
      ]
     },
     "execution_count": 5,
     "metadata": {},
     "output_type": "execute_result"
    }
   ],
   "source": [
    "train_data.count()"
   ]
  },
  {
   "cell_type": "code",
   "execution_count": 6,
   "metadata": {
    "cell_id": "d950333e4a21480f8c2a695c53e93012",
    "deepnote_cell_type": "code",
    "deepnote_to_be_reexecuted": false,
    "execution_millis": 8,
    "execution_start": 1681681188478,
    "source_hash": "651401f7"
   },
   "outputs": [
    {
     "data": {
      "text/plain": [
       "1680"
      ]
     },
     "execution_count": 6,
     "metadata": {},
     "output_type": "execute_result"
    }
   ],
   "source": [
    "numrecords = len(train_data)\n",
    "numrecords"
   ]
  },
  {
   "cell_type": "markdown",
   "metadata": {
    "cell_id": "db413dafa47a4e8db429afe082e45b1e",
    "deepnote_cell_type": "text-cell-h2",
    "formattedRanges": []
   },
   "source": [
    "## Check for missing and erroneous entries"
   ]
  },
  {
   "cell_type": "markdown",
   "metadata": {
    "cell_id": "ad6b1009295643e58a14fd3870a8f275",
    "deepnote_cell_type": "text-cell-h3",
    "formattedRanges": []
   },
   "source": [
    "### 'Value' in train_data (2 missing)"
   ]
  },
  {
   "cell_type": "code",
   "execution_count": 7,
   "metadata": {
    "cell_id": "74a823cd558e40a4b540814b32a348fb",
    "deepnote_cell_type": "code",
    "deepnote_to_be_reexecuted": false,
    "execution_millis": 67,
    "execution_start": 1681681194798,
    "source_hash": "930a4720"
   },
   "outputs": [],
   "source": [
    "# # Value\n",
    "# train_data['Value'].sort_values(ascending = False)"
   ]
  },
  {
   "cell_type": "code",
   "execution_count": 8,
   "metadata": {
    "cell_id": "f5f5366a36454f438928af56c4f7c1ba",
    "deepnote_cell_type": "code",
    "deepnote_to_be_reexecuted": true,
    "execution_millis": 363652,
    "execution_start": 1681680671447,
    "source_hash": "137484b7"
   },
   "outputs": [
    {
     "data": {
      "text/plain": [
       "<AxesSubplot:xlabel='Value'>"
      ]
     },
     "execution_count": 8,
     "metadata": {},
     "output_type": "execute_result"
    },
    {
     "data": {
      "image/png": "[encoded data removed]",
      "text/plain": [
       "<Figure size 432x288 with 1 Axes>"
      ]
     },
     "metadata": {
      "needs_background": "light"
     },
     "output_type": "display_data"
    }
   ],
   "source": [
    "sns.boxplot(x='Value', data=train_data)"
   ]
  },
  {
   "cell_type": "code",
   "execution_count": 9,
   "metadata": {
    "cell_id": "55df9a8d5aec4d78a06210878108c4b6",
    "deepnote_cell_type": "code",
    "deepnote_to_be_reexecuted": true,
    "execution_millis": 362968,
    "execution_start": 1681680672132,
    "source_hash": "6ba0dfe5"
   },
   "outputs": [
    {
     "data": {
      "text/plain": [
       "Text(0, 0.5, 'Count')"
      ]
     },
     "execution_count": 9,
     "metadata": {},
     "output_type": "execute_result"
    },
    {
     "data": {
      "image/png": "[encoded data removed]",
      "text/plain": [
       "<Figure size 432x288 with 1 Axes>"
      ]
     },
     "metadata": {
      "needs_background": "light"
     },
     "output_type": "display_data"
    }
   ],
   "source": [
    "plt.hist(train_data['Value'], bins=30)\n",
    "plt.xlabel('Value (C) - Current Option Value')\n",
    "plt.ylabel('Count')"
   ]
  },
  {
   "cell_type": "code",
   "execution_count": 10,
   "metadata": {
    "cell_id": "ba98554475ea4a58a30ba2e21f87aca1",
    "deepnote_cell_type": "code",
    "deepnote_to_be_reexecuted": true,
    "execution_millis": 361665,
    "execution_start": 1681680673452,
    "source_hash": "7f6d6bde"
   },
   "outputs": [
    {
     "data": {
      "text/plain": [
       "1678"
      ]
     },
     "execution_count": 10,
     "metadata": {},
     "output_type": "execute_result"
    }
   ],
   "source": [
    "train_data['Value'].count()"
   ]
  },
  {
   "cell_type": "code",
   "execution_count": 11,
   "metadata": {
    "cell_id": "cabed90aac67427ba025163ac1609cfd",
    "deepnote_cell_type": "code",
    "deepnote_to_be_reexecuted": false,
    "execution_millis": 11,
    "execution_start": 1681681199512,
    "source_hash": "4a9ed8e4"
   },
   "outputs": [
    {
     "data": {
      "text/plain": [
       "2"
      ]
     },
     "execution_count": 11,
     "metadata": {},
     "output_type": "execute_result"
    }
   ],
   "source": [
    "train_data['Value'].isnull().sum()"
   ]
  },
  {
   "cell_type": "code",
   "execution_count": 12,
   "metadata": {
    "cell_id": "8ed80052238c412c80dc6d392c3748b1",
    "deepnote_cell_type": "code",
    "deepnote_to_be_reexecuted": false,
    "execution_millis": 12,
    "execution_start": 1681681203168,
    "source_hash": "1947a4e7"
   },
   "outputs": [],
   "source": [
    "# # We use mean imputation technique to replace the missing value with the mean value of the entire Value column\n",
    "# imp = SimpleImputer(missing_values = np.nan, strategy = 'mean')\n",
    "# imp = imp.fit(train_data['Value'].values.reshape(-1,1))\n",
    "# imputed_valueData = imp.transform(train_data['Value'].values.reshape(-1,1))\n",
    "# imputed_valueData"
   ]
  },
  {
   "cell_type": "code",
   "execution_count": 13,
   "metadata": {
    "cell_id": "fe7cb371deeb414a9e5055e8e5b1b5f8",
    "deepnote_cell_type": "code",
    "deepnote_to_be_reexecuted": false,
    "execution_millis": 32,
    "execution_start": 1681681217889,
    "source_hash": "84621dd"
   },
   "outputs": [],
   "source": [
    "# train_data['Value'] = imputed_valueData.flatten()"
   ]
  },
  {
   "cell_type": "code",
   "execution_count": 14,
   "metadata": {
    "cell_id": "0dc8d974ca3348e1a0241fecd8efa79c",
    "deepnote_cell_type": "code",
    "deepnote_table_loading": false,
    "deepnote_table_state": {
     "filters": [],
     "pageIndex": 0,
     "pageSize": 10,
     "sortBy": []
    },
    "deepnote_to_be_reexecuted": false,
    "execution_millis": 232,
    "execution_start": 1681681220252,
    "source_hash": "b8a9d4fb"
   },
   "outputs": [],
   "source": [
    "# train_data.describe(include = 'all')"
   ]
  },
  {
   "cell_type": "code",
   "execution_count": 15,
   "metadata": {
    "cell_id": "50792dc061764227af8b3375da8b87b1",
    "deepnote_cell_type": "code",
    "deepnote_to_be_reexecuted": false,
    "execution_millis": 29,
    "execution_start": 1681681222574,
    "source_hash": "4a9ed8e4"
   },
   "outputs": [],
   "source": [
    "# train_data['Value'].isnull().sum()"
   ]
  },
  {
   "cell_type": "markdown",
   "metadata": {
    "cell_id": "069cc956d466422c97ed33ffb99b27f1",
    "deepnote_cell_type": "text-cell-h3",
    "formattedRanges": []
   },
   "source": [
    "### 'S' in train_data (1 missing)"
   ]
  },
  {
   "cell_type": "code",
   "execution_count": 16,
   "metadata": {
    "cell_id": "cd07a12433734780a27d93a00404faae",
    "deepnote_cell_type": "code",
    "deepnote_to_be_reexecuted": false,
    "execution_millis": 8,
    "execution_start": 1681681227931,
    "source_hash": "9959a337"
   },
   "outputs": [
    {
     "data": {
      "text/plain": [
       "1679"
      ]
     },
     "execution_count": 16,
     "metadata": {},
     "output_type": "execute_result"
    }
   ],
   "source": [
    "# len(train_data['Value'])\n",
    "# Total numbers of value in S column\n",
    "train_data['S'].count()"
   ]
  },
  {
   "cell_type": "code",
   "execution_count": 17,
   "metadata": {
    "cell_id": "5a451730162947a5aac9d04ced3acecd",
    "deepnote_cell_type": "code",
    "deepnote_to_be_reexecuted": false,
    "execution_millis": 8,
    "execution_start": 1681681229669,
    "source_hash": "b5c18625"
   },
   "outputs": [
    {
     "data": {
      "text/plain": [
       "1"
      ]
     },
     "execution_count": 17,
     "metadata": {},
     "output_type": "execute_result"
    }
   ],
   "source": [
    "# Number of missing value in S column\n",
    "train_data['S'].isnull().sum()"
   ]
  },
  {
   "cell_type": "code",
   "execution_count": 18,
   "metadata": {
    "cell_id": "0f6431230acc4f5896021f6a56a316fb",
    "deepnote_cell_type": "code",
    "deepnote_to_be_reexecuted": false,
    "execution_millis": 4,
    "execution_start": 1681681231554,
    "source_hash": "95034485"
   },
   "outputs": [
    {
     "data": {
      "text/plain": [
       "0.0"
      ]
     },
     "execution_count": 18,
     "metadata": {},
     "output_type": "execute_result"
    }
   ],
   "source": [
    "# Minimum\n",
    "train_data['S'].min()"
   ]
  },
  {
   "cell_type": "code",
   "execution_count": 19,
   "metadata": {
    "cell_id": "85e10c2393ce4ed59aaeed3d5a0ad405",
    "deepnote_cell_type": "code",
    "deepnote_to_be_reexecuted": false,
    "execution_millis": 65,
    "execution_start": 1681681233292,
    "source_hash": "7070d4d3"
   },
   "outputs": [
    {
     "data": {
      "text/plain": [
       "40333.0"
      ]
     },
     "execution_count": 19,
     "metadata": {},
     "output_type": "execute_result"
    }
   ],
   "source": [
    "# Maximum\n",
    "train_data['S'].max()"
   ]
  },
  {
   "cell_type": "code",
   "execution_count": 20,
   "metadata": {
    "cell_id": "71167ccf29754cd59c3169ff7e5e4102",
    "deepnote_cell_type": "code",
    "deepnote_to_be_reexecuted": false,
    "execution_millis": 69,
    "execution_start": 1681681235089,
    "source_hash": "c193c4bb"
   },
   "outputs": [],
   "source": [
    "# train_data['S'].sort_values(ascending = False)"
   ]
  },
  {
   "cell_type": "code",
   "execution_count": 21,
   "metadata": {
    "cell_id": "f1e2b146dec74d7f9865985f93731846",
    "deepnote_cell_type": "code",
    "deepnote_to_be_reexecuted": false,
    "execution_millis": 139,
    "execution_start": 1681681041472,
    "source_hash": "4d0fc320"
   },
   "outputs": [
    {
     "data": {
      "text/plain": [
       "Text(0, 0.5, 'Count')"
      ]
     },
     "execution_count": 21,
     "metadata": {},
     "output_type": "execute_result"
    },
    {
     "data": {
      "image/png": "[encoded data removed]",
      "text/plain": [
       "<Figure size 432x288 with 1 Axes>"
      ]
     },
     "metadata": {
      "needs_background": "light"
     },
     "output_type": "display_data"
    }
   ],
   "source": [
    "plt.hist(train_data['S'], bins=30)\n",
    "plt.xlabel('S')\n",
    "plt.ylabel('Count')"
   ]
  },
  {
   "cell_type": "code",
   "execution_count": 22,
   "metadata": {
    "cell_id": "0ff38baa75b043e78e580c1178bcb4e8",
    "deepnote_cell_type": "code",
    "deepnote_to_be_reexecuted": false,
    "execution_millis": 46,
    "execution_start": 1681681042172,
    "source_hash": "81e935d"
   },
   "outputs": [
    {
     "data": {
      "text/plain": [
       "<AxesSubplot:xlabel='S'>"
      ]
     },
     "execution_count": 22,
     "metadata": {},
     "output_type": "execute_result"
    },
    {
     "data": {
      "image/png": "[encoded data removed]",
      "text/plain": [
       "<Figure size 432x288 with 1 Axes>"
      ]
     },
     "metadata": {
      "needs_background": "light"
     },
     "output_type": "display_data"
    }
   ],
   "source": [
    "sns.boxplot(x='S', data=train_data)"
   ]
  },
  {
   "cell_type": "code",
   "execution_count": 23,
   "metadata": {
    "cell_id": "438af9dbb51d46db818239b9a2a7f5de",
    "deepnote_cell_type": "code",
    "deepnote_to_be_reexecuted": false,
    "execution_millis": 53,
    "execution_start": 1681681042650,
    "source_hash": "42bd1fdc"
   },
   "outputs": [],
   "source": [
    "train_data.drop(train_data[train_data['S'] > 40000].index , inplace=True)\n",
    "train_data.drop(train_data[train_data['S'] == 0].index , inplace=True)"
   ]
  },
  {
   "cell_type": "code",
   "execution_count": 24,
   "metadata": {
    "cell_id": "d43ab5739825417fbf806e57f0cf74b5",
    "deepnote_cell_type": "code",
    "deepnote_to_be_reexecuted": false,
    "execution_millis": 52,
    "execution_start": 1681681042651,
    "source_hash": "caf06908"
   },
   "outputs": [],
   "source": [
    "# train_data['S'].sort_values(ascending = True)"
   ]
  },
  {
   "cell_type": "code",
   "execution_count": 25,
   "metadata": {
    "cell_id": "fa7f9941401e491b882c0b9732165bca",
    "deepnote_cell_type": "code",
    "deepnote_to_be_reexecuted": false,
    "execution_millis": 80,
    "execution_start": 1681681045496,
    "source_hash": "81e935d"
   },
   "outputs": [
    {
     "data": {
      "text/plain": [
       "<AxesSubplot:xlabel='S'>"
      ]
     },
     "execution_count": 25,
     "metadata": {},
     "output_type": "execute_result"
    },
    {
     "data": {
      "image/png": "[encoded data removed]",
      "text/plain": [
       "<Figure size 432x288 with 1 Axes>"
      ]
     },
     "metadata": {
      "needs_background": "light"
     },
     "output_type": "display_data"
    }
   ],
   "source": [
    "sns.boxplot(x='S', data=train_data)"
   ]
  },
  {
   "cell_type": "code",
   "execution_count": 26,
   "metadata": {
    "cell_id": "a600f3364bc9407faa49fee145db0877",
    "deepnote_cell_type": "code",
    "deepnote_to_be_reexecuted": false,
    "execution_millis": 183,
    "execution_start": 1681681046002,
    "source_hash": "4d0fc320"
   },
   "outputs": [
    {
     "data": {
      "text/plain": [
       "Text(0, 0.5, 'Count')"
      ]
     },
     "execution_count": 26,
     "metadata": {},
     "output_type": "execute_result"
    },
    {
     "data": {
      "image/png": "[encoded data removed]",
      "text/plain": [
       "<Figure size 432x288 with 1 Axes>"
      ]
     },
     "metadata": {
      "needs_background": "light"
     },
     "output_type": "display_data"
    }
   ],
   "source": [
    "plt.hist(train_data['S'], bins=30)\n",
    "plt.xlabel('S')\n",
    "plt.ylabel('Count')"
   ]
  },
  {
   "cell_type": "code",
   "execution_count": 27,
   "metadata": {
    "cell_id": "5eb2bb339edc40e6b320d4b79d027eff",
    "deepnote_cell_type": "code",
    "deepnote_to_be_reexecuted": false,
    "execution_millis": 45,
    "execution_start": 1681681046891,
    "source_hash": "172b2739"
   },
   "outputs": [
    {
     "name": "stdout",
     "output_type": "stream",
     "text": [
      "Min 425.4723309 Max 455.8806188\n"
     ]
    }
   ],
   "source": [
    "smin = train_data['S'].min()\n",
    "smax = train_data['S'].max()\n",
    "\n",
    "print('Min', smin, 'Max', smax)"
   ]
  },
  {
   "cell_type": "code",
   "execution_count": 28,
   "metadata": {
    "cell_id": "bdea167e49594a0894e9b8bd41957fa9",
    "deepnote_cell_type": "code",
    "deepnote_to_be_reexecuted": false,
    "execution_millis": 97,
    "execution_start": 1681681046900,
    "source_hash": "abe0442"
   },
   "outputs": [],
   "source": [
    "# # Filling missing value using mean imputation\n",
    "# imp = SimpleImputer(missing_values = np.nan, strategy = 'mean')\n",
    "# imp = imp.fit(train_data['S'].values.reshape(-1,1))\n",
    "# imputed_sData = imp.transform(train_data['S'].values.reshape(-1,1))\n",
    "# imputed_sData"
   ]
  },
  {
   "cell_type": "code",
   "execution_count": 29,
   "metadata": {
    "cell_id": "17d5afcb1ca24f2c9fae40f4eec13a86",
    "deepnote_cell_type": "code",
    "deepnote_to_be_reexecuted": false,
    "execution_millis": 31,
    "execution_start": 1681681046976,
    "source_hash": "86f3ab25"
   },
   "outputs": [],
   "source": [
    "# imputed_sData.shape"
   ]
  },
  {
   "cell_type": "code",
   "execution_count": 30,
   "metadata": {
    "cell_id": "3be78ed5af904b6495e7daf844f17130",
    "deepnote_cell_type": "code",
    "deepnote_to_be_reexecuted": false,
    "execution_millis": 28,
    "execution_start": 1681681046985,
    "source_hash": "4ea7558a"
   },
   "outputs": [],
   "source": [
    "# train_data['S'] = imputed_sData.flatten()"
   ]
  },
  {
   "cell_type": "code",
   "execution_count": 31,
   "metadata": {
    "cell_id": "13da34d282f54892b1fe3ca0b48203a9",
    "deepnote_cell_type": "code",
    "deepnote_to_be_reexecuted": false,
    "execution_millis": 1,
    "execution_start": 1681681047035,
    "source_hash": "c21c41ff"
   },
   "outputs": [
    {
     "data": {
      "text/plain": [
       "1"
      ]
     },
     "execution_count": 31,
     "metadata": {},
     "output_type": "execute_result"
    }
   ],
   "source": [
    "train_data['S'].isnull().sum()"
   ]
  },
  {
   "cell_type": "code",
   "execution_count": 32,
   "metadata": {
    "cell_id": "4ec7a22475e44c4392a166ec144ade97",
    "deepnote_cell_type": "code",
    "deepnote_to_be_reexecuted": false,
    "execution_millis": 1,
    "execution_start": 1681681048709,
    "source_hash": "4264a62"
   },
   "outputs": [
    {
     "data": {
      "text/plain": [
       "Value    1676\n",
       "S        1677\n",
       "K        1676\n",
       "tau      1677\n",
       "r        1678\n",
       "BS       1678\n",
       "dtype: int64"
      ]
     },
     "execution_count": 32,
     "metadata": {},
     "output_type": "execute_result"
    }
   ],
   "source": [
    "train_data.count()"
   ]
  },
  {
   "cell_type": "code",
   "execution_count": 33,
   "metadata": {
    "cell_id": "0b0062a3002f4e07bc7644f25443787b",
    "deepnote_cell_type": "code",
    "deepnote_to_be_reexecuted": false,
    "execution_millis": 158,
    "execution_start": 1681681048718,
    "source_hash": "b8a9d4fb"
   },
   "outputs": [],
   "source": [
    "# train_data.describe(include = 'all')"
   ]
  },
  {
   "cell_type": "markdown",
   "metadata": {
    "cell_id": "92eb54157ab643e1a12244cb56bcbd4a",
    "deepnote_cell_type": "text-cell-h3",
    "formattedRanges": []
   },
   "source": [
    "### 'K' in train_data (2 missing)"
   ]
  },
  {
   "cell_type": "code",
   "execution_count": 34,
   "metadata": {
    "cell_id": "d95e982da8a94fa0807e6e5fd245a0a9",
    "deepnote_cell_type": "code",
    "deepnote_to_be_reexecuted": false,
    "execution_millis": 1,
    "execution_start": 1681681048904,
    "source_hash": "40235df1"
   },
   "outputs": [
    {
     "data": {
      "text/plain": [
       "1676"
      ]
     },
     "execution_count": 34,
     "metadata": {},
     "output_type": "execute_result"
    }
   ],
   "source": [
    "# Total numbers of value in K column\n",
    "train_data['K'].count()"
   ]
  },
  {
   "cell_type": "code",
   "execution_count": 35,
   "metadata": {
    "cell_id": "336fa649fdda42408f976c1a83317570",
    "deepnote_cell_type": "code",
    "deepnote_to_be_reexecuted": false,
    "execution_millis": 2,
    "execution_start": 1681681048904,
    "source_hash": "48cceb0d"
   },
   "outputs": [
    {
     "data": {
      "text/plain": [
       "2"
      ]
     },
     "execution_count": 35,
     "metadata": {},
     "output_type": "execute_result"
    }
   ],
   "source": [
    "# Number of missing value in K column\n",
    "train_data['K'].isnull().sum()"
   ]
  },
  {
   "cell_type": "code",
   "execution_count": 36,
   "metadata": {
    "cell_id": "da08afa441e94f9fb7cc2b506dafb37b",
    "deepnote_cell_type": "code",
    "deepnote_to_be_reexecuted": false,
    "execution_millis": 78,
    "execution_start": 1681681048905,
    "source_hash": "c71f8435"
   },
   "outputs": [],
   "source": [
    "# imp = SimpleImputer(missing_values = np.nan, strategy = 'mean')\n",
    "# imp = imp.fit(train_data['K'].values.reshape(-1,1))\n",
    "# imputed_kData = imp.transform(train_data['K'].values.reshape(-1,1))\n",
    "# imputed_kData"
   ]
  },
  {
   "cell_type": "code",
   "execution_count": 37,
   "metadata": {
    "cell_id": "caa48b0ab94e4f1bb2afa84deaea361f",
    "deepnote_cell_type": "code",
    "deepnote_to_be_reexecuted": false,
    "execution_millis": 1,
    "execution_start": 1681681053614,
    "source_hash": "54275582"
   },
   "outputs": [],
   "source": [
    "# train_data['K'] = imputed_kData.flatten()"
   ]
  },
  {
   "cell_type": "code",
   "execution_count": 38,
   "metadata": {
    "cell_id": "c0f178eba01f486b942c139069eac5a0",
    "deepnote_cell_type": "code",
    "deepnote_to_be_reexecuted": false,
    "execution_millis": 46,
    "execution_start": 1681681053621,
    "source_hash": "c7e2443e"
   },
   "outputs": [
    {
     "data": {
      "text/plain": [
       "2"
      ]
     },
     "execution_count": 38,
     "metadata": {},
     "output_type": "execute_result"
    }
   ],
   "source": [
    "train_data['K'].isnull().sum()"
   ]
  },
  {
   "cell_type": "code",
   "execution_count": 39,
   "metadata": {
    "cell_id": "88d99c91dc54456a83b8a4e07a809804",
    "deepnote_cell_type": "code",
    "deepnote_to_be_reexecuted": false,
    "execution_millis": 66,
    "execution_start": 1681681053671,
    "source_hash": "4264a62"
   },
   "outputs": [],
   "source": [
    "# train_data.count()"
   ]
  },
  {
   "cell_type": "code",
   "execution_count": 40,
   "metadata": {
    "cell_id": "6a3179443c63416ea212072ba4304a1c",
    "deepnote_cell_type": "code",
    "deepnote_table_loading": false,
    "deepnote_table_state": {
     "filters": [],
     "pageIndex": 0,
     "pageSize": 10,
     "sortBy": []
    },
    "deepnote_to_be_reexecuted": false,
    "execution_millis": 137,
    "execution_start": 1681681057838,
    "source_hash": "b8a9d4fb"
   },
   "outputs": [],
   "source": [
    "# train_data.describe(include = 'all')"
   ]
  },
  {
   "cell_type": "markdown",
   "metadata": {
    "cell_id": "6ed0e5d49fea4c20a00f2593ed3f9b65",
    "deepnote_cell_type": "text-cell-h3",
    "formattedRanges": []
   },
   "source": [
    "### 'tau' in train_data (1 missing)"
   ]
  },
  {
   "cell_type": "code",
   "execution_count": 41,
   "metadata": {
    "cell_id": "ffc49d5fa19d47bb9e7bafd2038f00f5",
    "deepnote_cell_type": "code",
    "deepnote_to_be_reexecuted": false,
    "execution_millis": 13,
    "execution_start": 1681681065965,
    "source_hash": "cef18e95"
   },
   "outputs": [
    {
     "data": {
      "text/plain": [
       "1677"
      ]
     },
     "execution_count": 41,
     "metadata": {},
     "output_type": "execute_result"
    }
   ],
   "source": [
    "# Total numbers of value in tau column\n",
    "train_data['tau'].count()"
   ]
  },
  {
   "cell_type": "code",
   "execution_count": 42,
   "metadata": {
    "cell_id": "b7912e5676b549b183781674dc7d896a",
    "deepnote_cell_type": "code",
    "deepnote_to_be_reexecuted": false,
    "execution_millis": 56,
    "execution_start": 1681681076627,
    "source_hash": "9531fe74"
   },
   "outputs": [
    {
     "data": {
      "text/plain": [
       "1"
      ]
     },
     "execution_count": 42,
     "metadata": {},
     "output_type": "execute_result"
    }
   ],
   "source": [
    "# Number of missing value in tau column\n",
    "train_data['tau'].isnull().sum()"
   ]
  },
  {
   "cell_type": "code",
   "execution_count": 43,
   "metadata": {
    "cell_id": "5ef0792da45d4f71a1313718ec8c17b5",
    "deepnote_cell_type": "code",
    "deepnote_to_be_reexecuted": false,
    "execution_millis": 142,
    "execution_start": 1681681078520,
    "source_hash": "93f5b7b"
   },
   "outputs": [
    {
     "data": {
      "text/plain": [
       "Text(0, 0.5, 'Count')"
      ]
     },
     "execution_count": 43,
     "metadata": {},
     "output_type": "execute_result"
    },
    {
     "data": {
      "image/png": "[encoded data removed]",
      "text/plain": [
       "<Figure size 432x288 with 1 Axes>"
      ]
     },
     "metadata": {
      "needs_background": "light"
     },
     "output_type": "display_data"
    }
   ],
   "source": [
    "plt.hist(train_data['tau'], bins=30)\n",
    "plt.xlabel('tau - Time to Maturity (in years)')\n",
    "plt.ylabel('Count')"
   ]
  },
  {
   "cell_type": "code",
   "execution_count": 44,
   "metadata": {
    "cell_id": "45fcd26a07044fc68c36813caa4a7513",
    "deepnote_cell_type": "code",
    "deepnote_to_be_reexecuted": false,
    "execution_millis": 183,
    "execution_start": 1681681085140,
    "source_hash": "75088984"
   },
   "outputs": [
    {
     "data": {
      "text/plain": [
       "<AxesSubplot:xlabel='tau'>"
      ]
     },
     "execution_count": 44,
     "metadata": {},
     "output_type": "execute_result"
    },
    {
     "data": {
      "image/png": "[encoded data removed]",
      "text/plain": [
       "<Figure size 432x288 with 1 Axes>"
      ]
     },
     "metadata": {
      "needs_background": "light"
     },
     "output_type": "display_data"
    }
   ],
   "source": [
    "sns.boxplot(x='tau', data=train_data)"
   ]
  },
  {
   "cell_type": "code",
   "execution_count": 45,
   "metadata": {
    "cell_id": "d18a57055e6e41a39de154a18099bac5",
    "deepnote_cell_type": "code",
    "deepnote_to_be_reexecuted": false,
    "execution_millis": 21,
    "execution_start": 1681681089208,
    "source_hash": "afa47691"
   },
   "outputs": [],
   "source": [
    "# train_data['tau'].sort_values(ascending = False)"
   ]
  },
  {
   "cell_type": "code",
   "execution_count": 46,
   "metadata": {
    "cell_id": "afaf3a397d0d46bd874e783f48e8efd7",
    "deepnote_cell_type": "code",
    "deepnote_to_be_reexecuted": false,
    "execution_millis": 13,
    "execution_start": 1681681091127,
    "source_hash": "66a569b1"
   },
   "outputs": [],
   "source": [
    "train_data.drop(train_data[train_data['tau'] > 1].index , inplace=True)"
   ]
  },
  {
   "cell_type": "code",
   "execution_count": 47,
   "metadata": {
    "cell_id": "0b2247bede154ff08e41d1a8831f9930",
    "deepnote_cell_type": "code",
    "deepnote_to_be_reexecuted": false,
    "execution_millis": 18,
    "execution_start": 1681681092597,
    "source_hash": "afa47691"
   },
   "outputs": [],
   "source": [
    "# train_data['tau'].sort_values(ascending = False)"
   ]
  },
  {
   "cell_type": "code",
   "execution_count": 48,
   "metadata": {
    "cell_id": "db7365b872d5488cb95bd172bebcb7b7",
    "deepnote_cell_type": "code",
    "deepnote_to_be_reexecuted": false,
    "execution_millis": 143,
    "execution_start": 1681681094331,
    "source_hash": "75088984"
   },
   "outputs": [
    {
     "data": {
      "text/plain": [
       "<AxesSubplot:xlabel='tau'>"
      ]
     },
     "execution_count": 48,
     "metadata": {},
     "output_type": "execute_result"
    },
    {
     "data": {
      "image/png": "[encoded data removed]",
      "text/plain": [
       "<Figure size 432x288 with 1 Axes>"
      ]
     },
     "metadata": {
      "needs_background": "light"
     },
     "output_type": "display_data"
    }
   ],
   "source": [
    "sns.boxplot(x='tau', data=train_data)"
   ]
  },
  {
   "cell_type": "code",
   "execution_count": 49,
   "metadata": {
    "cell_id": "907cc74a0f4549f88736470ad13fb6cb",
    "deepnote_cell_type": "code",
    "deepnote_to_be_reexecuted": false,
    "execution_millis": 314,
    "execution_start": 1681681096980,
    "source_hash": "93f5b7b"
   },
   "outputs": [
    {
     "data": {
      "text/plain": [
       "Text(0, 0.5, 'Count')"
      ]
     },
     "execution_count": 49,
     "metadata": {},
     "output_type": "execute_result"
    },
    {
     "data": {
      "image/png": "[encoded data removed]",
      "text/plain": [
       "<Figure size 432x288 with 1 Axes>"
      ]
     },
     "metadata": {
      "needs_background": "light"
     },
     "output_type": "display_data"
    }
   ],
   "source": [
    "plt.hist(train_data['tau'], bins=30)\n",
    "plt.xlabel('tau - Time to Maturity (in years)')\n",
    "plt.ylabel('Count')"
   ]
  },
  {
   "cell_type": "code",
   "execution_count": 50,
   "metadata": {
    "cell_id": "308c7d62d6b84e728db84d7093fde57e",
    "deepnote_cell_type": "code",
    "deepnote_to_be_reexecuted": false,
    "execution_millis": 5,
    "execution_start": 1681681102625,
    "source_hash": "d9bca5c8"
   },
   "outputs": [],
   "source": [
    "# imp = SimpleImputer(missing_values = np.nan, strategy = 'mean')\n",
    "# imp = imp.fit(train_data['tau'].values.reshape(-1,1))\n",
    "# imputed_tauData = imp.transform(train_data['tau'].values.reshape(-1,1))\n",
    "# imputed_tauData"
   ]
  },
  {
   "cell_type": "code",
   "execution_count": 51,
   "metadata": {
    "cell_id": "4408700fd1d74f059e6dc51002c04e79",
    "deepnote_cell_type": "code",
    "deepnote_to_be_reexecuted": false,
    "execution_millis": 33,
    "execution_start": 1681681104148,
    "source_hash": "86bec871"
   },
   "outputs": [],
   "source": [
    "# train_data['tau'] = imputed_tauData.flatten()"
   ]
  },
  {
   "cell_type": "code",
   "execution_count": 52,
   "metadata": {
    "cell_id": "196def7e21e9421791a0c423de0cb3a9",
    "deepnote_cell_type": "code",
    "deepnote_to_be_reexecuted": false,
    "execution_millis": 9,
    "execution_start": 1681681107037,
    "source_hash": "9dab0011"
   },
   "outputs": [],
   "source": [
    "# train_data['tau'].isnull().sum()"
   ]
  },
  {
   "cell_type": "code",
   "execution_count": 53,
   "metadata": {
    "cell_id": "fac06dae47aa428e8f1720d5373a644f",
    "deepnote_cell_type": "code",
    "deepnote_to_be_reexecuted": false,
    "execution_millis": 16,
    "execution_start": 1681681112477,
    "source_hash": "4264a62"
   },
   "outputs": [],
   "source": [
    "# train_data.count()"
   ]
  },
  {
   "cell_type": "code",
   "execution_count": 54,
   "metadata": {
    "cell_id": "d59545aca3a44e49a1d79cfeb148ac44",
    "deepnote_cell_type": "code",
    "deepnote_table_loading": false,
    "deepnote_table_state": {
     "filters": [],
     "pageIndex": 0,
     "pageSize": 10,
     "sortBy": []
    },
    "deepnote_to_be_reexecuted": false,
    "execution_millis": 220,
    "execution_start": 1681681114449,
    "source_hash": "b8a9d4fb"
   },
   "outputs": [],
   "source": [
    "# train_data.describe(include = 'all')"
   ]
  },
  {
   "cell_type": "markdown",
   "metadata": {
    "cell_id": "9a74a213e5b4487182b211abea7e24ea",
    "deepnote_cell_type": "text-cell-h3",
    "formattedRanges": []
   },
   "source": [
    "### 'r' in train_data"
   ]
  },
  {
   "cell_type": "code",
   "execution_count": 55,
   "metadata": {
    "cell_id": "376c3c0fd9844603ab68986abe941dc1",
    "deepnote_cell_type": "code",
    "deepnote_to_be_reexecuted": false,
    "execution_millis": 11,
    "execution_start": 1681681123026,
    "source_hash": "742eeeab"
   },
   "outputs": [
    {
     "data": {
      "text/plain": [
       "1676"
      ]
     },
     "execution_count": 55,
     "metadata": {},
     "output_type": "execute_result"
    }
   ],
   "source": [
    "# Total numbers of value in r column\n",
    "train_data['r'].count()"
   ]
  },
  {
   "cell_type": "code",
   "execution_count": 56,
   "metadata": {
    "cell_id": "65d335da6f9243c3a50260c9fa2be287",
    "deepnote_cell_type": "code",
    "deepnote_to_be_reexecuted": false,
    "execution_millis": 16,
    "execution_start": 1681681125358,
    "source_hash": "f7238d6e"
   },
   "outputs": [
    {
     "data": {
      "text/plain": [
       "0"
      ]
     },
     "execution_count": 56,
     "metadata": {},
     "output_type": "execute_result"
    }
   ],
   "source": [
    "# Number of missing value in r column\n",
    "train_data['r'].isnull().sum()"
   ]
  },
  {
   "cell_type": "code",
   "execution_count": 57,
   "metadata": {
    "cell_id": "b0baca2a8c79440091cc73c7e1e50749",
    "deepnote_cell_type": "code",
    "deepnote_to_be_reexecuted": false,
    "execution_millis": 108,
    "execution_start": 1681681126971,
    "source_hash": "7aab4e15"
   },
   "outputs": [
    {
     "data": {
      "text/plain": [
       "Text(0, 0.5, 'Count')"
      ]
     },
     "execution_count": 57,
     "metadata": {},
     "output_type": "execute_result"
    },
    {
     "data": {
      "image/png": "[encoded data removed]",
      "text/plain": [
       "<Figure size 432x288 with 1 Axes>"
      ]
     },
     "metadata": {
      "needs_background": "light"
     },
     "output_type": "display_data"
    }
   ],
   "source": [
    "plt.hist(train_data['r'], bins=10)\n",
    "plt.xlabel('r - Annual Interest Rate')\n",
    "plt.ylabel('Count')"
   ]
  },
  {
   "cell_type": "code",
   "execution_count": 58,
   "metadata": {
    "cell_id": "5f55da91ff224b68b24927e4b74e3a8a",
    "deepnote_cell_type": "code",
    "deepnote_to_be_reexecuted": false,
    "execution_millis": 99,
    "execution_start": 1681681129078,
    "source_hash": "ebe0c9eb"
   },
   "outputs": [
    {
     "data": {
      "text/plain": [
       "<AxesSubplot:xlabel='r'>"
      ]
     },
     "execution_count": 58,
     "metadata": {},
     "output_type": "execute_result"
    },
    {
     "data": {
      "image/png": "[encoded data removed]",
      "text/plain": [
       "<Figure size 432x288 with 1 Axes>"
      ]
     },
     "metadata": {
      "needs_background": "light"
     },
     "output_type": "display_data"
    }
   ],
   "source": [
    "sns.boxplot(x='r', data=train_data)"
   ]
  },
  {
   "cell_type": "code",
   "execution_count": 59,
   "metadata": {
    "cell_id": "e41d6e609cd547708434bb8656849cda",
    "deepnote_cell_type": "code",
    "deepnote_to_be_reexecuted": false,
    "execution_millis": 32,
    "execution_start": 1681681130942,
    "source_hash": "611b35ba"
   },
   "outputs": [],
   "source": [
    "# train_data['r'].sort_values(ascending = False)"
   ]
  },
  {
   "cell_type": "code",
   "execution_count": 60,
   "metadata": {},
   "outputs": [
    {
     "data": {
      "text/plain": [
       "86"
      ]
     },
     "execution_count": 60,
     "metadata": {},
     "output_type": "execute_result"
    }
   ],
   "source": [
    "# 86 records are larger than r=0.0315\n",
    "sum(train_data['r'] >= 0.0315)"
   ]
  },
  {
   "cell_type": "markdown",
   "metadata": {
    "cell_id": "5c82d3d1950240439583c98cbf1e5047",
    "deepnote_cell_type": "text-cell-h3",
    "formattedRanges": []
   },
   "source": [
    "### 'BS' in train_data"
   ]
  },
  {
   "cell_type": "code",
   "execution_count": 61,
   "metadata": {
    "cell_id": "411f20ccef41408988edc1b951ba16d2",
    "deepnote_cell_type": "code",
    "deepnote_to_be_reexecuted": false,
    "execution_millis": 5,
    "execution_start": 1681681136466,
    "source_hash": "4d34a8e1"
   },
   "outputs": [
    {
     "data": {
      "text/plain": [
       "1676"
      ]
     },
     "execution_count": 61,
     "metadata": {},
     "output_type": "execute_result"
    }
   ],
   "source": [
    "# Total numbers of value in BS column\n",
    "train_data['BS'].count()"
   ]
  },
  {
   "cell_type": "code",
   "execution_count": 62,
   "metadata": {
    "cell_id": "0839191bcf3449cdb2158187222ce6bf",
    "deepnote_cell_type": "code",
    "deepnote_to_be_reexecuted": false,
    "execution_millis": 74,
    "execution_start": 1681681138738,
    "source_hash": "9954085e"
   },
   "outputs": [
    {
     "data": {
      "text/plain": [
       "0"
      ]
     },
     "execution_count": 62,
     "metadata": {},
     "output_type": "execute_result"
    }
   ],
   "source": [
    "# Number of missing value in BS column\n",
    "train_data['BS'].isnull().sum()"
   ]
  },
  {
   "cell_type": "code",
   "execution_count": 63,
   "metadata": {
    "cell_id": "c26bfc0aed844c7e9a2e68b6eb002d24",
    "deepnote_cell_type": "code",
    "deepnote_to_be_reexecuted": false,
    "execution_millis": 5,
    "execution_start": 1681681140242,
    "source_hash": "da9723e6"
   },
   "outputs": [
    {
     "data": {
      "text/plain": [
       "0       Under\n",
       "1        Over\n",
       "2       Under\n",
       "3        Over\n",
       "4       Under\n",
       "        ...  \n",
       "1675     Over\n",
       "1676    Under\n",
       "1677    Under\n",
       "1678     Over\n",
       "1679     Over\n",
       "Name: BS, Length: 1676, dtype: object"
      ]
     },
     "execution_count": 63,
     "metadata": {},
     "output_type": "execute_result"
    }
   ],
   "source": [
    "train_data['BS']"
   ]
  },
  {
   "cell_type": "code",
   "execution_count": 64,
   "metadata": {
    "cell_id": "8843b08dd9574f51bbdd7ee258a030ab",
    "deepnote_cell_type": "code",
    "deepnote_to_be_reexecuted": false,
    "execution_millis": 5,
    "execution_start": 1681681143287,
    "source_hash": "4423e36a"
   },
   "outputs": [
    {
     "data": {
      "text/plain": [
       "array(['Under', 'Over'], dtype=object)"
      ]
     },
     "execution_count": 64,
     "metadata": {},
     "output_type": "execute_result"
    }
   ],
   "source": [
    "train_data['BS'].unique() "
   ]
  },
  {
   "cell_type": "code",
   "execution_count": 65,
   "metadata": {
    "cell_id": "0d19f640a6c24ad984c2a6da2c731fa4",
    "deepnote_cell_type": "code",
    "deepnote_to_be_reexecuted": false,
    "execution_millis": 4,
    "execution_start": 1681681144727,
    "source_hash": "4ce323c4"
   },
   "outputs": [],
   "source": [
    "train_data.replace({'Under': 0, 'Over': 1}, inplace=True)"
   ]
  },
  {
   "cell_type": "code",
   "execution_count": 66,
   "metadata": {
    "cell_id": "526599bec4b34dd596ab773b69527bf7",
    "deepnote_cell_type": "code",
    "deepnote_to_be_reexecuted": false,
    "execution_millis": 95,
    "execution_start": 1681681147317,
    "source_hash": "dc669d3a"
   },
   "outputs": [
    {
     "data": {
      "text/html": [
       "<div>\n",
       "<style scoped>\n",
       "    .dataframe tbody tr th:only-of-type {\n",
       "        vertical-align: middle;\n",
       "    }\n",
       "\n",
       "    .dataframe tbody tr th {\n",
       "        vertical-align: top;\n",
       "    }\n",
       "\n",
       "    .dataframe thead th {\n",
       "        text-align: right;\n",
       "    }\n",
       "</style>\n",
       "<table border=\"1\" class=\"dataframe\">\n",
       "  <thead>\n",
       "    <tr style=\"text-align: right;\">\n",
       "      <th></th>\n",
       "      <th>Value</th>\n",
       "      <th>S</th>\n",
       "      <th>K</th>\n",
       "      <th>tau</th>\n",
       "      <th>r</th>\n",
       "      <th>BS</th>\n",
       "    </tr>\n",
       "  </thead>\n",
       "  <tbody>\n",
       "    <tr>\n",
       "      <th>0</th>\n",
       "      <td>21.670404</td>\n",
       "      <td>431.623898</td>\n",
       "      <td>420.0</td>\n",
       "      <td>0.341270</td>\n",
       "      <td>0.03013</td>\n",
       "      <td>0</td>\n",
       "    </tr>\n",
       "    <tr>\n",
       "      <th>1</th>\n",
       "      <td>0.125000</td>\n",
       "      <td>427.015526</td>\n",
       "      <td>465.0</td>\n",
       "      <td>0.166667</td>\n",
       "      <td>0.03126</td>\n",
       "      <td>1</td>\n",
       "    </tr>\n",
       "    <tr>\n",
       "      <th>2</th>\n",
       "      <td>20.691244</td>\n",
       "      <td>427.762336</td>\n",
       "      <td>415.0</td>\n",
       "      <td>0.265873</td>\n",
       "      <td>0.03116</td>\n",
       "      <td>0</td>\n",
       "    </tr>\n",
       "    <tr>\n",
       "      <th>3</th>\n",
       "      <td>1.035002</td>\n",
       "      <td>451.711658</td>\n",
       "      <td>460.0</td>\n",
       "      <td>0.063492</td>\n",
       "      <td>0.02972</td>\n",
       "      <td>1</td>\n",
       "    </tr>\n",
       "    <tr>\n",
       "      <th>4</th>\n",
       "      <td>39.553020</td>\n",
       "      <td>446.718974</td>\n",
       "      <td>410.0</td>\n",
       "      <td>0.166667</td>\n",
       "      <td>0.02962</td>\n",
       "      <td>0</td>\n",
       "    </tr>\n",
       "    <tr>\n",
       "      <th>...</th>\n",
       "      <td>...</td>\n",
       "      <td>...</td>\n",
       "      <td>...</td>\n",
       "      <td>...</td>\n",
       "      <td>...</td>\n",
       "      <td>...</td>\n",
       "    </tr>\n",
       "    <tr>\n",
       "      <th>1675</th>\n",
       "      <td>1.470000</td>\n",
       "      <td>444.397163</td>\n",
       "      <td>475.0</td>\n",
       "      <td>0.273810</td>\n",
       "      <td>0.03034</td>\n",
       "      <td>1</td>\n",
       "    </tr>\n",
       "    <tr>\n",
       "      <th>1676</th>\n",
       "      <td>34.927317</td>\n",
       "      <td>438.453825</td>\n",
       "      <td>410.0</td>\n",
       "      <td>0.301587</td>\n",
       "      <td>0.02972</td>\n",
       "      <td>0</td>\n",
       "    </tr>\n",
       "    <tr>\n",
       "      <th>1677</th>\n",
       "      <td>41.127997</td>\n",
       "      <td>428.042219</td>\n",
       "      <td>390.0</td>\n",
       "      <td>0.170635</td>\n",
       "      <td>0.03188</td>\n",
       "      <td>0</td>\n",
       "    </tr>\n",
       "    <tr>\n",
       "      <th>1678</th>\n",
       "      <td>0.440003</td>\n",
       "      <td>439.081203</td>\n",
       "      <td>480.0</td>\n",
       "      <td>0.293651</td>\n",
       "      <td>0.02962</td>\n",
       "      <td>1</td>\n",
       "    </tr>\n",
       "    <tr>\n",
       "      <th>1679</th>\n",
       "      <td>0.410002</td>\n",
       "      <td>432.167692</td>\n",
       "      <td>465.0</td>\n",
       "      <td>0.218254</td>\n",
       "      <td>0.02993</td>\n",
       "      <td>1</td>\n",
       "    </tr>\n",
       "  </tbody>\n",
       "</table>\n",
       "<p>1676 rows × 6 columns</p>\n",
       "</div>"
      ],
      "text/plain": [
       "          Value           S      K       tau        r  BS\n",
       "0     21.670404  431.623898  420.0  0.341270  0.03013   0\n",
       "1      0.125000  427.015526  465.0  0.166667  0.03126   1\n",
       "2     20.691244  427.762336  415.0  0.265873  0.03116   0\n",
       "3      1.035002  451.711658  460.0  0.063492  0.02972   1\n",
       "4     39.553020  446.718974  410.0  0.166667  0.02962   0\n",
       "...         ...         ...    ...       ...      ...  ..\n",
       "1675   1.470000  444.397163  475.0  0.273810  0.03034   1\n",
       "1676  34.927317  438.453825  410.0  0.301587  0.02972   0\n",
       "1677  41.127997  428.042219  390.0  0.170635  0.03188   0\n",
       "1678   0.440003  439.081203  480.0  0.293651  0.02962   1\n",
       "1679   0.410002  432.167692  465.0  0.218254  0.02993   1\n",
       "\n",
       "[1676 rows x 6 columns]"
      ]
     },
     "execution_count": 66,
     "metadata": {},
     "output_type": "execute_result"
    }
   ],
   "source": [
    "train_data"
   ]
  },
  {
   "cell_type": "code",
   "execution_count": 67,
   "metadata": {
    "cell_id": "0d87d584402b4dccb18ed2c23e5da700",
    "deepnote_cell_type": "code",
    "deepnote_to_be_reexecuted": false,
    "execution_millis": 12,
    "execution_start": 1681681149371,
    "source_hash": "4264a62"
   },
   "outputs": [],
   "source": [
    "# train_data.count()"
   ]
  },
  {
   "cell_type": "code",
   "execution_count": 68,
   "metadata": {
    "cell_id": "e238bbf077c240fa8d35ad732d965eee",
    "deepnote_cell_type": "code",
    "deepnote_to_be_reexecuted": false,
    "execution_millis": 166,
    "execution_start": 1681681153912,
    "source_hash": "b8a9d4fb"
   },
   "outputs": [],
   "source": [
    "# train_data.describe(include = 'all')"
   ]
  },
  {
   "cell_type": "markdown",
   "metadata": {},
   "source": [
    "## train_data drop na"
   ]
  },
  {
   "cell_type": "code",
   "execution_count": 69,
   "metadata": {},
   "outputs": [
    {
     "data": {
      "text/plain": [
       "Value    2\n",
       "S        1\n",
       "K        2\n",
       "tau      1\n",
       "r        0\n",
       "BS       0\n",
       "dtype: int64"
      ]
     },
     "execution_count": 69,
     "metadata": {},
     "output_type": "execute_result"
    }
   ],
   "source": [
    "train_data.isna().sum()"
   ]
  },
  {
   "cell_type": "code",
   "execution_count": 70,
   "metadata": {},
   "outputs": [],
   "source": [
    "# since there're not much null values comparnig to the sample size, so we will drop the null rows\n",
    "train_data = train_data.dropna().reset_index(drop=True)"
   ]
  },
  {
   "cell_type": "code",
   "execution_count": 71,
   "metadata": {},
   "outputs": [
    {
     "name": "stdout",
     "output_type": "stream",
     "text": [
      "<class 'pandas.core.frame.DataFrame'>\n",
      "RangeIndex: 1673 entries, 0 to 1672\n",
      "Data columns (total 6 columns):\n",
      " #   Column  Non-Null Count  Dtype  \n",
      "---  ------  --------------  -----  \n",
      " 0   Value   1673 non-null   float64\n",
      " 1   S       1673 non-null   float64\n",
      " 2   K       1673 non-null   float64\n",
      " 3   tau     1673 non-null   float64\n",
      " 4   r       1673 non-null   float64\n",
      " 5   BS      1673 non-null   int64  \n",
      "dtypes: float64(5), int64(1)\n",
      "memory usage: 78.5 KB\n"
     ]
    }
   ],
   "source": [
    "train_data.info()"
   ]
  },
  {
   "cell_type": "code",
   "execution_count": 72,
   "metadata": {},
   "outputs": [
    {
     "data": {
      "text/plain": [
       "Value    0\n",
       "S        0\n",
       "K        0\n",
       "tau      0\n",
       "r        0\n",
       "BS       0\n",
       "dtype: int64"
      ]
     },
     "execution_count": 72,
     "metadata": {},
     "output_type": "execute_result"
    }
   ],
   "source": [
    "train_data.isna().sum()"
   ]
  },
  {
   "cell_type": "code",
   "execution_count": 73,
   "metadata": {},
   "outputs": [
    {
     "data": {
      "text/plain": [
       "1673"
      ]
     },
     "execution_count": 73,
     "metadata": {},
     "output_type": "execute_result"
    }
   ],
   "source": [
    "len(train_data)"
   ]
  },
  {
   "cell_type": "code",
   "execution_count": 74,
   "metadata": {
    "scrolled": true
   },
   "outputs": [
    {
     "data": {
      "text/html": [
       "<div>\n",
       "<style scoped>\n",
       "    .dataframe tbody tr th:only-of-type {\n",
       "        vertical-align: middle;\n",
       "    }\n",
       "\n",
       "    .dataframe tbody tr th {\n",
       "        vertical-align: top;\n",
       "    }\n",
       "\n",
       "    .dataframe thead th {\n",
       "        text-align: right;\n",
       "    }\n",
       "</style>\n",
       "<table border=\"1\" class=\"dataframe\">\n",
       "  <thead>\n",
       "    <tr style=\"text-align: right;\">\n",
       "      <th></th>\n",
       "      <th>Value</th>\n",
       "      <th>S</th>\n",
       "      <th>K</th>\n",
       "      <th>tau</th>\n",
       "      <th>r</th>\n",
       "      <th>BS</th>\n",
       "    </tr>\n",
       "  </thead>\n",
       "  <tbody>\n",
       "    <tr>\n",
       "      <th>count</th>\n",
       "      <td>1673.000000</td>\n",
       "      <td>1673.000000</td>\n",
       "      <td>1673.000000</td>\n",
       "      <td>1673.000000</td>\n",
       "      <td>1673.000000</td>\n",
       "      <td>1673.000000</td>\n",
       "    </tr>\n",
       "    <tr>\n",
       "      <th>mean</th>\n",
       "      <td>15.096361</td>\n",
       "      <td>440.900850</td>\n",
       "      <td>438.215780</td>\n",
       "      <td>0.202023</td>\n",
       "      <td>0.030235</td>\n",
       "      <td>0.435744</td>\n",
       "    </tr>\n",
       "    <tr>\n",
       "      <th>std</th>\n",
       "      <td>14.050476</td>\n",
       "      <td>7.529079</td>\n",
       "      <td>23.420806</td>\n",
       "      <td>0.099814</td>\n",
       "      <td>0.000557</td>\n",
       "      <td>0.496002</td>\n",
       "    </tr>\n",
       "    <tr>\n",
       "      <th>min</th>\n",
       "      <td>0.125000</td>\n",
       "      <td>425.472331</td>\n",
       "      <td>375.000000</td>\n",
       "      <td>0.003968</td>\n",
       "      <td>0.029510</td>\n",
       "      <td>0.000000</td>\n",
       "    </tr>\n",
       "    <tr>\n",
       "      <th>25%</th>\n",
       "      <td>2.220002</td>\n",
       "      <td>433.863864</td>\n",
       "      <td>420.000000</td>\n",
       "      <td>0.119048</td>\n",
       "      <td>0.029820</td>\n",
       "      <td>0.000000</td>\n",
       "    </tr>\n",
       "    <tr>\n",
       "      <th>50%</th>\n",
       "      <td>11.250000</td>\n",
       "      <td>442.525366</td>\n",
       "      <td>440.000000</td>\n",
       "      <td>0.202381</td>\n",
       "      <td>0.030130</td>\n",
       "      <td>0.000000</td>\n",
       "    </tr>\n",
       "    <tr>\n",
       "      <th>75%</th>\n",
       "      <td>25.819526</td>\n",
       "      <td>447.320414</td>\n",
       "      <td>455.000000</td>\n",
       "      <td>0.285714</td>\n",
       "      <td>0.030540</td>\n",
       "      <td>1.000000</td>\n",
       "    </tr>\n",
       "    <tr>\n",
       "      <th>max</th>\n",
       "      <td>60.149367</td>\n",
       "      <td>455.880619</td>\n",
       "      <td>500.000000</td>\n",
       "      <td>0.392857</td>\n",
       "      <td>0.031880</td>\n",
       "      <td>1.000000</td>\n",
       "    </tr>\n",
       "  </tbody>\n",
       "</table>\n",
       "</div>"
      ],
      "text/plain": [
       "             Value            S            K          tau            r  \\\n",
       "count  1673.000000  1673.000000  1673.000000  1673.000000  1673.000000   \n",
       "mean     15.096361   440.900850   438.215780     0.202023     0.030235   \n",
       "std      14.050476     7.529079    23.420806     0.099814     0.000557   \n",
       "min       0.125000   425.472331   375.000000     0.003968     0.029510   \n",
       "25%       2.220002   433.863864   420.000000     0.119048     0.029820   \n",
       "50%      11.250000   442.525366   440.000000     0.202381     0.030130   \n",
       "75%      25.819526   447.320414   455.000000     0.285714     0.030540   \n",
       "max      60.149367   455.880619   500.000000     0.392857     0.031880   \n",
       "\n",
       "                BS  \n",
       "count  1673.000000  \n",
       "mean      0.435744  \n",
       "std       0.496002  \n",
       "min       0.000000  \n",
       "25%       0.000000  \n",
       "50%       0.000000  \n",
       "75%       1.000000  \n",
       "max       1.000000  "
      ]
     },
     "execution_count": 74,
     "metadata": {},
     "output_type": "execute_result"
    }
   ],
   "source": [
    "train_data.describe(include='all')"
   ]
  },
  {
   "cell_type": "code",
   "execution_count": 75,
   "metadata": {},
   "outputs": [
    {
     "data": {
      "text/html": [
       "<div>\n",
       "<style scoped>\n",
       "    .dataframe tbody tr th:only-of-type {\n",
       "        vertical-align: middle;\n",
       "    }\n",
       "\n",
       "    .dataframe tbody tr th {\n",
       "        vertical-align: top;\n",
       "    }\n",
       "\n",
       "    .dataframe thead th {\n",
       "        text-align: right;\n",
       "    }\n",
       "</style>\n",
       "<table border=\"1\" class=\"dataframe\">\n",
       "  <thead>\n",
       "    <tr style=\"text-align: right;\">\n",
       "      <th></th>\n",
       "      <th>Value</th>\n",
       "      <th>S</th>\n",
       "      <th>K</th>\n",
       "      <th>tau</th>\n",
       "      <th>r</th>\n",
       "      <th>BS</th>\n",
       "    </tr>\n",
       "  </thead>\n",
       "  <tbody>\n",
       "    <tr>\n",
       "      <th>0</th>\n",
       "      <td>21.670404</td>\n",
       "      <td>431.623898</td>\n",
       "      <td>420.0</td>\n",
       "      <td>0.341270</td>\n",
       "      <td>0.03013</td>\n",
       "      <td>0</td>\n",
       "    </tr>\n",
       "    <tr>\n",
       "      <th>1</th>\n",
       "      <td>0.125000</td>\n",
       "      <td>427.015526</td>\n",
       "      <td>465.0</td>\n",
       "      <td>0.166667</td>\n",
       "      <td>0.03126</td>\n",
       "      <td>1</td>\n",
       "    </tr>\n",
       "    <tr>\n",
       "      <th>2</th>\n",
       "      <td>20.691244</td>\n",
       "      <td>427.762336</td>\n",
       "      <td>415.0</td>\n",
       "      <td>0.265873</td>\n",
       "      <td>0.03116</td>\n",
       "      <td>0</td>\n",
       "    </tr>\n",
       "    <tr>\n",
       "      <th>3</th>\n",
       "      <td>1.035002</td>\n",
       "      <td>451.711658</td>\n",
       "      <td>460.0</td>\n",
       "      <td>0.063492</td>\n",
       "      <td>0.02972</td>\n",
       "      <td>1</td>\n",
       "    </tr>\n",
       "    <tr>\n",
       "      <th>4</th>\n",
       "      <td>39.553020</td>\n",
       "      <td>446.718974</td>\n",
       "      <td>410.0</td>\n",
       "      <td>0.166667</td>\n",
       "      <td>0.02962</td>\n",
       "      <td>0</td>\n",
       "    </tr>\n",
       "    <tr>\n",
       "      <th>...</th>\n",
       "      <td>...</td>\n",
       "      <td>...</td>\n",
       "      <td>...</td>\n",
       "      <td>...</td>\n",
       "      <td>...</td>\n",
       "      <td>...</td>\n",
       "    </tr>\n",
       "    <tr>\n",
       "      <th>1668</th>\n",
       "      <td>1.470000</td>\n",
       "      <td>444.397163</td>\n",
       "      <td>475.0</td>\n",
       "      <td>0.273810</td>\n",
       "      <td>0.03034</td>\n",
       "      <td>1</td>\n",
       "    </tr>\n",
       "    <tr>\n",
       "      <th>1669</th>\n",
       "      <td>34.927317</td>\n",
       "      <td>438.453825</td>\n",
       "      <td>410.0</td>\n",
       "      <td>0.301587</td>\n",
       "      <td>0.02972</td>\n",
       "      <td>0</td>\n",
       "    </tr>\n",
       "    <tr>\n",
       "      <th>1670</th>\n",
       "      <td>41.127997</td>\n",
       "      <td>428.042219</td>\n",
       "      <td>390.0</td>\n",
       "      <td>0.170635</td>\n",
       "      <td>0.03188</td>\n",
       "      <td>0</td>\n",
       "    </tr>\n",
       "    <tr>\n",
       "      <th>1671</th>\n",
       "      <td>0.440003</td>\n",
       "      <td>439.081203</td>\n",
       "      <td>480.0</td>\n",
       "      <td>0.293651</td>\n",
       "      <td>0.02962</td>\n",
       "      <td>1</td>\n",
       "    </tr>\n",
       "    <tr>\n",
       "      <th>1672</th>\n",
       "      <td>0.410002</td>\n",
       "      <td>432.167692</td>\n",
       "      <td>465.0</td>\n",
       "      <td>0.218254</td>\n",
       "      <td>0.02993</td>\n",
       "      <td>1</td>\n",
       "    </tr>\n",
       "  </tbody>\n",
       "</table>\n",
       "<p>1673 rows × 6 columns</p>\n",
       "</div>"
      ],
      "text/plain": [
       "          Value           S      K       tau        r  BS\n",
       "0     21.670404  431.623898  420.0  0.341270  0.03013   0\n",
       "1      0.125000  427.015526  465.0  0.166667  0.03126   1\n",
       "2     20.691244  427.762336  415.0  0.265873  0.03116   0\n",
       "3      1.035002  451.711658  460.0  0.063492  0.02972   1\n",
       "4     39.553020  446.718974  410.0  0.166667  0.02962   0\n",
       "...         ...         ...    ...       ...      ...  ..\n",
       "1668   1.470000  444.397163  475.0  0.273810  0.03034   1\n",
       "1669  34.927317  438.453825  410.0  0.301587  0.02972   0\n",
       "1670  41.127997  428.042219  390.0  0.170635  0.03188   0\n",
       "1671   0.440003  439.081203  480.0  0.293651  0.02962   1\n",
       "1672   0.410002  432.167692  465.0  0.218254  0.02993   1\n",
       "\n",
       "[1673 rows x 6 columns]"
      ]
     },
     "execution_count": 75,
     "metadata": {},
     "output_type": "execute_result"
    }
   ],
   "source": [
    "train_data"
   ]
  },
  {
   "cell_type": "markdown",
   "metadata": {
    "cell_id": "fe7f5a26e1b848fc803d6a991bc30e4a",
    "deepnote_cell_type": "text-cell-h1",
    "formattedRanges": []
   },
   "source": [
    "# Model Exploration"
   ]
  },
  {
   "cell_type": "markdown",
   "metadata": {
    "cell_id": "e03c2468419f4814a83bceb0ca4acb6a",
    "deepnote_cell_type": "text-cell-h2",
    "formattedRanges": []
   },
   "source": [
    "## Multiple Linear Regression - Helen"
   ]
  },
  {
   "cell_type": "code",
   "execution_count": 76,
   "metadata": {
    "cell_id": "627b05c157514318be7dd651269535ff",
    "deepnote_cell_type": "code",
    "deepnote_to_be_reexecuted": false,
    "execution_millis": 44,
    "execution_start": 1681680684892,
    "source_hash": "4dcb973"
   },
   "outputs": [
    {
     "data": {
      "text/html": [
       "<div>\n",
       "<style scoped>\n",
       "    .dataframe tbody tr th:only-of-type {\n",
       "        vertical-align: middle;\n",
       "    }\n",
       "\n",
       "    .dataframe tbody tr th {\n",
       "        vertical-align: top;\n",
       "    }\n",
       "\n",
       "    .dataframe thead th {\n",
       "        text-align: right;\n",
       "    }\n",
       "</style>\n",
       "<table border=\"1\" class=\"dataframe\">\n",
       "  <thead>\n",
       "    <tr style=\"text-align: right;\">\n",
       "      <th></th>\n",
       "      <th>Value</th>\n",
       "      <th>S</th>\n",
       "      <th>K</th>\n",
       "      <th>tau</th>\n",
       "      <th>r</th>\n",
       "      <th>BS</th>\n",
       "    </tr>\n",
       "  </thead>\n",
       "  <tbody>\n",
       "    <tr>\n",
       "      <th>Value</th>\n",
       "      <td>1.000000</td>\n",
       "      <td>0.086786</td>\n",
       "      <td>-0.885914</td>\n",
       "      <td>0.046097</td>\n",
       "      <td>0.041735</td>\n",
       "      <td>-0.753823</td>\n",
       "    </tr>\n",
       "    <tr>\n",
       "      <th>S</th>\n",
       "      <td>0.086786</td>\n",
       "      <td>1.000000</td>\n",
       "      <td>0.211633</td>\n",
       "      <td>-0.127583</td>\n",
       "      <td>-0.458957</td>\n",
       "      <td>-0.088160</td>\n",
       "    </tr>\n",
       "    <tr>\n",
       "      <th>K</th>\n",
       "      <td>-0.885914</td>\n",
       "      <td>0.211633</td>\n",
       "      <td>1.000000</td>\n",
       "      <td>0.138668</td>\n",
       "      <td>-0.173608</td>\n",
       "      <td>0.750425</td>\n",
       "    </tr>\n",
       "    <tr>\n",
       "      <th>tau</th>\n",
       "      <td>0.046097</td>\n",
       "      <td>-0.127583</td>\n",
       "      <td>0.138668</td>\n",
       "      <td>1.000000</td>\n",
       "      <td>0.014845</td>\n",
       "      <td>0.096875</td>\n",
       "    </tr>\n",
       "    <tr>\n",
       "      <th>r</th>\n",
       "      <td>0.041735</td>\n",
       "      <td>-0.458957</td>\n",
       "      <td>-0.173608</td>\n",
       "      <td>0.014845</td>\n",
       "      <td>1.000000</td>\n",
       "      <td>-0.067752</td>\n",
       "    </tr>\n",
       "    <tr>\n",
       "      <th>BS</th>\n",
       "      <td>-0.753823</td>\n",
       "      <td>-0.088160</td>\n",
       "      <td>0.750425</td>\n",
       "      <td>0.096875</td>\n",
       "      <td>-0.067752</td>\n",
       "      <td>1.000000</td>\n",
       "    </tr>\n",
       "  </tbody>\n",
       "</table>\n",
       "</div>"
      ],
      "text/plain": [
       "          Value         S         K       tau         r        BS\n",
       "Value  1.000000  0.086786 -0.885914  0.046097  0.041735 -0.753823\n",
       "S      0.086786  1.000000  0.211633 -0.127583 -0.458957 -0.088160\n",
       "K     -0.885914  0.211633  1.000000  0.138668 -0.173608  0.750425\n",
       "tau    0.046097 -0.127583  0.138668  1.000000  0.014845  0.096875\n",
       "r      0.041735 -0.458957 -0.173608  0.014845  1.000000 -0.067752\n",
       "BS    -0.753823 -0.088160  0.750425  0.096875 -0.067752  1.000000"
      ]
     },
     "execution_count": 76,
     "metadata": {},
     "output_type": "execute_result"
    }
   ],
   "source": [
    "train_data.corr()"
   ]
  },
  {
   "cell_type": "code",
   "execution_count": 77,
   "metadata": {
    "cell_id": "853dc77873014282aa81e326dcecff32",
    "deepnote_cell_type": "code",
    "deepnote_to_be_reexecuted": false,
    "execution_millis": 240,
    "execution_start": 1681680685048,
    "source_hash": "7f034c2a"
   },
   "outputs": [],
   "source": [
    "mlr_result = smf.ols('Value ~ S + K + tau + r', data = train_data).fit()"
   ]
  },
  {
   "cell_type": "code",
   "execution_count": 78,
   "metadata": {
    "cell_id": "827857b338094740acdc161f84633ddf",
    "deepnote_cell_type": "code",
    "deepnote_to_be_reexecuted": false,
    "execution_millis": 0,
    "execution_start": 1681680685333,
    "source_hash": "ac5c9f2f"
   },
   "outputs": [
    {
     "data": {
      "text/html": [
       "<table class=\"simpletable\">\n",
       "<caption>OLS Regression Results</caption>\n",
       "<tr>\n",
       "  <th>Dep. Variable:</th>          <td>Value</td>      <th>  R-squared:         </th> <td>   0.912</td>\n",
       "</tr>\n",
       "<tr>\n",
       "  <th>Model:</th>                   <td>OLS</td>       <th>  Adj. R-squared:    </th> <td>   0.912</td>\n",
       "</tr>\n",
       "<tr>\n",
       "  <th>Method:</th>             <td>Least Squares</td>  <th>  F-statistic:       </th> <td>   4315.</td>\n",
       "</tr>\n",
       "<tr>\n",
       "  <th>Date:</th>             <td>Tue, 02 May 2023</td> <th>  Prob (F-statistic):</th>  <td>  0.00</td> \n",
       "</tr>\n",
       "<tr>\n",
       "  <th>Time:</th>                 <td>21:50:46</td>     <th>  Log-Likelihood:    </th> <td> -4762.6</td>\n",
       "</tr>\n",
       "<tr>\n",
       "  <th>No. Observations:</th>      <td>  1673</td>      <th>  AIC:               </th> <td>   9535.</td>\n",
       "</tr>\n",
       "<tr>\n",
       "  <th>Df Residuals:</th>          <td>  1668</td>      <th>  BIC:               </th> <td>   9562.</td>\n",
       "</tr>\n",
       "<tr>\n",
       "  <th>Df Model:</th>              <td>     4</td>      <th>                     </th>     <td> </td>   \n",
       "</tr>\n",
       "<tr>\n",
       "  <th>Covariance Type:</th>      <td>nonrobust</td>    <th>                     </th>     <td> </td>   \n",
       "</tr>\n",
       "</table>\n",
       "<table class=\"simpletable\">\n",
       "<tr>\n",
       "      <td></td>         <th>coef</th>     <th>std err</th>      <th>t</th>      <th>P>|t|</th>  <th>[0.025</th>    <th>0.975]</th>  \n",
       "</tr>\n",
       "<tr>\n",
       "  <th>Intercept</th> <td>  -22.2504</td> <td>   11.244</td> <td>   -1.979</td> <td> 0.048</td> <td>  -44.304</td> <td>   -0.197</td>\n",
       "</tr>\n",
       "<tr>\n",
       "  <th>S</th>         <td>    0.6216</td> <td>    0.016</td> <td>   39.725</td> <td> 0.000</td> <td>    0.591</td> <td>    0.652</td>\n",
       "</tr>\n",
       "<tr>\n",
       "  <th>K</th>         <td>   -0.5903</td> <td>    0.005</td> <td> -129.944</td> <td> 0.000</td> <td>   -0.599</td> <td>   -0.581</td>\n",
       "</tr>\n",
       "<tr>\n",
       "  <th>tau</th>       <td>   31.6364</td> <td>    1.048</td> <td>   30.198</td> <td> 0.000</td> <td>   29.582</td> <td>   33.691</td>\n",
       "</tr>\n",
       "<tr>\n",
       "  <th>r</th>         <td>  515.3516</td> <td>  207.201</td> <td>    2.487</td> <td> 0.013</td> <td>  108.949</td> <td>  921.754</td>\n",
       "</tr>\n",
       "</table>\n",
       "<table class=\"simpletable\">\n",
       "<tr>\n",
       "  <th>Omnibus:</th>       <td>156.358</td> <th>  Durbin-Watson:     </th> <td>   2.080</td>\n",
       "</tr>\n",
       "<tr>\n",
       "  <th>Prob(Omnibus):</th> <td> 0.000</td>  <th>  Jarque-Bera (JB):  </th> <td> 202.106</td>\n",
       "</tr>\n",
       "<tr>\n",
       "  <th>Skew:</th>          <td> 0.851</td>  <th>  Prob(JB):          </th> <td>1.30e-44</td>\n",
       "</tr>\n",
       "<tr>\n",
       "  <th>Kurtosis:</th>      <td> 3.063</td>  <th>  Cond. No.          </th> <td>1.26e+06</td>\n",
       "</tr>\n",
       "</table><br/><br/>Notes:<br/>[1] Standard Errors assume that the covariance matrix of the errors is correctly specified.<br/>[2] The condition number is large, 1.26e+06. This might indicate that there are<br/>strong multicollinearity or other numerical problems."
      ],
      "text/plain": [
       "<class 'statsmodels.iolib.summary.Summary'>\n",
       "\"\"\"\n",
       "                            OLS Regression Results                            \n",
       "==============================================================================\n",
       "Dep. Variable:                  Value   R-squared:                       0.912\n",
       "Model:                            OLS   Adj. R-squared:                  0.912\n",
       "Method:                 Least Squares   F-statistic:                     4315.\n",
       "Date:                Tue, 02 May 2023   Prob (F-statistic):               0.00\n",
       "Time:                        21:50:46   Log-Likelihood:                -4762.6\n",
       "No. Observations:                1673   AIC:                             9535.\n",
       "Df Residuals:                    1668   BIC:                             9562.\n",
       "Df Model:                           4                                         \n",
       "Covariance Type:            nonrobust                                         \n",
       "==============================================================================\n",
       "                 coef    std err          t      P>|t|      [0.025      0.975]\n",
       "------------------------------------------------------------------------------\n",
       "Intercept    -22.2504     11.244     -1.979      0.048     -44.304      -0.197\n",
       "S              0.6216      0.016     39.725      0.000       0.591       0.652\n",
       "K             -0.5903      0.005   -129.944      0.000      -0.599      -0.581\n",
       "tau           31.6364      1.048     30.198      0.000      29.582      33.691\n",
       "r            515.3516    207.201      2.487      0.013     108.949     921.754\n",
       "==============================================================================\n",
       "Omnibus:                      156.358   Durbin-Watson:                   2.080\n",
       "Prob(Omnibus):                  0.000   Jarque-Bera (JB):              202.106\n",
       "Skew:                           0.851   Prob(JB):                     1.30e-44\n",
       "Kurtosis:                       3.063   Cond. No.                     1.26e+06\n",
       "==============================================================================\n",
       "\n",
       "Notes:\n",
       "[1] Standard Errors assume that the covariance matrix of the errors is correctly specified.\n",
       "[2] The condition number is large, 1.26e+06. This might indicate that there are\n",
       "strong multicollinearity or other numerical problems.\n",
       "\"\"\""
      ]
     },
     "execution_count": 78,
     "metadata": {},
     "output_type": "execute_result"
    }
   ],
   "source": [
    "mlr_result.summary()"
   ]
  },
  {
   "cell_type": "code",
   "execution_count": 79,
   "metadata": {
    "cell_id": "068db88b96ea4f6992d62c1c663ffb66",
    "deepnote_cell_type": "code",
    "deepnote_to_be_reexecuted": false,
    "execution_millis": 35,
    "execution_start": 1681680685373,
    "source_hash": "b327e4a9"
   },
   "outputs": [
    {
     "name": "stdout",
     "output_type": "stream",
     "text": [
      "R-squared before standardization: 0.9118804619069916\n"
     ]
    }
   ],
   "source": [
    "# Multiple Linear Regression before Standardization\n",
    "X = train_data[['S', 'K', 'tau', 'r']].values\n",
    "y = train_data['Value'].values\n",
    "\n",
    "linear_model = LinearRegression()\n",
    "linear_model.fit(X,y)\n",
    "\n",
    "r_sq_MLR = linear_model.score(X,y)\n",
    "\n",
    "print('R-squared before standardization:', r_sq_MLR)"
   ]
  },
  {
   "cell_type": "code",
   "execution_count": 80,
   "metadata": {
    "cell_id": "8b5907593bca412e91679daca205120b",
    "deepnote_cell_type": "code",
    "deepnote_to_be_reexecuted": false,
    "execution_millis": 1,
    "execution_start": 1681680685459,
    "source_hash": "916cd712"
   },
   "outputs": [
    {
     "name": "stdout",
     "output_type": "stream",
     "text": [
      "R-squared after standardization: 0.9118804619069915\n"
     ]
    }
   ],
   "source": [
    "# Standardization\n",
    "stdsc = StandardScaler()\n",
    "X_std = stdsc.fit_transform(X)\n",
    "\n",
    "# Multiple Linear Regression after Standardization\n",
    "linear_model = LinearRegression()\n",
    "linear_model.fit(X_std,y)\n",
    "r_sq_MLR = linear_model.score(X_std,y)\n",
    "print('R-squared after standardization:', r_sq_MLR)"
   ]
  },
  {
   "cell_type": "code",
   "execution_count": 81,
   "metadata": {
    "cell_id": "61db42bbd42b475ca667f2097f75cdca",
    "deepnote_cell_type": "code",
    "deepnote_to_be_reexecuted": false,
    "execution_millis": 4,
    "execution_start": 1681680685507,
    "source_hash": "206f1389"
   },
   "outputs": [],
   "source": [
    "# train-test split method\n",
    "X = train_data[['S', 'K', 'tau', 'r']].values\n",
    "y = train_data['Value'].values\n",
    "\n",
    "X_train, X_test, y_train, y_test = train_test_split(X, y, test_size=0.2, random_state=2)"
   ]
  },
  {
   "cell_type": "code",
   "execution_count": 82,
   "metadata": {
    "cell_id": "f0754aa9fac14c77901e67936e8bfc8f",
    "deepnote_cell_type": "code",
    "deepnote_to_be_reexecuted": false,
    "execution_millis": 2,
    "execution_start": 1681680685548,
    "source_hash": "24c46fcc"
   },
   "outputs": [
    {
     "name": "stdout",
     "output_type": "stream",
     "text": [
      "In-sample R-squared for MLR: 0.9111761526406068\n",
      "Out-of-sample R-squared for MLR: 0.9143298029287835\n"
     ]
    }
   ],
   "source": [
    "linear_model = LinearRegression()\n",
    "linear_model.fit(X_train,y_train)\n",
    "r_sq_MLR = linear_model.score(X_train,y_train)  # compute the in-sample r-sq using training data\n",
    "r_sq_MLR_out = linear_model.score(X_test,y_test)  # compute the out-of-sample r-sq using test data\n",
    "\n",
    "print('In-sample R-squared for MLR:', r_sq_MLR)\n",
    "print('Out-of-sample R-squared for MLR:', r_sq_MLR_out)"
   ]
  },
  {
   "cell_type": "code",
   "execution_count": 83,
   "metadata": {
    "cell_id": "38d5f7e0c1c04708acd6d683aa93b6f4",
    "deepnote_cell_type": "code",
    "deepnote_to_be_reexecuted": false,
    "execution_millis": 238,
    "execution_start": 1681680685564,
    "source_hash": "a9f508be"
   },
   "outputs": [
    {
     "name": "stdout",
     "output_type": "stream",
     "text": [
      "Linear Regression: \n",
      "\n",
      "r squared of 10-folds: [0.90429787 0.92311412 0.91591184 0.90962365 0.91508878 0.9124094\n",
      " 0.90723205 0.91053085 0.91886887 0.88674896]\n",
      "The mean of r squared: 0.9103826391271834\n"
     ]
    }
   ],
   "source": [
    "# **Choose this cell**\n",
    "kfolds_regression = KFold(n_splits=10, random_state=2, shuffle=True)\n",
    "regression_model = LinearRegression()\n",
    "\n",
    "# Assuming 'Value' is the target variable in train_data\n",
    "X = train_data[['S', 'K', 'tau', 'r']]\n",
    "y = train_data['Value']\n",
    "\n",
    "r2_MLR_cv = cross_val_score(regression_model, X, y, cv=kfolds_regression, scoring = 'r2')\n",
    "\n",
    "print('Linear Regression: \\n')\n",
    "print('r squared of 10-folds:', r2_MLR_cv)\n",
    "print('The mean of r squared:', np.mean(r2_MLR_cv))"
   ]
  },
  {
   "cell_type": "code",
   "execution_count": 84,
   "metadata": {},
   "outputs": [
    {
     "data": {
      "text/html": [
       "<div>\n",
       "<style scoped>\n",
       "    .dataframe tbody tr th:only-of-type {\n",
       "        vertical-align: middle;\n",
       "    }\n",
       "\n",
       "    .dataframe tbody tr th {\n",
       "        vertical-align: top;\n",
       "    }\n",
       "\n",
       "    .dataframe thead th {\n",
       "        text-align: right;\n",
       "    }\n",
       "</style>\n",
       "<table border=\"1\" class=\"dataframe\">\n",
       "  <thead>\n",
       "    <tr style=\"text-align: right;\">\n",
       "      <th></th>\n",
       "      <th>Linear Regression</th>\n",
       "    </tr>\n",
       "  </thead>\n",
       "  <tbody>\n",
       "    <tr>\n",
       "      <th>0</th>\n",
       "      <td>0.904298</td>\n",
       "    </tr>\n",
       "    <tr>\n",
       "      <th>1</th>\n",
       "      <td>0.923114</td>\n",
       "    </tr>\n",
       "    <tr>\n",
       "      <th>2</th>\n",
       "      <td>0.915912</td>\n",
       "    </tr>\n",
       "    <tr>\n",
       "      <th>3</th>\n",
       "      <td>0.909624</td>\n",
       "    </tr>\n",
       "    <tr>\n",
       "      <th>4</th>\n",
       "      <td>0.915089</td>\n",
       "    </tr>\n",
       "    <tr>\n",
       "      <th>5</th>\n",
       "      <td>0.912409</td>\n",
       "    </tr>\n",
       "    <tr>\n",
       "      <th>6</th>\n",
       "      <td>0.907232</td>\n",
       "    </tr>\n",
       "    <tr>\n",
       "      <th>7</th>\n",
       "      <td>0.910531</td>\n",
       "    </tr>\n",
       "    <tr>\n",
       "      <th>8</th>\n",
       "      <td>0.918869</td>\n",
       "    </tr>\n",
       "    <tr>\n",
       "      <th>9</th>\n",
       "      <td>0.886749</td>\n",
       "    </tr>\n",
       "  </tbody>\n",
       "</table>\n",
       "</div>"
      ],
      "text/plain": [
       "   Linear Regression\n",
       "0           0.904298\n",
       "1           0.923114\n",
       "2           0.915912\n",
       "3           0.909624\n",
       "4           0.915089\n",
       "5           0.912409\n",
       "6           0.907232\n",
       "7           0.910531\n",
       "8           0.918869\n",
       "9           0.886749"
      ]
     },
     "execution_count": 84,
     "metadata": {},
     "output_type": "execute_result"
    }
   ],
   "source": [
    "models_regression = pd.DataFrame(r2_MLR_cv, columns=['Linear Regression'])\n",
    "models_regression"
   ]
  },
  {
   "cell_type": "markdown",
   "metadata": {
    "cell_id": "b268b402e9e141bfb35b84dfae965288",
    "deepnote_cell_type": "text-cell-h2",
    "formattedRanges": []
   },
   "source": [
    "## Logistic Regression - Elena"
   ]
  },
  {
   "cell_type": "code",
   "execution_count": 85,
   "metadata": {
    "cell_id": "b84fa5bf4ca14b74b4c48f416c01f16a",
    "deepnote_cell_type": "code",
    "deepnote_to_be_reexecuted": true,
    "execution_millis": 313079,
    "execution_start": 1681680686049,
    "source_hash": "6aefa0e0"
   },
   "outputs": [
    {
     "name": "stdout",
     "output_type": "stream",
     "text": [
      "Accuracy: 0.9044776119402985\n",
      "test error rate: 0.0955223880597015\n"
     ]
    }
   ],
   "source": [
    "X = train_data[['S', 'K', 'tau', 'r']]\n",
    "y = train_data['BS']\n",
    "\n",
    "# Standardization\n",
    "scaler = StandardScaler()\n",
    "X = scaler.fit_transform(X)\n",
    "\n",
    "# Split the data into training and testing sets - ONE TIME SPLIT\n",
    "X_train, X_test, y_train, y_test = train_test_split(X, y, test_size=0.2, random_state=2)\n",
    "\n",
    "# Run logistic regression model on the training data\n",
    "lr_model = LogisticRegression()\n",
    "lr_model.fit(X_train, y_train)\n",
    "\n",
    "# Make predictions on the testing data\n",
    "y_pred = lr_model.predict(X_test)\n",
    "\n",
    "# Evaluate the accuracy of the model on the testing data\n",
    "accuracy = accuracy_score(y_test, y_pred)\n",
    "print('Accuracy:', accuracy)\n",
    "\n",
    "# Confusion matrix\n",
    "confusion_matrix(y_test,y_pred)\n",
    "print('test error rate:', np.mean(y_pred != y_test))"
   ]
  },
  {
   "cell_type": "code",
   "execution_count": 86,
   "metadata": {},
   "outputs": [
    {
     "name": "stdout",
     "output_type": "stream",
     "text": [
      "Logistic Regression: \n",
      "\n",
      "Accuracy of 10-folds: [0.92857143 0.9047619  0.91071429 0.90419162 0.92814371 0.89820359\n",
      " 0.89820359 0.90419162 0.95209581 0.91017964]\n",
      "The mean of accuracy: 0.9139257199885942\n"
     ]
    }
   ],
   "source": [
    "# **Choose this cell**\n",
    "# Cross_validation\n",
    "from sklearn.model_selection import cross_val_score\n",
    "from sklearn.model_selection import StratifiedKFold  # for classification\n",
    "\n",
    "# Create a KFold object with 10 folds\n",
    "kfold = StratifiedKFold(n_splits=10, shuffle=True, random_state=2)\n",
    "\n",
    "# Perform k-fold cross-validation on the logistic regression model\n",
    "lr_model = LogisticRegression()\n",
    "lr_scores = cross_val_score(lr_model, X, y, cv=kfold, scoring = 'accuracy')\n",
    "\n",
    "\n",
    "# Print the mean and standard deviation of the scores\n",
    "print('Logistic Regression: \\n')\n",
    "print('Accuracy of 10-folds:', lr_scores)\n",
    "print('The mean of accuracy:', np.mean(lr_scores))"
   ]
  },
  {
   "cell_type": "code",
   "execution_count": 87,
   "metadata": {},
   "outputs": [
    {
     "data": {
      "text/html": [
       "<div>\n",
       "<style scoped>\n",
       "    .dataframe tbody tr th:only-of-type {\n",
       "        vertical-align: middle;\n",
       "    }\n",
       "\n",
       "    .dataframe tbody tr th {\n",
       "        vertical-align: top;\n",
       "    }\n",
       "\n",
       "    .dataframe thead th {\n",
       "        text-align: right;\n",
       "    }\n",
       "</style>\n",
       "<table border=\"1\" class=\"dataframe\">\n",
       "  <thead>\n",
       "    <tr style=\"text-align: right;\">\n",
       "      <th></th>\n",
       "      <th>Logistic Regression</th>\n",
       "    </tr>\n",
       "  </thead>\n",
       "  <tbody>\n",
       "    <tr>\n",
       "      <th>0</th>\n",
       "      <td>0.071429</td>\n",
       "    </tr>\n",
       "    <tr>\n",
       "      <th>1</th>\n",
       "      <td>0.095238</td>\n",
       "    </tr>\n",
       "    <tr>\n",
       "      <th>2</th>\n",
       "      <td>0.089286</td>\n",
       "    </tr>\n",
       "    <tr>\n",
       "      <th>3</th>\n",
       "      <td>0.095808</td>\n",
       "    </tr>\n",
       "    <tr>\n",
       "      <th>4</th>\n",
       "      <td>0.071856</td>\n",
       "    </tr>\n",
       "    <tr>\n",
       "      <th>5</th>\n",
       "      <td>0.101796</td>\n",
       "    </tr>\n",
       "    <tr>\n",
       "      <th>6</th>\n",
       "      <td>0.101796</td>\n",
       "    </tr>\n",
       "    <tr>\n",
       "      <th>7</th>\n",
       "      <td>0.095808</td>\n",
       "    </tr>\n",
       "    <tr>\n",
       "      <th>8</th>\n",
       "      <td>0.047904</td>\n",
       "    </tr>\n",
       "    <tr>\n",
       "      <th>9</th>\n",
       "      <td>0.089820</td>\n",
       "    </tr>\n",
       "  </tbody>\n",
       "</table>\n",
       "</div>"
      ],
      "text/plain": [
       "   Logistic Regression\n",
       "0             0.071429\n",
       "1             0.095238\n",
       "2             0.089286\n",
       "3             0.095808\n",
       "4             0.071856\n",
       "5             0.101796\n",
       "6             0.101796\n",
       "7             0.095808\n",
       "8             0.047904\n",
       "9             0.089820"
      ]
     },
     "execution_count": 87,
     "metadata": {},
     "output_type": "execute_result"
    }
   ],
   "source": [
    "models_classification = pd.DataFrame(1-lr_scores, columns=['Logistic Regression'])\n",
    "models_classification"
   ]
  },
  {
   "cell_type": "markdown",
   "metadata": {
    "cell_id": "9b0a3fb118874bb59655e6387481fe96",
    "deepnote_cell_type": "text-cell-h2",
    "formattedRanges": []
   },
   "source": [
    "## Linear Discriminant Analysis (LDA) - Elena"
   ]
  },
  {
   "cell_type": "code",
   "execution_count": 88,
   "metadata": {
    "cell_id": "f212c7d218d0484581dafe4a5e35c62a",
    "deepnote_cell_type": "code",
    "deepnote_to_be_reexecuted": false,
    "execution_millis": 87,
    "execution_start": 1681680686573,
    "source_hash": "4ec19e24"
   },
   "outputs": [
    {
     "name": "stdout",
     "output_type": "stream",
     "text": [
      "Accuracy: 0.9014925373134328\n",
      "Classification Error: 0.09850746268656718\n"
     ]
    }
   ],
   "source": [
    "# Split the data into X (input features) and y (target variable)\n",
    "X = train_data[['S', 'K', 'r', 'tau']]\n",
    "y = train_data['BS']\n",
    "\n",
    "# Standardization\n",
    "scaler = StandardScaler()\n",
    "X = scaler.fit_transform(X)\n",
    "\n",
    "# Split the data into training and testing sets\n",
    "X_train, X_test, y_train, y_test = train_test_split(X, y, test_size=0.2, random_state=2)\n",
    "\n",
    "# Train an LDA model on the training data\n",
    "lda_model = LinearDiscriminantAnalysis()\n",
    "lda_model.fit(X_train, y_train)\n",
    "\n",
    "# Evaluate the model on the testing data\n",
    "accuracy = lda_model.score(X_test, y_test)\n",
    "print(\"Accuracy:\", accuracy)\n",
    "print(\"Classification Error:\", 1 - accuracy)"
   ]
  },
  {
   "cell_type": "code",
   "execution_count": 89,
   "metadata": {
    "cell_id": "e2d0d9e9cf4a4102b10a4dd83b35129b",
    "deepnote_cell_type": "code",
    "deepnote_to_be_reexecuted": false,
    "execution_millis": 156,
    "execution_start": 1681680686671,
    "source_hash": "2f5f88bc"
   },
   "outputs": [
    {
     "name": "stdout",
     "output_type": "stream",
     "text": [
      "LDA: \n",
      "\n",
      "Accuracy of 10-folds: [0.92857143 0.9047619  0.9047619  0.89820359 0.92814371 0.89820359\n",
      " 0.91017964 0.89820359 0.95209581 0.91017964]\n",
      "The mean of Accuracy: 0.9133304818933562\n",
      "Classification Error: 0.0866695181066438\n"
     ]
    }
   ],
   "source": [
    "# **Choose this cell**\n",
    "# Create a KFold object with 10 folds\n",
    "kfold = StratifiedKFold(n_splits=10, shuffle=True, random_state=2)\n",
    "\n",
    "# Perform k-fold cross-validation on the LDA model\n",
    "lda_model = LinearDiscriminantAnalysis()\n",
    "lda_scores = cross_val_score(lda_model, X, y, cv=kfold, scoring='accuracy')\n",
    "\n",
    "\n",
    "# Print the mean and standard deviation of the scores\n",
    "print('LDA: \\n')\n",
    "print('Accuracy of 10-folds:', lda_scores)\n",
    "print('The mean of Accuracy:', np.mean(lda_scores))\n",
    "print(\"Classification Error:\", 1 - np.mean(lda_scores))"
   ]
  },
  {
   "cell_type": "code",
   "execution_count": 90,
   "metadata": {},
   "outputs": [
    {
     "data": {
      "text/plain": [
       "array([0.07142857, 0.0952381 , 0.0952381 , 0.10179641, 0.07185629,\n",
       "       0.10179641, 0.08982036, 0.10179641, 0.04790419, 0.08982036])"
      ]
     },
     "execution_count": 90,
     "metadata": {},
     "output_type": "execute_result"
    }
   ],
   "source": [
    "1-lda_scores"
   ]
  },
  {
   "cell_type": "code",
   "execution_count": 91,
   "metadata": {},
   "outputs": [
    {
     "data": {
      "text/html": [
       "<div>\n",
       "<style scoped>\n",
       "    .dataframe tbody tr th:only-of-type {\n",
       "        vertical-align: middle;\n",
       "    }\n",
       "\n",
       "    .dataframe tbody tr th {\n",
       "        vertical-align: top;\n",
       "    }\n",
       "\n",
       "    .dataframe thead th {\n",
       "        text-align: right;\n",
       "    }\n",
       "</style>\n",
       "<table border=\"1\" class=\"dataframe\">\n",
       "  <thead>\n",
       "    <tr style=\"text-align: right;\">\n",
       "      <th></th>\n",
       "      <th>Logistic Regression</th>\n",
       "      <th>Linear Discriminant Analysis</th>\n",
       "    </tr>\n",
       "  </thead>\n",
       "  <tbody>\n",
       "    <tr>\n",
       "      <th>0</th>\n",
       "      <td>0.071429</td>\n",
       "      <td>0.071429</td>\n",
       "    </tr>\n",
       "    <tr>\n",
       "      <th>1</th>\n",
       "      <td>0.095238</td>\n",
       "      <td>0.095238</td>\n",
       "    </tr>\n",
       "    <tr>\n",
       "      <th>2</th>\n",
       "      <td>0.089286</td>\n",
       "      <td>0.095238</td>\n",
       "    </tr>\n",
       "    <tr>\n",
       "      <th>3</th>\n",
       "      <td>0.095808</td>\n",
       "      <td>0.101796</td>\n",
       "    </tr>\n",
       "    <tr>\n",
       "      <th>4</th>\n",
       "      <td>0.071856</td>\n",
       "      <td>0.071856</td>\n",
       "    </tr>\n",
       "    <tr>\n",
       "      <th>5</th>\n",
       "      <td>0.101796</td>\n",
       "      <td>0.101796</td>\n",
       "    </tr>\n",
       "    <tr>\n",
       "      <th>6</th>\n",
       "      <td>0.101796</td>\n",
       "      <td>0.089820</td>\n",
       "    </tr>\n",
       "    <tr>\n",
       "      <th>7</th>\n",
       "      <td>0.095808</td>\n",
       "      <td>0.101796</td>\n",
       "    </tr>\n",
       "    <tr>\n",
       "      <th>8</th>\n",
       "      <td>0.047904</td>\n",
       "      <td>0.047904</td>\n",
       "    </tr>\n",
       "    <tr>\n",
       "      <th>9</th>\n",
       "      <td>0.089820</td>\n",
       "      <td>0.089820</td>\n",
       "    </tr>\n",
       "  </tbody>\n",
       "</table>\n",
       "</div>"
      ],
      "text/plain": [
       "   Logistic Regression  Linear Discriminant Analysis\n",
       "0             0.071429                      0.071429\n",
       "1             0.095238                      0.095238\n",
       "2             0.089286                      0.095238\n",
       "3             0.095808                      0.101796\n",
       "4             0.071856                      0.071856\n",
       "5             0.101796                      0.101796\n",
       "6             0.101796                      0.089820\n",
       "7             0.095808                      0.101796\n",
       "8             0.047904                      0.047904\n",
       "9             0.089820                      0.089820"
      ]
     },
     "execution_count": 91,
     "metadata": {},
     "output_type": "execute_result"
    }
   ],
   "source": [
    "models_classification = pd.concat([models_classification, pd.DataFrame(1-lda_scores, columns=['Linear Discriminant Analysis'])], axis=1)\n",
    "models_classification"
   ]
  },
  {
   "cell_type": "markdown",
   "metadata": {
    "cell_id": "7948fbb80ba54f4db1c91ff0a3e80617",
    "deepnote_cell_type": "text-cell-h2",
    "formattedRanges": []
   },
   "source": [
    "## K-nearest neighbors (KNN) - Crystal"
   ]
  },
  {
   "cell_type": "code",
   "execution_count": 92,
   "metadata": {},
   "outputs": [
    {
     "data": {
      "text/html": [
       "<div>\n",
       "<style scoped>\n",
       "    .dataframe tbody tr th:only-of-type {\n",
       "        vertical-align: middle;\n",
       "    }\n",
       "\n",
       "    .dataframe tbody tr th {\n",
       "        vertical-align: top;\n",
       "    }\n",
       "\n",
       "    .dataframe thead th {\n",
       "        text-align: right;\n",
       "    }\n",
       "</style>\n",
       "<table border=\"1\" class=\"dataframe\">\n",
       "  <thead>\n",
       "    <tr style=\"text-align: right;\">\n",
       "      <th></th>\n",
       "      <th>Value</th>\n",
       "      <th>S</th>\n",
       "      <th>K</th>\n",
       "      <th>tau</th>\n",
       "      <th>r</th>\n",
       "      <th>BS</th>\n",
       "    </tr>\n",
       "  </thead>\n",
       "  <tbody>\n",
       "    <tr>\n",
       "      <th>0</th>\n",
       "      <td>21.670404</td>\n",
       "      <td>431.623898</td>\n",
       "      <td>420.0</td>\n",
       "      <td>0.341270</td>\n",
       "      <td>0.03013</td>\n",
       "      <td>0</td>\n",
       "    </tr>\n",
       "    <tr>\n",
       "      <th>1</th>\n",
       "      <td>0.125000</td>\n",
       "      <td>427.015526</td>\n",
       "      <td>465.0</td>\n",
       "      <td>0.166667</td>\n",
       "      <td>0.03126</td>\n",
       "      <td>1</td>\n",
       "    </tr>\n",
       "    <tr>\n",
       "      <th>2</th>\n",
       "      <td>20.691244</td>\n",
       "      <td>427.762336</td>\n",
       "      <td>415.0</td>\n",
       "      <td>0.265873</td>\n",
       "      <td>0.03116</td>\n",
       "      <td>0</td>\n",
       "    </tr>\n",
       "    <tr>\n",
       "      <th>3</th>\n",
       "      <td>1.035002</td>\n",
       "      <td>451.711658</td>\n",
       "      <td>460.0</td>\n",
       "      <td>0.063492</td>\n",
       "      <td>0.02972</td>\n",
       "      <td>1</td>\n",
       "    </tr>\n",
       "    <tr>\n",
       "      <th>4</th>\n",
       "      <td>39.553020</td>\n",
       "      <td>446.718974</td>\n",
       "      <td>410.0</td>\n",
       "      <td>0.166667</td>\n",
       "      <td>0.02962</td>\n",
       "      <td>0</td>\n",
       "    </tr>\n",
       "    <tr>\n",
       "      <th>...</th>\n",
       "      <td>...</td>\n",
       "      <td>...</td>\n",
       "      <td>...</td>\n",
       "      <td>...</td>\n",
       "      <td>...</td>\n",
       "      <td>...</td>\n",
       "    </tr>\n",
       "    <tr>\n",
       "      <th>1668</th>\n",
       "      <td>1.470000</td>\n",
       "      <td>444.397163</td>\n",
       "      <td>475.0</td>\n",
       "      <td>0.273810</td>\n",
       "      <td>0.03034</td>\n",
       "      <td>1</td>\n",
       "    </tr>\n",
       "    <tr>\n",
       "      <th>1669</th>\n",
       "      <td>34.927317</td>\n",
       "      <td>438.453825</td>\n",
       "      <td>410.0</td>\n",
       "      <td>0.301587</td>\n",
       "      <td>0.02972</td>\n",
       "      <td>0</td>\n",
       "    </tr>\n",
       "    <tr>\n",
       "      <th>1670</th>\n",
       "      <td>41.127997</td>\n",
       "      <td>428.042219</td>\n",
       "      <td>390.0</td>\n",
       "      <td>0.170635</td>\n",
       "      <td>0.03188</td>\n",
       "      <td>0</td>\n",
       "    </tr>\n",
       "    <tr>\n",
       "      <th>1671</th>\n",
       "      <td>0.440003</td>\n",
       "      <td>439.081203</td>\n",
       "      <td>480.0</td>\n",
       "      <td>0.293651</td>\n",
       "      <td>0.02962</td>\n",
       "      <td>1</td>\n",
       "    </tr>\n",
       "    <tr>\n",
       "      <th>1672</th>\n",
       "      <td>0.410002</td>\n",
       "      <td>432.167692</td>\n",
       "      <td>465.0</td>\n",
       "      <td>0.218254</td>\n",
       "      <td>0.02993</td>\n",
       "      <td>1</td>\n",
       "    </tr>\n",
       "  </tbody>\n",
       "</table>\n",
       "<p>1673 rows × 6 columns</p>\n",
       "</div>"
      ],
      "text/plain": [
       "          Value           S      K       tau        r  BS\n",
       "0     21.670404  431.623898  420.0  0.341270  0.03013   0\n",
       "1      0.125000  427.015526  465.0  0.166667  0.03126   1\n",
       "2     20.691244  427.762336  415.0  0.265873  0.03116   0\n",
       "3      1.035002  451.711658  460.0  0.063492  0.02972   1\n",
       "4     39.553020  446.718974  410.0  0.166667  0.02962   0\n",
       "...         ...         ...    ...       ...      ...  ..\n",
       "1668   1.470000  444.397163  475.0  0.273810  0.03034   1\n",
       "1669  34.927317  438.453825  410.0  0.301587  0.02972   0\n",
       "1670  41.127997  428.042219  390.0  0.170635  0.03188   0\n",
       "1671   0.440003  439.081203  480.0  0.293651  0.02962   1\n",
       "1672   0.410002  432.167692  465.0  0.218254  0.02993   1\n",
       "\n",
       "[1673 rows x 6 columns]"
      ]
     },
     "execution_count": 92,
     "metadata": {},
     "output_type": "execute_result"
    }
   ],
   "source": [
    "train_data = train_data.reset_index(drop=True)\n",
    "train_data"
   ]
  },
  {
   "cell_type": "code",
   "execution_count": 93,
   "metadata": {
    "cell_id": "bb28eaa21b714580bd153a50c157d62c",
    "deepnote_cell_type": "code",
    "deepnote_to_be_reexecuted": false,
    "execution_millis": 80,
    "execution_start": 1681680686830,
    "scrolled": true,
    "source_hash": "8c47a431"
   },
   "outputs": [
    {
     "data": {
      "text/html": [
       "<div>\n",
       "<style scoped>\n",
       "    .dataframe tbody tr th:only-of-type {\n",
       "        vertical-align: middle;\n",
       "    }\n",
       "\n",
       "    .dataframe tbody tr th {\n",
       "        vertical-align: top;\n",
       "    }\n",
       "\n",
       "    .dataframe thead th {\n",
       "        text-align: right;\n",
       "    }\n",
       "</style>\n",
       "<table border=\"1\" class=\"dataframe\">\n",
       "  <thead>\n",
       "    <tr style=\"text-align: right;\">\n",
       "      <th></th>\n",
       "      <th>Value</th>\n",
       "      <th>S</th>\n",
       "      <th>K</th>\n",
       "      <th>tau</th>\n",
       "      <th>r</th>\n",
       "      <th>BS</th>\n",
       "    </tr>\n",
       "  </thead>\n",
       "  <tbody>\n",
       "    <tr>\n",
       "      <th>0</th>\n",
       "      <td>21.670404</td>\n",
       "      <td>431.623898</td>\n",
       "      <td>420.0</td>\n",
       "      <td>0.341270</td>\n",
       "      <td>0.03013</td>\n",
       "      <td>0</td>\n",
       "    </tr>\n",
       "    <tr>\n",
       "      <th>1</th>\n",
       "      <td>0.125000</td>\n",
       "      <td>427.015526</td>\n",
       "      <td>465.0</td>\n",
       "      <td>0.166667</td>\n",
       "      <td>0.03126</td>\n",
       "      <td>1</td>\n",
       "    </tr>\n",
       "    <tr>\n",
       "      <th>2</th>\n",
       "      <td>20.691244</td>\n",
       "      <td>427.762336</td>\n",
       "      <td>415.0</td>\n",
       "      <td>0.265873</td>\n",
       "      <td>0.03116</td>\n",
       "      <td>0</td>\n",
       "    </tr>\n",
       "    <tr>\n",
       "      <th>3</th>\n",
       "      <td>1.035002</td>\n",
       "      <td>451.711658</td>\n",
       "      <td>460.0</td>\n",
       "      <td>0.063492</td>\n",
       "      <td>0.02972</td>\n",
       "      <td>1</td>\n",
       "    </tr>\n",
       "    <tr>\n",
       "      <th>4</th>\n",
       "      <td>39.553020</td>\n",
       "      <td>446.718974</td>\n",
       "      <td>410.0</td>\n",
       "      <td>0.166667</td>\n",
       "      <td>0.02962</td>\n",
       "      <td>0</td>\n",
       "    </tr>\n",
       "    <tr>\n",
       "      <th>...</th>\n",
       "      <td>...</td>\n",
       "      <td>...</td>\n",
       "      <td>...</td>\n",
       "      <td>...</td>\n",
       "      <td>...</td>\n",
       "      <td>...</td>\n",
       "    </tr>\n",
       "    <tr>\n",
       "      <th>1668</th>\n",
       "      <td>1.470000</td>\n",
       "      <td>444.397163</td>\n",
       "      <td>475.0</td>\n",
       "      <td>0.273810</td>\n",
       "      <td>0.03034</td>\n",
       "      <td>1</td>\n",
       "    </tr>\n",
       "    <tr>\n",
       "      <th>1669</th>\n",
       "      <td>34.927317</td>\n",
       "      <td>438.453825</td>\n",
       "      <td>410.0</td>\n",
       "      <td>0.301587</td>\n",
       "      <td>0.02972</td>\n",
       "      <td>0</td>\n",
       "    </tr>\n",
       "    <tr>\n",
       "      <th>1670</th>\n",
       "      <td>41.127997</td>\n",
       "      <td>428.042219</td>\n",
       "      <td>390.0</td>\n",
       "      <td>0.170635</td>\n",
       "      <td>0.03188</td>\n",
       "      <td>0</td>\n",
       "    </tr>\n",
       "    <tr>\n",
       "      <th>1671</th>\n",
       "      <td>0.440003</td>\n",
       "      <td>439.081203</td>\n",
       "      <td>480.0</td>\n",
       "      <td>0.293651</td>\n",
       "      <td>0.02962</td>\n",
       "      <td>1</td>\n",
       "    </tr>\n",
       "    <tr>\n",
       "      <th>1672</th>\n",
       "      <td>0.410002</td>\n",
       "      <td>432.167692</td>\n",
       "      <td>465.0</td>\n",
       "      <td>0.218254</td>\n",
       "      <td>0.02993</td>\n",
       "      <td>1</td>\n",
       "    </tr>\n",
       "  </tbody>\n",
       "</table>\n",
       "<p>1673 rows × 6 columns</p>\n",
       "</div>"
      ],
      "text/plain": [
       "          Value           S      K       tau        r  BS\n",
       "0     21.670404  431.623898  420.0  0.341270  0.03013   0\n",
       "1      0.125000  427.015526  465.0  0.166667  0.03126   1\n",
       "2     20.691244  427.762336  415.0  0.265873  0.03116   0\n",
       "3      1.035002  451.711658  460.0  0.063492  0.02972   1\n",
       "4     39.553020  446.718974  410.0  0.166667  0.02962   0\n",
       "...         ...         ...    ...       ...      ...  ..\n",
       "1668   1.470000  444.397163  475.0  0.273810  0.03034   1\n",
       "1669  34.927317  438.453825  410.0  0.301587  0.02972   0\n",
       "1670  41.127997  428.042219  390.0  0.170635  0.03188   0\n",
       "1671   0.440003  439.081203  480.0  0.293651  0.02962   1\n",
       "1672   0.410002  432.167692  465.0  0.218254  0.02993   1\n",
       "\n",
       "[1673 rows x 6 columns]"
      ]
     },
     "execution_count": 93,
     "metadata": {},
     "output_type": "execute_result"
    }
   ],
   "source": [
    "df = train_data.copy()\n",
    "\n",
    "# reset index\n",
    "df = df.reset_index(drop=True)\n",
    "df"
   ]
  },
  {
   "cell_type": "markdown",
   "metadata": {
    "cell_id": "47a2c2b278614ceeb8861f5b2074c24b",
    "deepnote_cell_type": "text-cell-h3",
    "formattedRanges": []
   },
   "source": [
    "### KNN -- Classification (BS)"
   ]
  },
  {
   "cell_type": "code",
   "execution_count": 94,
   "metadata": {
    "cell_id": "b316b9059ad3459ab77f3079fbfc04d1",
    "deepnote_cell_type": "code",
    "deepnote_to_be_reexecuted": false,
    "execution_millis": 464,
    "execution_start": 1681680687004,
    "source_hash": "dc0476e6"
   },
   "outputs": [],
   "source": [
    "# import numpy as np\n",
    "# from sklearn.neighbors import KNeighborsClassifier\n",
    "# from sklearn.model_selection import StratifiedKFold ## recommended for classification\n",
    "\n",
    "# cv_classification_errors = []\n",
    "\n",
    "# kfolds = StratifiedKFold(n_splits = 10, random_state = 2, shuffle = True)\n",
    "\n",
    "# for train_index, test_index in kfolds.split(x_std,y):\n",
    "#     # train the KNN model\n",
    "#     result = KNeighborsClassifier(n_neighbors=10).fit(x_std[train_index], y[train_index])\n",
    "\n",
    "#     # select the test set according to test_index produced by kfolds.split\n",
    "#     X_test = x_std[test_index]\n",
    "#     y_test = y[test_index]\n",
    "    \n",
    "#     # compute the probabilities of test data\n",
    "#     result_prob = result.predict(X_test)\n",
    "#     # select 0.5 as the threshold\n",
    "#     result_pred = (result_prob > 0.5)\n",
    "#     # compute the classification error\n",
    "#     classification_error = np.mean(result_pred != y_test)\n",
    "#     # add the computed classification error to \"cv_classification_errors_1\" to store the result \n",
    "#     cv_classification_errors.append(classification_error)\n",
    "\n",
    "    \n",
    "# mean_classification_error = np.mean(cv_classification_errors)\n",
    "\n",
    "# print('Mean classification error:', mean_classification_error)\n",
    "\n",
    "# # Mean classification error: 0.07157827202737381"
   ]
  },
  {
   "cell_type": "code",
   "execution_count": 95,
   "metadata": {
    "cell_id": "df618f33301b4a14a8bbf3846c32f27d",
    "deepnote_cell_type": "code",
    "deepnote_to_be_reexecuted": false,
    "execution_millis": 366,
    "execution_start": 1681680687437,
    "source_hash": "ac393a8d"
   },
   "outputs": [],
   "source": [
    "# from sklearn.neighbors import KNeighborsClassifier\n",
    "# from sklearn.model_selection import StratifiedKFold ## recommended for classification\n",
    "\n",
    "# cv_classification_errors = []\n",
    "\n",
    "# kfolds = StratifiedKFold(n_splits = 10, random_state = 2, shuffle = True)\n",
    "\n",
    "# for train_index, test_index in kfolds.split(x_std,y):\n",
    "#     # train the KNN model\n",
    "#     result = KNeighborsClassifier(n_neighbors=10).fit(x_std[train_index], y[train_index])\n",
    "\n",
    "#     # select the test set according to test_index produced by kfolds.split\n",
    "#     X_test = x_std[test_index]\n",
    "#     y_test = y[test_index]\n",
    "\n",
    "#     # compute the classification error\n",
    "#     classification_error = 1 - result.score(X_test, y_test)\n",
    "    \n",
    "#     # add the computed classification error to \"cv_classification_errors\" to store the result \n",
    "#     cv_classification_errors.append(classification_error)\n",
    "    \n",
    "# mean_classification_error = np.mean(cv_classification_errors)\n",
    "\n",
    "# print('Mean classification error:', mean_classification_error)\n",
    "\n",
    "# # Mean classification error: 0.0715782720273738"
   ]
  },
  {
   "cell_type": "code",
   "execution_count": 96,
   "metadata": {
    "cell_id": "489caa1d27d7426db5c945f74334774c",
    "deepnote_cell_type": "code",
    "deepnote_to_be_reexecuted": false,
    "execution_millis": 335,
    "execution_start": 1681680687807,
    "source_hash": "ca770a1e"
   },
   "outputs": [
    {
     "name": "stdout",
     "output_type": "stream",
     "text": [
      "Mean Classification Error: 0.07111627491286088\n"
     ]
    }
   ],
   "source": [
    "# **Choose this cell**\n",
    "# Cross_val_score -- faster method\n",
    "# n_neighbor = 3 has smaller classification error than n_neighbor = 5\n",
    "\n",
    "# Standardize the X data\n",
    "scaler = StandardScaler()\n",
    "X_scaled = scaler.fit_transform(df.iloc[:,1:5])\n",
    "y = df.iloc[:,5]\n",
    "\n",
    "# Instantiate KNeighborsClassifier object\n",
    "knn = KNeighborsClassifier(n_neighbors=10)\n",
    "\n",
    "# Instantiate StratifiedKFold object\n",
    "kfolds = StratifiedKFold(n_splits = 5, random_state = 2, shuffle = True)\n",
    "\n",
    "# Perform cross-validation\n",
    "scores = cross_val_score(knn, X_scaled, y.values.ravel(), cv=kfolds, scoring='accuracy')\n",
    "class_error = 1 - scores\n",
    "\n",
    "# Print the mean of the cross-validation scores\n",
    "print(\"Mean Classification Error:\", class_error.mean())"
   ]
  },
  {
   "cell_type": "code",
   "execution_count": 97,
   "metadata": {},
   "outputs": [
    {
     "data": {
      "text/html": [
       "<div>\n",
       "<style scoped>\n",
       "    .dataframe tbody tr th:only-of-type {\n",
       "        vertical-align: middle;\n",
       "    }\n",
       "\n",
       "    .dataframe tbody tr th {\n",
       "        vertical-align: top;\n",
       "    }\n",
       "\n",
       "    .dataframe thead th {\n",
       "        text-align: right;\n",
       "    }\n",
       "</style>\n",
       "<table border=\"1\" class=\"dataframe\">\n",
       "  <thead>\n",
       "    <tr style=\"text-align: right;\">\n",
       "      <th></th>\n",
       "      <th>Logistic Regression</th>\n",
       "      <th>Linear Discriminant Analysis</th>\n",
       "      <th>K Nearest Neighbors</th>\n",
       "    </tr>\n",
       "  </thead>\n",
       "  <tbody>\n",
       "    <tr>\n",
       "      <th>0</th>\n",
       "      <td>0.071429</td>\n",
       "      <td>0.071429</td>\n",
       "      <td>0.089552</td>\n",
       "    </tr>\n",
       "    <tr>\n",
       "      <th>1</th>\n",
       "      <td>0.095238</td>\n",
       "      <td>0.095238</td>\n",
       "      <td>0.077612</td>\n",
       "    </tr>\n",
       "    <tr>\n",
       "      <th>2</th>\n",
       "      <td>0.089286</td>\n",
       "      <td>0.095238</td>\n",
       "      <td>0.068657</td>\n",
       "    </tr>\n",
       "    <tr>\n",
       "      <th>3</th>\n",
       "      <td>0.095808</td>\n",
       "      <td>0.101796</td>\n",
       "      <td>0.047904</td>\n",
       "    </tr>\n",
       "    <tr>\n",
       "      <th>4</th>\n",
       "      <td>0.071856</td>\n",
       "      <td>0.071856</td>\n",
       "      <td>0.071856</td>\n",
       "    </tr>\n",
       "    <tr>\n",
       "      <th>5</th>\n",
       "      <td>0.101796</td>\n",
       "      <td>0.101796</td>\n",
       "      <td>NaN</td>\n",
       "    </tr>\n",
       "    <tr>\n",
       "      <th>6</th>\n",
       "      <td>0.101796</td>\n",
       "      <td>0.089820</td>\n",
       "      <td>NaN</td>\n",
       "    </tr>\n",
       "    <tr>\n",
       "      <th>7</th>\n",
       "      <td>0.095808</td>\n",
       "      <td>0.101796</td>\n",
       "      <td>NaN</td>\n",
       "    </tr>\n",
       "    <tr>\n",
       "      <th>8</th>\n",
       "      <td>0.047904</td>\n",
       "      <td>0.047904</td>\n",
       "      <td>NaN</td>\n",
       "    </tr>\n",
       "    <tr>\n",
       "      <th>9</th>\n",
       "      <td>0.089820</td>\n",
       "      <td>0.089820</td>\n",
       "      <td>NaN</td>\n",
       "    </tr>\n",
       "  </tbody>\n",
       "</table>\n",
       "</div>"
      ],
      "text/plain": [
       "   Logistic Regression  Linear Discriminant Analysis  K Nearest Neighbors\n",
       "0             0.071429                      0.071429             0.089552\n",
       "1             0.095238                      0.095238             0.077612\n",
       "2             0.089286                      0.095238             0.068657\n",
       "3             0.095808                      0.101796             0.047904\n",
       "4             0.071856                      0.071856             0.071856\n",
       "5             0.101796                      0.101796                  NaN\n",
       "6             0.101796                      0.089820                  NaN\n",
       "7             0.095808                      0.101796                  NaN\n",
       "8             0.047904                      0.047904                  NaN\n",
       "9             0.089820                      0.089820                  NaN"
      ]
     },
     "execution_count": 97,
     "metadata": {},
     "output_type": "execute_result"
    }
   ],
   "source": [
    "models_classification = pd.concat([models_classification, pd.DataFrame(class_error, columns=['K Nearest Neighbors'])], axis=1)\n",
    "models_classification"
   ]
  },
  {
   "cell_type": "markdown",
   "metadata": {
    "cell_id": "28820d350203452793128762a57df95d",
    "deepnote_cell_type": "text-cell-h3",
    "formattedRanges": []
   },
   "source": [
    "### KNN Regression -- Value (C)"
   ]
  },
  {
   "cell_type": "markdown",
   "metadata": {
    "cell_id": "916c0ad5-16da-41b2-9af8-a2fb8a0c1a9c",
    "deepnote_cell_type": "text-cell-p",
    "formattedRanges": []
   },
   "source": [
    "full score for > 94%"
   ]
  },
  {
   "cell_type": "code",
   "execution_count": 98,
   "metadata": {
    "cell_id": "bb97d456fdb3491e85f999d255878433",
    "deepnote_cell_type": "code",
    "deepnote_to_be_reexecuted": false,
    "execution_millis": 38,
    "execution_start": 1681680688170,
    "source_hash": "d9b6fbc7"
   },
   "outputs": [],
   "source": [
    "# standardised the train_data\n",
    "stdsc = StandardScaler()\n",
    "x_std = stdsc.fit_transform(df.iloc[:,1:5])\n",
    "y = df.iloc[:,0]"
   ]
  },
  {
   "cell_type": "code",
   "execution_count": 99,
   "metadata": {
    "cell_id": "8968ba6ade7e4354a076623a9ce0958e",
    "deepnote_cell_type": "code",
    "deepnote_to_be_reexecuted": false,
    "execution_millis": 153,
    "execution_start": 1681680688213,
    "source_hash": "dbaedaa0"
   },
   "outputs": [
    {
     "name": "stdout",
     "output_type": "stream",
     "text": [
      "KNN Regression: \n",
      "\n",
      "R2 of 10-folds cv: [0.97584045 0.98663525 0.98315114 0.98692561 0.97833828 0.97576445\n",
      " 0.98372428 0.98225007 0.9854493  0.97534831]\n",
      "mean R2: 0.981342712951732\n"
     ]
    }
   ],
   "source": [
    "kfolds_regression = KFold(n_splits = 10, random_state = 2, shuffle = True) \n",
    "\n",
    "knn_regression = KNeighborsRegressor(n_neighbors=5)\n",
    "\n",
    "knn_reg_cv_5 = cross_val_score(knn_regression, x_std, y, cv=kfolds_regression, scoring='r2')\n",
    "\n",
    "print(\"KNN Regression: \\n\")\n",
    "print(\"R2 of 10-folds cv:\", knn_reg_cv_5)\n",
    "print(\"mean R2:\", np.mean(knn_reg_cv_5))"
   ]
  },
  {
   "cell_type": "code",
   "execution_count": 100,
   "metadata": {},
   "outputs": [
    {
     "name": "stdout",
     "output_type": "stream",
     "text": [
      "KNN Regression: \n",
      "\n",
      "R2 of 10-folds cv: [0.96980067 0.98051891 0.97655407 0.98214121 0.97076685 0.97105596\n",
      " 0.97746676 0.97984161 0.98029008 0.97555141]\n",
      "mean R2: 0.9763987536778691\n"
     ]
    }
   ],
   "source": [
    "kfolds_regression = KFold(n_splits = 10, random_state = 2, shuffle = True) \n",
    "\n",
    "knn_regression = KNeighborsRegressor(n_neighbors=10)\n",
    "\n",
    "knn_reg_cv_10 = cross_val_score(knn_regression, x_std, y, cv=kfolds_regression, scoring='r2')\n",
    "\n",
    "print(\"KNN Regression: \\n\")\n",
    "print(\"R2 of 10-folds cv:\", knn_reg_cv_10)\n",
    "print(\"mean R2:\", np.mean(knn_reg_cv_10))"
   ]
  },
  {
   "cell_type": "code",
   "execution_count": 101,
   "metadata": {},
   "outputs": [
    {
     "data": {
      "text/html": [
       "<div>\n",
       "<style scoped>\n",
       "    .dataframe tbody tr th:only-of-type {\n",
       "        vertical-align: middle;\n",
       "    }\n",
       "\n",
       "    .dataframe tbody tr th {\n",
       "        vertical-align: top;\n",
       "    }\n",
       "\n",
       "    .dataframe thead th {\n",
       "        text-align: right;\n",
       "    }\n",
       "</style>\n",
       "<table border=\"1\" class=\"dataframe\">\n",
       "  <thead>\n",
       "    <tr style=\"text-align: right;\">\n",
       "      <th></th>\n",
       "      <th>Linear Regression</th>\n",
       "      <th>K Nearest Neighbors</th>\n",
       "    </tr>\n",
       "  </thead>\n",
       "  <tbody>\n",
       "    <tr>\n",
       "      <th>0</th>\n",
       "      <td>0.904298</td>\n",
       "      <td>0.975840</td>\n",
       "    </tr>\n",
       "    <tr>\n",
       "      <th>1</th>\n",
       "      <td>0.923114</td>\n",
       "      <td>0.986635</td>\n",
       "    </tr>\n",
       "    <tr>\n",
       "      <th>2</th>\n",
       "      <td>0.915912</td>\n",
       "      <td>0.983151</td>\n",
       "    </tr>\n",
       "    <tr>\n",
       "      <th>3</th>\n",
       "      <td>0.909624</td>\n",
       "      <td>0.986926</td>\n",
       "    </tr>\n",
       "    <tr>\n",
       "      <th>4</th>\n",
       "      <td>0.915089</td>\n",
       "      <td>0.978338</td>\n",
       "    </tr>\n",
       "    <tr>\n",
       "      <th>5</th>\n",
       "      <td>0.912409</td>\n",
       "      <td>0.975764</td>\n",
       "    </tr>\n",
       "    <tr>\n",
       "      <th>6</th>\n",
       "      <td>0.907232</td>\n",
       "      <td>0.983724</td>\n",
       "    </tr>\n",
       "    <tr>\n",
       "      <th>7</th>\n",
       "      <td>0.910531</td>\n",
       "      <td>0.982250</td>\n",
       "    </tr>\n",
       "    <tr>\n",
       "      <th>8</th>\n",
       "      <td>0.918869</td>\n",
       "      <td>0.985449</td>\n",
       "    </tr>\n",
       "    <tr>\n",
       "      <th>9</th>\n",
       "      <td>0.886749</td>\n",
       "      <td>0.975348</td>\n",
       "    </tr>\n",
       "  </tbody>\n",
       "</table>\n",
       "</div>"
      ],
      "text/plain": [
       "   Linear Regression  K Nearest Neighbors\n",
       "0           0.904298             0.975840\n",
       "1           0.923114             0.986635\n",
       "2           0.915912             0.983151\n",
       "3           0.909624             0.986926\n",
       "4           0.915089             0.978338\n",
       "5           0.912409             0.975764\n",
       "6           0.907232             0.983724\n",
       "7           0.910531             0.982250\n",
       "8           0.918869             0.985449\n",
       "9           0.886749             0.975348"
      ]
     },
     "execution_count": 101,
     "metadata": {},
     "output_type": "execute_result"
    }
   ],
   "source": [
    "models_regression = pd.concat([models_regression, pd.DataFrame(knn_reg_cv_5, columns=['K Nearest Neighbors'])], axis=1)\n",
    "models_regression"
   ]
  },
  {
   "cell_type": "markdown",
   "metadata": {
    "cell_id": "4f58c69bb23545d6a6ba2a6d4b431bfb",
    "deepnote_cell_type": "text-cell-h2",
    "formattedRanges": []
   },
   "source": [
    "## Decision Tree - Angela"
   ]
  },
  {
   "cell_type": "markdown",
   "metadata": {
    "cell_id": "20565497ae2e42a7a34ca3809a9dd90c",
    "deepnote_cell_type": "text-cell-h3",
    "formattedRanges": []
   },
   "source": [
    "### Decision Tree -- Classification (BS)"
   ]
  },
  {
   "cell_type": "code",
   "execution_count": 102,
   "metadata": {
    "cell_id": "014d2c851e5243138ce6844a2b18e9e7",
    "deepnote_cell_type": "code",
    "deepnote_to_be_reexecuted": false,
    "execution_millis": 6,
    "execution_start": 1681680688523,
    "source_hash": "3d7ee097"
   },
   "outputs": [],
   "source": [
    "X = df[['S', 'K', 'tau', 'r']].values\n",
    "y = df['BS'].values\n",
    "\n",
    "X_train, X_test, y_train, y_test = train_test_split(X, y, test_size=0.2, random_state=2)"
   ]
  },
  {
   "cell_type": "code",
   "execution_count": 103,
   "metadata": {
    "cell_id": "933230e93a0349b8919bc5a5480aa342",
    "deepnote_cell_type": "code",
    "deepnote_to_be_reexecuted": false,
    "execution_millis": 3,
    "execution_start": 1681680688594,
    "source_hash": "b03fc3e9"
   },
   "outputs": [
    {
     "name": "stdout",
     "output_type": "stream",
     "text": [
      "(1338, 4)\n",
      "(335, 4)\n",
      "(1338,)\n",
      "(335,)\n"
     ]
    }
   ],
   "source": [
    "print(X_train.shape)\n",
    "print(X_test.shape)\n",
    "print(y_train.shape)\n",
    "print(y_test.shape)"
   ]
  },
  {
   "cell_type": "code",
   "execution_count": 104,
   "metadata": {
    "cell_id": "25aeddc66404415788797189be1435f9",
    "deepnote_cell_type": "code",
    "deepnote_to_be_reexecuted": false,
    "execution_millis": 315,
    "execution_start": 1681680688595,
    "source_hash": "c0f17357"
   },
   "outputs": [
    {
     "name": "stdout",
     "output_type": "stream",
     "text": [
      "[0.         0.00047334 0.00048218 0.00049634 0.00049826 0.00049826\n",
      " 0.00049826 0.00049826 0.00051019 0.00054808 0.00059791 0.00059791\n",
      " 0.00059791 0.00059791 0.00062282 0.00064061 0.00065396 0.00067038\n",
      " 0.00068989 0.00073589 0.00090026 0.00090026 0.00091986 0.00097125\n",
      " 0.00099651 0.00099651 0.00112108 0.00112108 0.00113887 0.00117203\n",
      " 0.00117543 0.00122648 0.00133742 0.00144138 0.00147141 0.00148285\n",
      " 0.00150144 0.00174629 0.00206249 0.00219544 0.0022648  0.00232071\n",
      " 0.00251056 0.00262606 0.00289227 0.00435735 0.00801218 0.01064023\n",
      " 0.01554442 0.02359134 0.02670002 0.28117949]\n"
     ]
    }
   ],
   "source": [
    "clf_tree = DecisionTreeClassifier(random_state=2)\n",
    "    \n",
    "path = clf_tree.cost_complexity_pruning_path(X_train, y_train)\n",
    "ccp_alphas = path.ccp_alphas\n",
    "print(ccp_alphas)"
   ]
  },
  {
   "cell_type": "code",
   "execution_count": 105,
   "metadata": {
    "cell_id": "429d03794d2749cdb2c169d439006403",
    "deepnote_cell_type": "code",
    "deepnote_to_be_reexecuted": false,
    "execution_millis": 4215,
    "execution_start": 1681680688913,
    "source_hash": "7bcc34b5"
   },
   "outputs": [
    {
     "name": "stdout",
     "output_type": "stream",
     "text": [
      "The accuracies:  [0.9245258669060711, 0.9245258669060711, 0.9245258669060711, 0.9245258669060711, 0.9237739872068229, 0.9237739872068229, 0.9237739872068229, 0.9237739872068229, 0.9237739872068229, 0.9245258669060711, 0.9245258669060711, 0.9245258669060711, 0.9245258669060711, 0.9245258669060711, 0.9245258669060711, 0.9245258669060711, 0.9245258669060711, 0.9275165525754684, 0.9275165525754684, 0.9275109415329368, 0.9230221075075749, 0.9230221075075749, 0.9222758388508584, 0.9230221075075749, 0.9245146448210078, 0.9245146448210078, 0.9260071821344406, 0.9260071821344406, 0.9260071821344406, 0.926753450791157, 0.926753450791157, 0.9274997194478735, 0.9275053304904052, 0.9252609134777241, 0.9245090337784762, 0.9237571540792281, 0.9245034227359445, 0.9252553024351926, 0.9267478397486253, 0.9260015710919088, 0.9252609134777241, 0.9222758388508584, 0.9222926719784535, 0.9230501627202333, 0.9237964313769499, 0.9223095051060486, 0.9170856245090336, 0.9021434182471102, 0.8991639546627763, 0.8863988329031534, 0.8804286836494221, 0.711519470317585]\n",
      "\n",
      "The index corresponding to the maximum of the accuracies:  17\n"
     ]
    }
   ],
   "source": [
    "kfolds = StratifiedKFold(n_splits = 10, shuffle = True, random_state = 2)\n",
    "\n",
    "accuracies = []\n",
    "for ccp_alpha in ccp_alphas:\n",
    "    score_for_alpha = []\n",
    "    for train_index, test_index in kfolds.split(X_train, y_train):\n",
    "        clf = DecisionTreeClassifier(random_state=2, ccp_alpha=ccp_alpha)\n",
    "        clf.fit(X_train[train_index], y_train[train_index])\n",
    "        y_pred = clf.predict(X_train[test_index])\n",
    "        score = accuracy_score(y_pred, y_train[test_index])\n",
    "        score_for_alpha.append(score)\n",
    "    accuracies.append(sum(score_for_alpha)/len(score_for_alpha))\n",
    "    \n",
    "    \n",
    "print(\"The accuracies: \",accuracies)\n",
    "print(\"\\nThe index corresponding to the maximum of the accuracies: \",np.argmax(accuracies))"
   ]
  },
  {
   "cell_type": "code",
   "execution_count": 106,
   "metadata": {
    "cell_id": "8c14d6ae3d524b5aa611e360955d574b",
    "deepnote_cell_type": "code",
    "deepnote_to_be_reexecuted": false,
    "execution_millis": 64,
    "execution_start": 1681680693104,
    "source_hash": "a27cc3ce"
   },
   "outputs": [
    {
     "name": "stdout",
     "output_type": "stream",
     "text": [
      "Mean accuracy: 0.8985074626865671\n",
      "Classification Error: 0.10149253731343288\n"
     ]
    }
   ],
   "source": [
    "# Use the selected alpha to retrain a tree on the entire (X_train,y_train)\n",
    "alpha_cv = ccp_alphas[np.argmax(accuracies)]\n",
    "clf_tree_final = DecisionTreeClassifier(random_state=2, ccp_alpha=alpha_cv)\n",
    "clf_tree_final.fit(X_train, y_train)\n",
    "\n",
    "# Evaluate on the (X_test,y_test)\n",
    "y_pred_test = clf_tree_final.predict(X_test)\n",
    "score_test = accuracy_score(y_test, y_pred_test)\n",
    "print(\"Mean accuracy:\", score_test)  # accuracy from train-test split\n",
    "print(\"Classification Error:\", 1 - score_test)"
   ]
  },
  {
   "cell_type": "code",
   "execution_count": 107,
   "metadata": {
    "cell_id": "1897f85225f7424d90204b42da14c062",
    "deepnote_cell_type": "code",
    "deepnote_to_be_reexecuted": false,
    "execution_millis": 104,
    "execution_start": 1681680693208,
    "source_hash": "ea4d2035"
   },
   "outputs": [
    {
     "name": "stdout",
     "output_type": "stream",
     "text": [
      "Cross-validation scores: [0.92261905 0.88690476 0.93452381 0.93413174 0.91017964 0.94610778\n",
      " 0.89820359 0.93413174 0.88622754 0.91616766]\n",
      "Mean accuracy: 0.9169197319646422\n",
      "Classification Error: 0.08308026803535784\n"
     ]
    }
   ],
   "source": [
    "# Cross Validation on all data \n",
    "# Use the selected alpha to create a new tree\n",
    "clf_tree_final = DecisionTreeClassifier(random_state=2, ccp_alpha=alpha_cv)\n",
    "\n",
    "# Evaluate the accuracy of the new tree using cross-validation\n",
    "cv_scores = cross_val_score(clf_tree_final, X, y, cv=kfolds, scoring='accuracy')\n",
    "print(\"Cross-validation scores:\", cv_scores)\n",
    "print(\"Mean accuracy:\", np.mean(cv_scores))\n",
    "print(\"Classification Error:\", 1 - np.mean(cv_scores))"
   ]
  },
  {
   "cell_type": "code",
   "execution_count": 108,
   "metadata": {},
   "outputs": [
    {
     "data": {
      "text/html": [
       "<div>\n",
       "<style scoped>\n",
       "    .dataframe tbody tr th:only-of-type {\n",
       "        vertical-align: middle;\n",
       "    }\n",
       "\n",
       "    .dataframe tbody tr th {\n",
       "        vertical-align: top;\n",
       "    }\n",
       "\n",
       "    .dataframe thead th {\n",
       "        text-align: right;\n",
       "    }\n",
       "</style>\n",
       "<table border=\"1\" class=\"dataframe\">\n",
       "  <thead>\n",
       "    <tr style=\"text-align: right;\">\n",
       "      <th></th>\n",
       "      <th>Logistic Regression</th>\n",
       "      <th>Linear Discriminant Analysis</th>\n",
       "      <th>K Nearest Neighbors</th>\n",
       "      <th>Decision Tree</th>\n",
       "    </tr>\n",
       "  </thead>\n",
       "  <tbody>\n",
       "    <tr>\n",
       "      <th>0</th>\n",
       "      <td>0.071429</td>\n",
       "      <td>0.071429</td>\n",
       "      <td>0.089552</td>\n",
       "      <td>0.077381</td>\n",
       "    </tr>\n",
       "    <tr>\n",
       "      <th>1</th>\n",
       "      <td>0.095238</td>\n",
       "      <td>0.095238</td>\n",
       "      <td>0.077612</td>\n",
       "      <td>0.113095</td>\n",
       "    </tr>\n",
       "    <tr>\n",
       "      <th>2</th>\n",
       "      <td>0.089286</td>\n",
       "      <td>0.095238</td>\n",
       "      <td>0.068657</td>\n",
       "      <td>0.065476</td>\n",
       "    </tr>\n",
       "    <tr>\n",
       "      <th>3</th>\n",
       "      <td>0.095808</td>\n",
       "      <td>0.101796</td>\n",
       "      <td>0.047904</td>\n",
       "      <td>0.065868</td>\n",
       "    </tr>\n",
       "    <tr>\n",
       "      <th>4</th>\n",
       "      <td>0.071856</td>\n",
       "      <td>0.071856</td>\n",
       "      <td>0.071856</td>\n",
       "      <td>0.089820</td>\n",
       "    </tr>\n",
       "    <tr>\n",
       "      <th>5</th>\n",
       "      <td>0.101796</td>\n",
       "      <td>0.101796</td>\n",
       "      <td>NaN</td>\n",
       "      <td>0.053892</td>\n",
       "    </tr>\n",
       "    <tr>\n",
       "      <th>6</th>\n",
       "      <td>0.101796</td>\n",
       "      <td>0.089820</td>\n",
       "      <td>NaN</td>\n",
       "      <td>0.101796</td>\n",
       "    </tr>\n",
       "    <tr>\n",
       "      <th>7</th>\n",
       "      <td>0.095808</td>\n",
       "      <td>0.101796</td>\n",
       "      <td>NaN</td>\n",
       "      <td>0.065868</td>\n",
       "    </tr>\n",
       "    <tr>\n",
       "      <th>8</th>\n",
       "      <td>0.047904</td>\n",
       "      <td>0.047904</td>\n",
       "      <td>NaN</td>\n",
       "      <td>0.113772</td>\n",
       "    </tr>\n",
       "    <tr>\n",
       "      <th>9</th>\n",
       "      <td>0.089820</td>\n",
       "      <td>0.089820</td>\n",
       "      <td>NaN</td>\n",
       "      <td>0.083832</td>\n",
       "    </tr>\n",
       "  </tbody>\n",
       "</table>\n",
       "</div>"
      ],
      "text/plain": [
       "   Logistic Regression  Linear Discriminant Analysis  K Nearest Neighbors  \\\n",
       "0             0.071429                      0.071429             0.089552   \n",
       "1             0.095238                      0.095238             0.077612   \n",
       "2             0.089286                      0.095238             0.068657   \n",
       "3             0.095808                      0.101796             0.047904   \n",
       "4             0.071856                      0.071856             0.071856   \n",
       "5             0.101796                      0.101796                  NaN   \n",
       "6             0.101796                      0.089820                  NaN   \n",
       "7             0.095808                      0.101796                  NaN   \n",
       "8             0.047904                      0.047904                  NaN   \n",
       "9             0.089820                      0.089820                  NaN   \n",
       "\n",
       "   Decision Tree  \n",
       "0       0.077381  \n",
       "1       0.113095  \n",
       "2       0.065476  \n",
       "3       0.065868  \n",
       "4       0.089820  \n",
       "5       0.053892  \n",
       "6       0.101796  \n",
       "7       0.065868  \n",
       "8       0.113772  \n",
       "9       0.083832  "
      ]
     },
     "execution_count": 108,
     "metadata": {},
     "output_type": "execute_result"
    }
   ],
   "source": [
    "models_classification = pd.concat([models_classification, pd.DataFrame(1-cv_scores, columns=['Decision Tree'])], axis=1)\n",
    "models_classification"
   ]
  },
  {
   "cell_type": "markdown",
   "metadata": {
    "cell_id": "40da073d11504d88babffe9751627da9",
    "deepnote_cell_type": "text-cell-h3",
    "formattedRanges": []
   },
   "source": [
    "### Decision Tree -- Regression (Value(C))"
   ]
  },
  {
   "cell_type": "code",
   "execution_count": 109,
   "metadata": {
    "cell_id": "52800bbf9b684c3bbdab504afacbc61e",
    "deepnote_cell_type": "code",
    "deepnote_to_be_reexecuted": false,
    "execution_millis": 24,
    "execution_start": 1681680693291,
    "source_hash": "26781999"
   },
   "outputs": [],
   "source": [
    "X = df[['S', 'K', 'tau', 'r']].values\n",
    "y = df['Value'].values\n",
    "\n",
    "X_train, X_test, y_train, y_test = train_test_split(X, y, test_size=0.2, random_state=2)"
   ]
  },
  {
   "cell_type": "code",
   "execution_count": 110,
   "metadata": {
    "cell_id": "bbf72f71237b441c9ac8b2e7ac0dc0a6",
    "deepnote_cell_type": "code",
    "deepnote_to_be_reexecuted": false,
    "execution_millis": 62,
    "execution_start": 1681680693319,
    "source_hash": "1d9f608f"
   },
   "outputs": [
    {
     "name": "stdout",
     "output_type": "stream",
     "text": [
      "[0.00000000e+00 3.31905239e-19 6.79368536e-19 ... 1.38117320e+01\n",
      " 1.42187924e+01 1.35330238e+02]\n"
     ]
    }
   ],
   "source": [
    "reg_tree = DecisionTreeRegressor(random_state=2)\n",
    "path = reg_tree.cost_complexity_pruning_path(X_train, y_train)\n",
    "ccp_alphas = path.ccp_alphas\n",
    "print(ccp_alphas)"
   ]
  },
  {
   "cell_type": "code",
   "execution_count": 111,
   "metadata": {
    "cell_id": "196e0525881b4508a9fc181e5d3f2873",
    "deepnote_cell_type": "code",
    "deepnote_to_be_reexecuted": false,
    "execution_millis": 305506,
    "execution_start": 1681680693391,
    "source_hash": "4375e4d2"
   },
   "outputs": [
    {
     "name": "stdout",
     "output_type": "stream",
     "text": [
      "The R-squared scores:  [0.990769593968813, 0.990769593968813, 0.9907695939688173, 0.9907695939688441, 0.9907695939688441, 0.9907695939688441, 0.9907695939688441, 0.9907695939688747, 0.9907695939688747, 0.9907695939690768, 0.9907695939691425, 0.990769593968999, 0.990769593968999, 0.990769593968999, 0.9907695939689114, 0.9907695939686729, 0.9907695939696028, 0.9907695939696028, 0.9907695939695811, 0.9907695939695811, 0.9907695939695811, 0.9907695939674916, 0.9907695939674916, 0.9907695939705139, 0.9907695939646363, 0.9907695939628404, 0.990769593965768, 0.990769593965768, 0.990769593965768, 0.9907695939672314, 0.9907695939613422, 0.9907695939613422, 0.9907695939629507, 0.9907695939638037, 0.9907695939674301, 0.9907695939429573, 0.9907695939429573, 0.9907695939429573, 0.9907696178969578, 0.9907695891511052, 0.9907695825574901, 0.9907695825574901, 0.9907695825574901, 0.9907695825574901, 0.9907695825574901, 0.9907695825574901, 0.9907695825574901, 0.990769636495477, 0.9907696343964318, 0.9907696343964318, 0.990769659906688, 0.9907695520384918, 0.9907696279213182, 0.9907697807766791, 0.9907694111687967, 0.9907694111687967, 0.9907694111687967, 0.9907694208506452, 0.9907694208506452, 0.9907693417419875, 0.9907693417419875, 0.9907693417419875, 0.9907693417419875, 0.9907693417419875, 0.9907697077242116, 0.9907697077242116, 0.9907695686528335, 0.9907696102656727, 0.9907696102656727, 0.9907696102656727, 0.9907696102656727, 0.9907695875582876, 0.9907695875582876, 0.9907695875582876, 0.9907695875582876, 0.9907695885225423, 0.9907695885225423, 0.9907695885225423, 0.9907695885225423, 0.9907695885225423, 0.9907695885225423, 0.9907695885225423, 0.9907693519164903, 0.9907695881508947, 0.9907700538397956, 0.9907700538397956, 0.9907700538397956, 0.9907700538397956, 0.9907700538397956, 0.9907701485677338, 0.9907701485677338, 0.9907701502414643, 0.9907701862735676, 0.9907703814149919, 0.9907703814149919, 0.9907705910362635, 0.9907704799140451, 0.9907704799140451, 0.9907700798858208, 0.9907700798858208, 0.9907700913741536, 0.9907700913741536, 0.9907700937405615, 0.9907700937405615, 0.990770313990381, 0.9907706842432086, 0.9907706842432086, 0.9907706842432086, 0.9907707080359364, 0.9907707080359364, 0.990770153438475, 0.990770153438475, 0.990770153438475, 0.990770153438475, 0.990770153438475, 0.990770153438475, 0.990770153438475, 0.990770153438475, 0.990770153438475, 0.990770153438475, 0.990770153438475, 0.990770153438475, 0.990770153438475, 0.990770153438475, 0.990770153438475, 0.9907697709480825, 0.9907714228425197, 0.9907714228425197, 0.9907714228425197, 0.990771274848484, 0.9907709025394208, 0.9907709025394208, 0.9907709304506795, 0.9907709304506795, 0.9907709304506795, 0.9907709304506795, 0.9907709304506795, 0.9907709304506795, 0.9907709304506795, 0.9907709304506795, 0.9907709304506795, 0.9907709304506795, 0.9907709304506795, 0.9907709304506795, 0.9907709304506795, 0.9907709304506795, 0.9907709304506795, 0.9907709304506795, 0.9907709304506795, 0.9907702692368735, 0.9907701087037408, 0.9907700978613951, 0.9907708332621648, 0.9907672633265492, 0.99076759499122, 0.99076759499122, 0.9907676179981791, 0.9907676243323298, 0.9907676243323298, 0.9907676243323298, 0.9907676243323298, 0.9907676243323298, 0.9907678069197496, 0.9907678069197496, 0.9907679862886465, 0.9907679862886465, 0.9907679803027325, 0.990767893060403, 0.9907690227001569, 0.9907690227001569, 0.9907673872111307, 0.9907673628262621, 0.9907673628262621, 0.9907673628262621, 0.9907669660222979, 0.9907669660222979, 0.9907669660222979, 0.9907669660222979, 0.9907669660222979, 0.9907669660222979, 0.9907669660222979, 0.9907670074777928, 0.9907670074777928, 0.9907670074777928, 0.9907670074777928, 0.9907670074777928, 0.9907670074777928, 0.9907670074777928, 0.9907668129650817, 0.9907671593839782, 0.9907669643012609, 0.9907669643012609, 0.9907669643012609, 0.9907669643012609, 0.9907669643012609, 0.9907669643012609, 0.9907669643012609, 0.9907669643012609, 0.9907669643012609, 0.9907669643012609, 0.9907669643012609, 0.9907678304853438, 0.9907678304853438, 0.9907673517241855, 0.9907673517241855, 0.9907673517241855, 0.9907673517241855, 0.9907669914344129, 0.9907669914344129, 0.9907669914344129, 0.9907669914344129, 0.9907670211581919, 0.9907668193346838, 0.9907668193346838, 0.9907667935530341, 0.9907669395259706, 0.990767002618114, 0.990767002618114, 0.990766570623925, 0.9907668487689179, 0.9907668487689179, 0.9907668063717816, 0.9907667136305587, 0.9907667136305587, 0.9907669776324012, 0.9907669776324012, 0.9907669776324012, 0.9907669776324012, 0.9907669776324012, 0.9907669776324012, 0.9907669083402674, 0.9907669083402674, 0.9907669083402674, 0.9907669083402674, 0.9907669083402674, 0.9907698763826049, 0.9907698763826049, 0.9907698763826049, 0.9907698763826049, 0.9907698763826049, 0.9907698763826049, 0.9907698763826049, 0.9907698763826049, 0.9907698763826049, 0.9907698763826049, 0.9907698763826049, 0.9907698763826049, 0.9907698763826049, 0.9907698763826049, 0.9907698763826049, 0.9907698763826049, 0.9907698763826049, 0.9907704495333005, 0.9907704495333005, 0.9907686587817756, 0.990771116278607, 0.990771116278607, 0.990771116278607, 0.990771116278607, 0.990771116278607, 0.990771116278607, 0.990771116278607, 0.990771116278607, 0.990771116278607, 0.990771116278607, 0.990771116278607, 0.9907710713486063, 0.9907710713486063, 0.9907746921977498, 0.9907739459099844, 0.9907759530828845, 0.990780587203193, 0.990780587203193, 0.9907803631669558, 0.990780360177339, 0.990780360177339, 0.990780360177339, 0.990781177134744, 0.990780749999231, 0.9907822148371084, 0.9907822148371084, 0.990781974219613, 0.990781974219613, 0.9907820607112136, 0.9907842580309018, 0.9907843458352172, 0.9907843458352172, 0.9907826786301477, 0.9907826786301477, 0.9907827067734974, 0.9907834616217613, 0.9907834616217613, 0.9907834616217613, 0.9907834961224211, 0.9907834961224211, 0.9907834848233129, 0.9907841011785582, 0.9907841011785582, 0.990780408140966, 0.990780408140966, 0.9907806738433379, 0.9907819397552904, 0.9907820150270311, 0.9907825486965006, 0.9907825693572663, 0.9907825693572663, 0.990786338504587, 0.990786338504587, 0.990786338504587, 0.9907887232164783, 0.9907887232164783, 0.9907887212758372, 0.9907886131670034, 0.9907886131670034, 0.9907860537803987, 0.9907860537803987, 0.9907860537803987, 0.9907860537803987, 0.9907860537803987, 0.9907860537803987, 0.9907860537803987, 0.9907860537803987, 0.9907860537803987, 0.9907860537803987, 0.9907861430883388, 0.9907861430883388, 0.9907863944980546, 0.9907863944980546, 0.9907863944980546, 0.9907863944980546, 0.9907863944980546, 0.990787408228208, 0.990787408228208, 0.990787408228208, 0.9907870444083262, 0.9907870444083262, 0.9907870444083262, 0.9907870444083262, 0.9907880600835567, 0.990792346182017, 0.990792802179344, 0.990792802179344, 0.9907930209983876, 0.9907907479506137, 0.9907907326337224, 0.9907912760165549, 0.9907916683458733, 0.9907933581721465, 0.9907933581721465, 0.9907933581721465, 0.9907933581721465, 0.9907933581721465, 0.9907933581721465, 0.9907925216916332, 0.9907925327158029, 0.9907925889554189, 0.9907939771828111, 0.9907939771828111, 0.9907947374564999, 0.9907964352264174, 0.9907974882285707, 0.9907974882285707, 0.9908011721960216, 0.9907998115984608, 0.9907998115984608, 0.9907998115984608, 0.9907998126822941, 0.9907998126822941, 0.9907998373253941, 0.9907996875776783, 0.9907904484389606, 0.990793035159063, 0.990793041010465, 0.9907924328187294, 0.9907919604257298, 0.990791669690578, 0.990791669690578, 0.9907910650852794, 0.9907911289031093, 0.990791090537695, 0.9907920263509821, 0.9907920263509821, 0.9907920263509821, 0.9907920263509821, 0.9907916915343711, 0.9907916915343711, 0.9907916915343711, 0.9907916915343711, 0.9907916915343711, 0.9907916915343711, 0.9907916915343711, 0.9907916915343711, 0.9907931061092761, 0.9907931061092761, 0.9907897827130926, 0.9907905904440717, 0.9907905904440717, 0.9907909029664346, 0.9907908011267038, 0.9907872691628847, 0.9907855897367689, 0.9907820454973717, 0.990781490446689, 0.990781490446689, 0.9907811132851349, 0.9907820193079262, 0.9907820193079262, 0.9907820267925544, 0.9907820267925544, 0.990782013231778, 0.990782736462777, 0.9907789767914114, 0.9907789767914114, 0.9907789767914114, 0.9907767930557976, 0.9907767930557976, 0.9907798689619286, 0.9907798689619286, 0.9907707483255436, 0.9907707483255436, 0.9907651915994224, 0.9907644898775361, 0.9907644898775361, 0.9907646225306321, 0.9907646225306321, 0.9907646225306321, 0.9907646225306321, 0.9907646225306321, 0.9907646225306321, 0.9907648681430263, 0.9907648681430263, 0.9907651201570605, 0.9907651201570605, 0.9907647386528897, 0.9907630951076325, 0.9907630951076325, 0.9907648357398102, 0.990764987667489, 0.990764987667489, 0.9907680649573655, 0.9907680649573655, 0.9907664654505565, 0.9907670240672497, 0.9907657532016578, 0.9907655259072154, 0.9907717872538273, 0.990777055347904, 0.9907770198434672, 0.9907752706952243, 0.9907753450020935, 0.9907752879600682, 0.9907731080131473, 0.9907734239743082, 0.9907734239743082, 0.990773554913768, 0.9907724574076976, 0.9907724574076976, 0.990775766028731, 0.990775766028731, 0.9907791312804914, 0.9907838355951405, 0.9907831578334771, 0.9907833727554081, 0.9907849507968081, 0.9907845409917776, 0.990784230230819, 0.9907797988680255, 0.9907681574147953, 0.9907630317893009, 0.9907630335452928, 0.9907630335452928, 0.9907630335452928, 0.9907630335452928, 0.9907655716184159, 0.9907655716184159, 0.9907655716184159, 0.9907653076056799, 0.9907653076056799, 0.9907654820153395, 0.9907652508922521, 0.9907652508922521, 0.9907582200894195, 0.9907621367937397, 0.9907608118105744, 0.9907602887019447, 0.9907602887019447, 0.9907604657870432, 0.9907581416651772, 0.9907581416651772, 0.9907581416651772, 0.9907581416651772, 0.9907581416651772, 0.990758066726863, 0.9907569614570996, 0.9907584212218256, 0.9907676389428607, 0.9907676389428607, 0.9907660007013437, 0.9907660007013437, 0.9907666280564822, 0.9907590555167586, 0.990757625626614, 0.9907535921882691, 0.9907456618794492, 0.9907456618794492, 0.9907454628701098, 0.9907463094099176, 0.9907463094099176, 0.9907475600581478, 0.9907475600581478, 0.990749004975967, 0.990749004975967, 0.9907455265025389, 0.9907455265025389, 0.9907450139686752, 0.9907492633917411, 0.9907492633917411, 0.9907492633917411, 0.9907492633917411, 0.9907492919317807, 0.9907513762750041, 0.9907441795539549, 0.9907434464715784, 0.9907434464715784, 0.9907445368843287, 0.9907445368843287, 0.9907442603939607, 0.9907446312435996, 0.9907446312435996, 0.9907480912882102, 0.9907516857695313, 0.9907522836896682, 0.9907502570832346, 0.9907498869520749, 0.9907498869520749, 0.9907562614005382, 0.9907662774562545, 0.9907626386709101, 0.9907707704215998, 0.9907707455208618, 0.9907703987360665, 0.9907703987360665, 0.9907703987360665, 0.9907703987360665, 0.9907716729593256, 0.9907818653251075, 0.9907822272612746, 0.9907822272612746, 0.9907822272612746, 0.9907822272612746, 0.9907822272612746, 0.9907822272612746, 0.9907822272612746, 0.9907828968224633, 0.9907828968224633, 0.9907828968224633, 0.9907846528716779, 0.9907846528716779, 0.9907830251103082, 0.9907732144232865, 0.9907621173161638, 0.9907621173161638, 0.9907577443320351, 0.9907545509466915, 0.9907545509466915, 0.9907545509466915, 0.9907545509466915, 0.9907545509466915, 0.9907584985285369, 0.9907584985285369, 0.9907584985285369, 0.9907584985285369, 0.9907584985285369, 0.9907604848313014, 0.99076063048908, 0.99076063048908, 0.9907619060320366, 0.9907624226587991, 0.9907623135014412, 0.9907634232793796, 0.9907644151571617, 0.9907620891646787, 0.9907591453791973, 0.9907659266479859, 0.9907740790119549, 0.9907740790119549, 0.9907752031457683, 0.9907752031457683, 0.990775305327492, 0.990775305327492, 0.9907876889835586, 0.9907884341013047, 0.9907832447447813, 0.9907799784258664, 0.9907807109723065, 0.9907810701947717, 0.9907810701947717, 0.9907810701947717, 0.9907810701947717, 0.9907810701947717, 0.9907810701947717, 0.9907810569237909, 0.9907797929567819, 0.9907795800259788, 0.9907795800259788, 0.9907795800259788, 0.9907818887285762, 0.990782281705082, 0.9907831757862013, 0.9907834042398216, 0.9907816491557299, 0.9907797894596783, 0.9907838409955779, 0.9907838409955779, 0.9907782209562578, 0.9907782209562578, 0.9907768485414048, 0.9907782815963742, 0.9907792105083948, 0.9907805595033775, 0.9907805595033775, 0.9907805595033775, 0.9907675317846623, 0.9907675280406814, 0.9907673004892841, 0.9907673004892841, 0.99079242776301, 0.9907931906100356, 0.9908030630364355, 0.9907998347035978, 0.9907998347035978, 0.9907880160511124, 0.9907883464608925, 0.9907933239735037, 0.9907933239735037, 0.9907939283286282, 0.9907946414416073, 0.9907895064238614, 0.9907930988513849, 0.9907933101448402, 0.9907852896618425, 0.9907852896618425, 0.9907751134283336, 0.9907698548648731, 0.9907808512966987, 0.9907808512966987, 0.9907828062174782, 0.9907842793019856, 0.9907922939753696, 0.9907895401245262, 0.9907882715218165, 0.9907890399920797, 0.9907890399920797, 0.9907890399920797, 0.990784785135338, 0.9907862697346763, 0.990781031716017, 0.9907792535469178, 0.9907755054828578, 0.9907696085320626, 0.9907735287276654, 0.990769422170365, 0.990769422170365, 0.990769422170365, 0.9907601496652848, 0.9907601496652848, 0.990762520844445, 0.9907612815439627, 0.9907612815439627, 0.9907594020852762, 0.9907570078992969, 0.9907545738086225, 0.9907545738086225, 0.9907512648067694, 0.9907497200524847, 0.9907443564887064, 0.9907453939011294, 0.9907396349933446, 0.9907333088586643, 0.9907333088586643, 0.9907333088586643, 0.99073044088065, 0.9907328722829911, 0.990732801313763, 0.9907328975454922, 0.99071142953347, 0.9907123277361469, 0.9906970516795857, 0.9906974464052987, 0.9907000945178603, 0.9906926240459816, 0.9906898862163812, 0.9906895731670758, 0.9906941863663029, 0.9906941863663029, 0.9906996559251839, 0.9906996559251839, 0.99070508026994, 0.99070508026994, 0.99070508026994, 0.99070508026994, 0.9907051748057117, 0.99070974403897, 0.99070974403897, 0.99070974403897, 0.9907059172550412, 0.9907048671299759, 0.9906849009519242, 0.9906849009519242, 0.9906763980031025, 0.9906763993778342, 0.9906773881186626, 0.9906704861686961, 0.9906693719946166, 0.9906671140696574, 0.9906637857141133, 0.9906628799022424, 0.9906634219721567, 0.9906606571032356, 0.9906606571032356, 0.9906566083972888, 0.9906753315745872, 0.9906778148540061, 0.9906681940584882, 0.9906439935170781, 0.9906499262472883, 0.9906497220006582, 0.9906423751826328, 0.9906423751826328, 0.9906423751826328, 0.9906423751826328, 0.9906423751826328, 0.9906333737755932, 0.9906305633587806, 0.9906253411659327, 0.9906253411659327, 0.9906314825692739, 0.9906283102007315, 0.9906271072973165, 0.9906179807019175, 0.9906179807019175, 0.9906131381288377, 0.9906143188009621, 0.9906174979757709, 0.9906174979757709, 0.9906174979757709, 0.9906124285570297, 0.9906107958496271, 0.9906107958496271, 0.9906107958496271, 0.9906107958496271, 0.9906107958496271, 0.9906107958496271, 0.9906119951680891, 0.9906119951680891, 0.9906110904415646, 0.9906226493666773, 0.9906134157326025, 0.9906134157326025, 0.9906114317747798, 0.9906159340198893, 0.9905886589446761, 0.9905886589446761, 0.9905883399184079, 0.9905918776503212, 0.9905918776503212, 0.990593344696865, 0.9905725593778669, 0.9905725593778669, 0.9905725593778669, 0.9905725593778669, 0.9905704489780399, 0.9905708941504615, 0.9905708941504615, 0.9905774684623943, 0.9905774684623943, 0.9905677191932108, 0.9905594106943256, 0.9905514541254943, 0.9905533384470896, 0.9905535488909303, 0.9905556530828873, 0.9905517646599892, 0.9905486800094632, 0.9905413401435303, 0.9905394959556844, 0.9905404540395679, 0.9905404540395679, 0.9905404540395679, 0.9905387779764716, 0.9905403038194569, 0.9905291874353152, 0.9905311151197326, 0.9905311151197326, 0.9905346244164926, 0.9905358095376707, 0.9905303403607665, 0.9905262393610436, 0.9905367211957522, 0.9905408079185186, 0.9905403534211608, 0.9905403534211608, 0.9905355167142786, 0.9905337845341708, 0.9905294765872444, 0.9905243186118714, 0.9905243186118714, 0.9905196407332364, 0.9905203083119902, 0.9905150081944816, 0.9905148286328794, 0.9905301592966189, 0.9905345978558963, 0.9905424390464331, 0.9905424390464331, 0.9905456753278485, 0.990532568545822, 0.9905279943272136, 0.9905413406925204, 0.9905391851207289, 0.9905176253439443, 0.9905185356464117, 0.9905098469955114, 0.9905155920832396, 0.9905104235805988, 0.9905084263259409, 0.9904856275528443, 0.990457089438301, 0.9904612396160226, 0.9904427127075305, 0.9904427127075305, 0.9904427127075305, 0.9903996394855691, 0.9903952116585287, 0.9904220072708796, 0.9904194052452981, 0.9904138250804616, 0.9904245045316742, 0.9904208786066768, 0.9903812071798935, 0.9903812071798935, 0.9903840578184466, 0.9903758591657377, 0.9903796897835979, 0.9903538742271166, 0.9903538742271166, 0.9903538483424228, 0.9903377687884316, 0.9903392623880662, 0.990339087886699, 0.990339087886699, 0.990339087886699, 0.9903393946133761, 0.9903062389841727, 0.9902973105914288, 0.9902689371785659, 0.9902247954832701, 0.990234050848111, 0.9902320138091106, 0.9902516489762286, 0.9902378055134446, 0.9902351891303462, 0.9902351891303462, 0.9902351891303462, 0.9901986488023532, 0.9902255167850859, 0.9901988504914657, 0.9902029234399284, 0.9901917890429853, 0.9901905706228135, 0.9901357296622425, 0.990124898550458, 0.9901171750229508, 0.9900890263732787, 0.9900890263732787, 0.9900876948090055, 0.9900876948090055, 0.9900935844848433, 0.9900782485495034, 0.99003471081232, 0.9900242635531769, 0.9900242635531769, 0.9900274917383636, 0.9900173340986544, 0.9900173340986544, 0.9900218465948074, 0.9900121951278367, 0.9900121951278367, 0.9899664170843503, 0.9899624795537937, 0.9899761150903148, 0.9899761150903148, 0.989944209499494, 0.989944209499494, 0.989959411683372, 0.9899560498845072, 0.9899560498845072, 0.9899557851499605, 0.989950223517711, 0.9899380278592487, 0.9898602147449012, 0.9898536798075662, 0.989825534485856, 0.9897907922670486, 0.9897825880079136, 0.9897579624320256, 0.9897541112205873, 0.9897541112205873, 0.9897293401745102, 0.9898066423599421, 0.9897916367063955, 0.9897898581518006, 0.9897679155622201, 0.9897702858581272, 0.9897582557319475, 0.989743363002602, 0.989743363002602, 0.9897772174239587, 0.9897762678432327, 0.989778509564942, 0.989778286248671, 0.9897759139701087, 0.9897759139701087, 0.9897696994029209, 0.9897696994029209, 0.9897696994029209, 0.9897592503795807, 0.9897596791067551, 0.9897643716592265, 0.9897513458516769, 0.9897513458516769, 0.9897785103962707, 0.9897798220794674, 0.9897819586580601, 0.9897871193025833, 0.9897819850175894, 0.9897421435813047, 0.9897456821032933, 0.9897456821032933, 0.9897334159579071, 0.9897425787120564, 0.9897327078457578, 0.989745138097074, 0.989745138097074, 0.989745138097074, 0.9897415057154209, 0.989717186149964, 0.9896984622382089, 0.9897050724407265, 0.9897050724407265, 0.9896934995082478, 0.9896801264921387, 0.9896468819746407, 0.9896457198290574, 0.989626061478998, 0.989626061478998, 0.9896292646448117, 0.9895959523429811, 0.9895936773654906, 0.9895750853783524, 0.9895666737852078, 0.9895411591838122, 0.9895266284889377, 0.9895266284889377, 0.9895032251530698, 0.9894863788517073, 0.9894863788517073, 0.9894695467708925, 0.9894450218408523, 0.9894085683224553, 0.9894085683224553, 0.9893879628216127, 0.9893879628216127, 0.9893519116339642, 0.9893468364725809, 0.9893403693897277, 0.9893437558984282, 0.9893394936884052, 0.9893664589984159, 0.9893664589984159, 0.9893675329437596, 0.9893690402049128, 0.9893639156522512, 0.9893055109283863, 0.9892804433999564, 0.9892804433999564, 0.9892804433999564, 0.9892804433999564, 0.9892804433999564, 0.9892849760666136, 0.9892513088958707, 0.9892513088958707, 0.9892168323479188, 0.9892263918939344, 0.9892241058898608, 0.9892241058898608, 0.9892156137070878, 0.9891773330667254, 0.9890987544920394, 0.9890917016934668, 0.9890857801749237, 0.9890659282782638, 0.9890659282782638, 0.9890659282782638, 0.9890659282782638, 0.9890659282782638, 0.9890186367649807, 0.9890132268685571, 0.9890175712707737, 0.9889826277000923, 0.9889814284439007, 0.9890146416945058, 0.9890146416945058, 0.9890116942529221, 0.9890029599630477, 0.9890063463588449, 0.9890063463588449, 0.9889656891532492, 0.9889972390281017, 0.9889496011227376, 0.9889363902415926, 0.9888859245638276, 0.9888611057892902, 0.9888317523721788, 0.988842193833477, 0.9888432992223694, 0.9888405480950675, 0.9888088605098524, 0.9888088605098524, 0.9887972769023223, 0.988752402610092, 0.9887212945989414, 0.9886915619679104, 0.9886915619679104, 0.9886885442477686, 0.9886748398609605, 0.9886309840310545, 0.9885999264336507, 0.9885999264336507, 0.9884670135753424, 0.9884373441571132, 0.9884373441571132, 0.988403125003449, 0.9883865982111659, 0.9883949045676393, 0.9883407991240565, 0.9883407991240565, 0.9882525337557431, 0.988219131779689, 0.9882339225432524, 0.9882339225432524, 0.9882411809775127, 0.9882431707743707, 0.9881432831999011, 0.9881432831999011, 0.9880804177615528, 0.9880518447573954, 0.9879091033515183, 0.9879025457760722, 0.987903917857585, 0.9878922712162078, 0.9877338216877964, 0.9877766234000346, 0.9876224165724133, 0.9876224165724133, 0.9876518477097067, 0.9876160738377203, 0.9875905796770873, 0.9876298814183124, 0.9876056232218889, 0.9875819713754176, 0.9875819713754176, 0.9875790338784279, 0.9875562986704736, 0.9874952256298641, 0.9874386937447721, 0.9874359026745413, 0.9873103181599181, 0.9873490234458103, 0.9873360537216371, 0.9872698619344774, 0.9872711176270845, 0.9872711176270845, 0.9872513828679486, 0.9871113016720916, 0.986868768845904, 0.9867458125486405, 0.9866502054897118, 0.9866502054897118, 0.9866502054897118, 0.9866175358222303, 0.9866175358222303, 0.9864021950118229, 0.9863695932180745, 0.9860703548626596, 0.9860734233912609, 0.9860849413454545, 0.9859765165479126, 0.9859619694036403, 0.9859619694036403, 0.9859619694036403, 0.9859619694036403, 0.9859424428073836, 0.9859148776096325, 0.9855703555466896, 0.9853010545865336, 0.9852916907712439, 0.9852916907712439, 0.9851871390267819, 0.9851508114712807, 0.9851716468319808, 0.9849217147941826, 0.9848918042663423, 0.9848351148365913, 0.9846394396473146, 0.9846137679219936, 0.9844994218442696, 0.9844946046967424, 0.9844580897939451, 0.9843802446037564, 0.9843506212239406, 0.9841695491932555, 0.9840662613179637, 0.9840662613179637, 0.984066104361788, 0.9838584168625866, 0.9834779026074214, 0.9834779026074214, 0.9834308142242453, 0.9834202631979256, 0.9834079748117187, 0.9831816480725267, 0.983203533476671, 0.9831803996069322, 0.9831537315550024, 0.9831671917805362, 0.9831153044566575, 0.9831153044566575, 0.9830218123104263, 0.9829914556759434, 0.9825479767822711, 0.982503629621136, 0.9824896804528255, 0.9823090119046876, 0.9822410040639482, 0.9822158997827286, 0.9822087774004293, 0.9822317325203395, 0.98206755953469, 0.9816626391261488, 0.9816831631925078, 0.9808917725880711, 0.9806218697447786, 0.9804343855691078, 0.9798701470783111, 0.9799681971766903, 0.9798739877085479, 0.979965037468203, 0.9793124305159626, 0.9791164425915853, 0.9790683270845097, 0.9787447061955895, 0.9787447061955895, 0.9784594390967769, 0.978469206363777, 0.9784042996631926, 0.9783767041951362, 0.9781077547560708, 0.9781101290474746, 0.9777963208131171, 0.9778165184181793, 0.9778165184181793, 0.9777951055867142, 0.9777951055867142, 0.9774240585793535, 0.9773884450088819, 0.9772402252562223, 0.977035473839593, 0.9770530797272514, 0.9770488322518336, 0.9769537418822496, 0.9768697520103181, 0.9767578274490903, 0.9762851418780244, 0.9763258132877957, 0.9760980737060401, 0.9760980737060401, 0.9761160234729138, 0.976145992923566, 0.9759482128477618, 0.9758308054687929, 0.9734342879416579, 0.9730916405277619, 0.9728035727962017, 0.972729421131216, 0.9724681512617094, 0.9719863656090142, 0.9719150049312202, 0.9718212559715983, 0.9715449002618808, 0.9703129889866101, 0.9704535884825543, 0.9703127656216486, 0.9698879627261373, 0.967861887447316, 0.9673703285304203, 0.9673139703631449, 0.9673139703631449, 0.9671242338553212, 0.966937233050964, 0.9667265750876786, 0.9667160546573355, 0.9664739587953655, 0.9646690287682832, 0.9642773017032656, 0.9639768821381363, 0.9636976020653598, 0.9626272578510278, 0.9607835697750934, 0.9598653955327758, 0.9591274339829221, 0.9587174646834125, 0.9569723518132006, 0.9556958126341819, 0.9555654088967742, 0.9537561554177364, 0.9532850046837502, 0.95253966491476, 0.9501689544811217, 0.9441841100673214, 0.9441841100673214, 0.9386388747702664, 0.9275548133238767, 0.9276730182899501, 0.9236665446005767, 0.9203047331078192, 0.9185491504694221, 0.9039785652671352, 0.8883245970774747, 0.87072045196124, 0.8097706386720572, 0.7558251424740098, 0.7186693905156539, 0.187980081739675]\n",
      "\n",
      "The index corresponding to the maximum of the R-squared scores:  628\n"
     ]
    }
   ],
   "source": [
    "kfolds = KFold(n_splits = 10, shuffle = True, random_state = 2)\n",
    "\n",
    "r2_scores = []\n",
    "for ccp_alpha in ccp_alphas:\n",
    "    score_for_alpha = []\n",
    "    for train_index, test_index in kfolds.split(X_train, y_train):\n",
    "        reg = DecisionTreeRegressor(random_state=2, ccp_alpha=ccp_alpha)\n",
    "        reg.fit(X_train[train_index], y_train[train_index])\n",
    "        y_pred = reg.predict(X_train[test_index])\n",
    "        score = r2_score(y_train[test_index], y_pred)\n",
    "        score_for_alpha.append(score)\n",
    "    r2_scores.append(sum(score_for_alpha)/len(score_for_alpha))\n",
    "    \n",
    "print(\"The R-squared scores: \",r2_scores)\n",
    "print(\"\\nThe index corresponding to the maximum of the R-squared scores: \",np.argmax(r2_scores))"
   ]
  },
  {
   "cell_type": "code",
   "execution_count": 112,
   "metadata": {
    "cell_id": "c1e139d4443141789e088bb9e17ba00b",
    "deepnote_cell_type": "code",
    "deepnote_to_be_reexecuted": true,
    "execution_millis": 1704188,
    "execution_start": 1681679294724,
    "source_hash": "86ed1598"
   },
   "outputs": [
    {
     "name": "stdout",
     "output_type": "stream",
     "text": [
      "R-squared on test data: 0.9920469081921268\n"
     ]
    }
   ],
   "source": [
    "# Use the selected alpha to retrain a tree on the entire (X_train,y_train)\n",
    "alpha_cv = ccp_alphas[np.argmax(r2_scores)]\n",
    "reg_tree_final = DecisionTreeRegressor(random_state=2, ccp_alpha=alpha_cv)\n",
    "reg_tree_final.fit(X_train, y_train)\n",
    "\n",
    "# Evaluate on the (X_test,y_test)\n",
    "y_pred_test = reg_tree_final.predict(X_test)\n",
    "r2_test = r2_score(y_test, y_pred_test)\n",
    "print(\"R-squared on test data:\", r2_test)"
   ]
  },
  {
   "cell_type": "code",
   "execution_count": 113,
   "metadata": {
    "cell_id": "7d84e840e1404aa4a7b808b0f446ec03",
    "deepnote_cell_type": "code",
    "deepnote_to_be_reexecuted": true,
    "execution_millis": 1704296,
    "execution_start": 1681679294724,
    "source_hash": "226dfbb6"
   },
   "outputs": [
    {
     "name": "stdout",
     "output_type": "stream",
     "text": [
      "Cross-validation scores: [0.9925626  0.99391958 0.99194099 0.9914751  0.99350121 0.99183667\n",
      " 0.99255656 0.9902013  0.99064603 0.99301462]\n",
      "Mean r squared: 0.9921654662699313\n"
     ]
    }
   ],
   "source": [
    "# Cross Validation on all data \n",
    "# Use the selected alpha to create a new tree\n",
    "reg_tree_final = DecisionTreeRegressor(random_state=2, ccp_alpha=alpha_cv)\n",
    "\n",
    "# Evaluate the r squared of the new tree using cross-validation\n",
    "cv_scores = cross_val_score(reg_tree_final, X, y, cv=kfolds, scoring='r2')\n",
    "print(\"Cross-validation scores:\", cv_scores)\n",
    "print(\"Mean r squared:\", np.mean(cv_scores))"
   ]
  },
  {
   "cell_type": "code",
   "execution_count": 114,
   "metadata": {},
   "outputs": [
    {
     "data": {
      "text/html": [
       "<div>\n",
       "<style scoped>\n",
       "    .dataframe tbody tr th:only-of-type {\n",
       "        vertical-align: middle;\n",
       "    }\n",
       "\n",
       "    .dataframe tbody tr th {\n",
       "        vertical-align: top;\n",
       "    }\n",
       "\n",
       "    .dataframe thead th {\n",
       "        text-align: right;\n",
       "    }\n",
       "</style>\n",
       "<table border=\"1\" class=\"dataframe\">\n",
       "  <thead>\n",
       "    <tr style=\"text-align: right;\">\n",
       "      <th></th>\n",
       "      <th>Linear Regression</th>\n",
       "      <th>K Nearest Neighbors</th>\n",
       "      <th>Decision Tree</th>\n",
       "    </tr>\n",
       "  </thead>\n",
       "  <tbody>\n",
       "    <tr>\n",
       "      <th>0</th>\n",
       "      <td>0.904298</td>\n",
       "      <td>0.975840</td>\n",
       "      <td>0.992563</td>\n",
       "    </tr>\n",
       "    <tr>\n",
       "      <th>1</th>\n",
       "      <td>0.923114</td>\n",
       "      <td>0.986635</td>\n",
       "      <td>0.993920</td>\n",
       "    </tr>\n",
       "    <tr>\n",
       "      <th>2</th>\n",
       "      <td>0.915912</td>\n",
       "      <td>0.983151</td>\n",
       "      <td>0.991941</td>\n",
       "    </tr>\n",
       "    <tr>\n",
       "      <th>3</th>\n",
       "      <td>0.909624</td>\n",
       "      <td>0.986926</td>\n",
       "      <td>0.991475</td>\n",
       "    </tr>\n",
       "    <tr>\n",
       "      <th>4</th>\n",
       "      <td>0.915089</td>\n",
       "      <td>0.978338</td>\n",
       "      <td>0.993501</td>\n",
       "    </tr>\n",
       "    <tr>\n",
       "      <th>5</th>\n",
       "      <td>0.912409</td>\n",
       "      <td>0.975764</td>\n",
       "      <td>0.991837</td>\n",
       "    </tr>\n",
       "    <tr>\n",
       "      <th>6</th>\n",
       "      <td>0.907232</td>\n",
       "      <td>0.983724</td>\n",
       "      <td>0.992557</td>\n",
       "    </tr>\n",
       "    <tr>\n",
       "      <th>7</th>\n",
       "      <td>0.910531</td>\n",
       "      <td>0.982250</td>\n",
       "      <td>0.990201</td>\n",
       "    </tr>\n",
       "    <tr>\n",
       "      <th>8</th>\n",
       "      <td>0.918869</td>\n",
       "      <td>0.985449</td>\n",
       "      <td>0.990646</td>\n",
       "    </tr>\n",
       "    <tr>\n",
       "      <th>9</th>\n",
       "      <td>0.886749</td>\n",
       "      <td>0.975348</td>\n",
       "      <td>0.993015</td>\n",
       "    </tr>\n",
       "  </tbody>\n",
       "</table>\n",
       "</div>"
      ],
      "text/plain": [
       "   Linear Regression  K Nearest Neighbors  Decision Tree\n",
       "0           0.904298             0.975840       0.992563\n",
       "1           0.923114             0.986635       0.993920\n",
       "2           0.915912             0.983151       0.991941\n",
       "3           0.909624             0.986926       0.991475\n",
       "4           0.915089             0.978338       0.993501\n",
       "5           0.912409             0.975764       0.991837\n",
       "6           0.907232             0.983724       0.992557\n",
       "7           0.910531             0.982250       0.990201\n",
       "8           0.918869             0.985449       0.990646\n",
       "9           0.886749             0.975348       0.993015"
      ]
     },
     "execution_count": 114,
     "metadata": {},
     "output_type": "execute_result"
    }
   ],
   "source": [
    "models_regression = pd.concat([models_regression, pd.DataFrame(cv_scores, columns=['Decision Tree'])], axis=1)\n",
    "models_regression"
   ]
  },
  {
   "cell_type": "markdown",
   "metadata": {
    "cell_id": "333751ac414740879920419f1013c10d",
    "deepnote_cell_type": "text-cell-h2",
    "formattedRanges": []
   },
   "source": [
    "## Random Forest - Alice"
   ]
  },
  {
   "cell_type": "code",
   "execution_count": 115,
   "metadata": {
    "cell_id": "2d1007c930ff4799a3b6fc761b90d0e1",
    "deepnote_cell_type": "code",
    "deepnote_to_be_reexecuted": true,
    "execution_millis": 1703916,
    "execution_start": 1681679295105,
    "source_hash": "16e8a68c"
   },
   "outputs": [
    {
     "name": "stdout",
     "output_type": "stream",
     "text": [
      "Best Reg Hyperparameters: {'max_depth': 20, 'min_samples_leaf': 1, 'min_samples_split': 2, 'n_estimators': 300}\n",
      "Best Cla Hyperparameters: {'max_depth': None, 'min_samples_leaf': 2, 'min_samples_split': 2, 'n_estimators': 100}\n"
     ]
    }
   ],
   "source": [
    "from sklearn.model_selection import GridSearchCV\n",
    "\n",
    "# Create the target variables\n",
    "y_reg = train_data['Value']\n",
    "y_class = train_data['BS']\n",
    "\n",
    "# predictor variables\n",
    "X = train_data[['S', 'K', 'r', 'tau']]\n",
    "# Split the data into training and test sets\n",
    "X_train, X_test, y_reg_train, y_reg_test, y_class_train, y_class_test = train_test_split(X, y_reg, y_class, test_size=0.2, random_state=2)\n",
    "\n",
    "\n",
    "# Define the hyperparameters to search through\n",
    "param_grid_reg = {\n",
    "    'n_estimators': [50, 100, 200, 300],\n",
    "    'max_depth': [None, 5, 10, 20],\n",
    "    'min_samples_split': [2, 5, 10],\n",
    "    'min_samples_leaf': [1, 2, 4],\n",
    "}\n",
    "\n",
    "param_grid_cla = {\n",
    "    'n_estimators': [50, 100, 200, 300],\n",
    "    'max_depth': [None, 5, 10, 20],\n",
    "    'min_samples_split': [2, 5, 10],\n",
    "    'min_samples_leaf': [1, 2, 4],\n",
    "}\n",
    "\n",
    "\n",
    "# Create a random forest model object\n",
    "rf_reg = RandomForestRegressor(random_state=2)\n",
    "rf_class = RandomForestClassifier(random_state=2)\n",
    "\n",
    "# Create a GridSearchCV object for hyperparameters tuning \n",
    "grid_search_reg = GridSearchCV(estimator=rf_reg, param_grid=param_grid_reg, cv=10, n_jobs=-1)\n",
    "grid_search_cla= GridSearchCV(estimator=rf_class, param_grid=param_grid_cla, cv=10, n_jobs=-1)\n",
    "\n",
    "\n",
    "# Fit the grid search object to the reg training data\n",
    "grid_search_reg.fit(X_train, y_reg_train)\n",
    "\n",
    "# Fit the grid search object to the cla training data\n",
    "grid_search_cla.fit(X_train, y_class_train)\n",
    "\n",
    "# Print the best hyperparameters found by the grid search\n",
    "print(\"Best Reg Hyperparameters:\", grid_search_reg.best_params_)\n",
    "# Print the best hyperparameters found by the grid search\n",
    "print(\"Best Cla Hyperparameters:\", grid_search_cla.best_params_)\n",
    "\n",
    "\n",
    "\n"
   ]
  },
  {
   "cell_type": "code",
   "execution_count": 116,
   "metadata": {},
   "outputs": [
    {
     "name": "stdout",
     "output_type": "stream",
     "text": [
      "Regression R-squared (training): 0.9955198807997124\n",
      "Classification Error (training): 0.06949837279766591\n",
      "---------------------------------------------------------\n",
      "Regression R-squared (test): 0.9952264090475307\n",
      "Classification Error (test): 0.08656716417910448\n",
      "---------------------------------------------------------\n",
      "Regression R-squared (all): 0.9964234776824922\n",
      "Classification Error (all): 0.0651340176789279\n"
     ]
    }
   ],
   "source": [
    "# Create a k-fold object for cross-validation\n",
    "kf = KFold(n_splits=10, shuffle=True, random_state=2)\n",
    "# Perform cross-validation for regression on the training set with best parameters \n",
    "rf_reg = RandomForestRegressor(n_estimators=300, max_depth=20, min_samples_leaf = 1, min_samples_split=2, random_state=2)\n",
    "r_squared_reg = cross_val_score(rf_reg, X_train, y_reg_train, cv=kf, scoring='r2')\n",
    "print('Regression R-squared (training):', r_squared_reg.mean())\n",
    "\n",
    "# cross-validation for classification on the training set with best parameters \n",
    "rf_class = RandomForestClassifier(n_estimators=100, max_depth=None, min_samples_leaf = 2, min_samples_split=2, random_state=2)\n",
    "class_error = cross_val_score(rf_class, X_train, y_class_train, cv=kf, scoring='accuracy')\n",
    "print('Classification Error (training):', 1 - class_error.mean())\n",
    "print('---------------------------------------------------------')\n",
    "\n",
    "\n",
    "# Fit the regression and classification models on the training set\n",
    "rf_reg.fit(X_train, y_reg_train)\n",
    "rf_class.fit(X_train, y_class_train)\n",
    "\n",
    "\n",
    "# Evaluate the models on the test set\n",
    "reg_pred = rf_reg.predict(X_test)\n",
    "reg_r_squared = r2_score(y_reg_test, reg_pred)\n",
    "\n",
    "class_pred = rf_class.predict(X_test)\n",
    "class_error = 1 - accuracy_score(y_class_test, class_pred)\n",
    "\n",
    "print('Regression R-squared (test):', reg_r_squared)\n",
    "print('Classification Error (test):', class_error)\n",
    "print('---------------------------------------------------------')\n",
    "\n",
    "\n",
    "# Evaluate the models on all data set\n",
    "rf_reg_all = RandomForestRegressor(n_estimators=300, max_depth=20, min_samples_leaf = 1, min_samples_split=2, random_state=2)\n",
    "r_squared_reg_all = cross_val_score(rf_reg_all, X, y_reg, cv=kf, scoring='r2')\n",
    "print('Regression R-squared (all):', r_squared_reg_all.mean())\n",
    "\n",
    "rf_class_all = RandomForestClassifier(n_estimators=100, max_depth=None, min_samples_leaf = 2, min_samples_split=2, random_state=2)\n",
    "class_error_all = cross_val_score(rf_class_all, X, y_class, cv=kf, scoring='accuracy')\n",
    "print('Classification Error (all):', 1 - class_error_all.mean())"
   ]
  },
  {
   "cell_type": "code",
   "execution_count": 117,
   "metadata": {},
   "outputs": [
    {
     "data": {
      "text/html": [
       "<div>\n",
       "<style scoped>\n",
       "    .dataframe tbody tr th:only-of-type {\n",
       "        vertical-align: middle;\n",
       "    }\n",
       "\n",
       "    .dataframe tbody tr th {\n",
       "        vertical-align: top;\n",
       "    }\n",
       "\n",
       "    .dataframe thead th {\n",
       "        text-align: right;\n",
       "    }\n",
       "</style>\n",
       "<table border=\"1\" class=\"dataframe\">\n",
       "  <thead>\n",
       "    <tr style=\"text-align: right;\">\n",
       "      <th></th>\n",
       "      <th>Logistic Regression</th>\n",
       "      <th>Linear Discriminant Analysis</th>\n",
       "      <th>K Nearest Neighbors</th>\n",
       "      <th>Decision Tree</th>\n",
       "      <th>Random Forest</th>\n",
       "    </tr>\n",
       "  </thead>\n",
       "  <tbody>\n",
       "    <tr>\n",
       "      <th>0</th>\n",
       "      <td>0.071429</td>\n",
       "      <td>0.071429</td>\n",
       "      <td>0.089552</td>\n",
       "      <td>0.077381</td>\n",
       "      <td>0.095238</td>\n",
       "    </tr>\n",
       "    <tr>\n",
       "      <th>1</th>\n",
       "      <td>0.095238</td>\n",
       "      <td>0.095238</td>\n",
       "      <td>0.077612</td>\n",
       "      <td>0.113095</td>\n",
       "      <td>0.077381</td>\n",
       "    </tr>\n",
       "    <tr>\n",
       "      <th>2</th>\n",
       "      <td>0.089286</td>\n",
       "      <td>0.095238</td>\n",
       "      <td>0.068657</td>\n",
       "      <td>0.065476</td>\n",
       "      <td>0.053571</td>\n",
       "    </tr>\n",
       "    <tr>\n",
       "      <th>3</th>\n",
       "      <td>0.095808</td>\n",
       "      <td>0.101796</td>\n",
       "      <td>0.047904</td>\n",
       "      <td>0.065868</td>\n",
       "      <td>0.047904</td>\n",
       "    </tr>\n",
       "    <tr>\n",
       "      <th>4</th>\n",
       "      <td>0.071856</td>\n",
       "      <td>0.071856</td>\n",
       "      <td>0.071856</td>\n",
       "      <td>0.089820</td>\n",
       "      <td>0.053892</td>\n",
       "    </tr>\n",
       "    <tr>\n",
       "      <th>5</th>\n",
       "      <td>0.101796</td>\n",
       "      <td>0.101796</td>\n",
       "      <td>NaN</td>\n",
       "      <td>0.053892</td>\n",
       "      <td>0.047904</td>\n",
       "    </tr>\n",
       "    <tr>\n",
       "      <th>6</th>\n",
       "      <td>0.101796</td>\n",
       "      <td>0.089820</td>\n",
       "      <td>NaN</td>\n",
       "      <td>0.101796</td>\n",
       "      <td>0.047904</td>\n",
       "    </tr>\n",
       "    <tr>\n",
       "      <th>7</th>\n",
       "      <td>0.095808</td>\n",
       "      <td>0.101796</td>\n",
       "      <td>NaN</td>\n",
       "      <td>0.065868</td>\n",
       "      <td>0.077844</td>\n",
       "    </tr>\n",
       "    <tr>\n",
       "      <th>8</th>\n",
       "      <td>0.047904</td>\n",
       "      <td>0.047904</td>\n",
       "      <td>NaN</td>\n",
       "      <td>0.113772</td>\n",
       "      <td>0.059880</td>\n",
       "    </tr>\n",
       "    <tr>\n",
       "      <th>9</th>\n",
       "      <td>0.089820</td>\n",
       "      <td>0.089820</td>\n",
       "      <td>NaN</td>\n",
       "      <td>0.083832</td>\n",
       "      <td>0.089820</td>\n",
       "    </tr>\n",
       "  </tbody>\n",
       "</table>\n",
       "</div>"
      ],
      "text/plain": [
       "   Logistic Regression  Linear Discriminant Analysis  K Nearest Neighbors  \\\n",
       "0             0.071429                      0.071429             0.089552   \n",
       "1             0.095238                      0.095238             0.077612   \n",
       "2             0.089286                      0.095238             0.068657   \n",
       "3             0.095808                      0.101796             0.047904   \n",
       "4             0.071856                      0.071856             0.071856   \n",
       "5             0.101796                      0.101796                  NaN   \n",
       "6             0.101796                      0.089820                  NaN   \n",
       "7             0.095808                      0.101796                  NaN   \n",
       "8             0.047904                      0.047904                  NaN   \n",
       "9             0.089820                      0.089820                  NaN   \n",
       "\n",
       "   Decision Tree  Random Forest  \n",
       "0       0.077381       0.095238  \n",
       "1       0.113095       0.077381  \n",
       "2       0.065476       0.053571  \n",
       "3       0.065868       0.047904  \n",
       "4       0.089820       0.053892  \n",
       "5       0.053892       0.047904  \n",
       "6       0.101796       0.047904  \n",
       "7       0.065868       0.077844  \n",
       "8       0.113772       0.059880  \n",
       "9       0.083832       0.089820  "
      ]
     },
     "execution_count": 117,
     "metadata": {},
     "output_type": "execute_result"
    }
   ],
   "source": [
    "models_classification = pd.concat([models_classification, pd.DataFrame(1-class_error_all, columns=['Random Forest'])], axis=1)\n",
    "models_classification"
   ]
  },
  {
   "cell_type": "code",
   "execution_count": 118,
   "metadata": {},
   "outputs": [
    {
     "data": {
      "text/html": [
       "<div>\n",
       "<style scoped>\n",
       "    .dataframe tbody tr th:only-of-type {\n",
       "        vertical-align: middle;\n",
       "    }\n",
       "\n",
       "    .dataframe tbody tr th {\n",
       "        vertical-align: top;\n",
       "    }\n",
       "\n",
       "    .dataframe thead th {\n",
       "        text-align: right;\n",
       "    }\n",
       "</style>\n",
       "<table border=\"1\" class=\"dataframe\">\n",
       "  <thead>\n",
       "    <tr style=\"text-align: right;\">\n",
       "      <th></th>\n",
       "      <th>Linear Regression</th>\n",
       "      <th>K Nearest Neighbors</th>\n",
       "      <th>Decision Tree</th>\n",
       "      <th>Random Forest</th>\n",
       "    </tr>\n",
       "  </thead>\n",
       "  <tbody>\n",
       "    <tr>\n",
       "      <th>0</th>\n",
       "      <td>0.904298</td>\n",
       "      <td>0.975840</td>\n",
       "      <td>0.992563</td>\n",
       "      <td>0.995191</td>\n",
       "    </tr>\n",
       "    <tr>\n",
       "      <th>1</th>\n",
       "      <td>0.923114</td>\n",
       "      <td>0.986635</td>\n",
       "      <td>0.993920</td>\n",
       "      <td>0.996825</td>\n",
       "    </tr>\n",
       "    <tr>\n",
       "      <th>2</th>\n",
       "      <td>0.915912</td>\n",
       "      <td>0.983151</td>\n",
       "      <td>0.991941</td>\n",
       "      <td>0.996809</td>\n",
       "    </tr>\n",
       "    <tr>\n",
       "      <th>3</th>\n",
       "      <td>0.909624</td>\n",
       "      <td>0.986926</td>\n",
       "      <td>0.991475</td>\n",
       "      <td>0.995841</td>\n",
       "    </tr>\n",
       "    <tr>\n",
       "      <th>4</th>\n",
       "      <td>0.915089</td>\n",
       "      <td>0.978338</td>\n",
       "      <td>0.993501</td>\n",
       "      <td>0.996873</td>\n",
       "    </tr>\n",
       "    <tr>\n",
       "      <th>5</th>\n",
       "      <td>0.912409</td>\n",
       "      <td>0.975764</td>\n",
       "      <td>0.991837</td>\n",
       "      <td>0.996710</td>\n",
       "    </tr>\n",
       "    <tr>\n",
       "      <th>6</th>\n",
       "      <td>0.907232</td>\n",
       "      <td>0.983724</td>\n",
       "      <td>0.992557</td>\n",
       "      <td>0.996845</td>\n",
       "    </tr>\n",
       "    <tr>\n",
       "      <th>7</th>\n",
       "      <td>0.910531</td>\n",
       "      <td>0.982250</td>\n",
       "      <td>0.990201</td>\n",
       "      <td>0.995620</td>\n",
       "    </tr>\n",
       "    <tr>\n",
       "      <th>8</th>\n",
       "      <td>0.918869</td>\n",
       "      <td>0.985449</td>\n",
       "      <td>0.990646</td>\n",
       "      <td>0.996676</td>\n",
       "    </tr>\n",
       "    <tr>\n",
       "      <th>9</th>\n",
       "      <td>0.886749</td>\n",
       "      <td>0.975348</td>\n",
       "      <td>0.993015</td>\n",
       "      <td>0.996844</td>\n",
       "    </tr>\n",
       "  </tbody>\n",
       "</table>\n",
       "</div>"
      ],
      "text/plain": [
       "   Linear Regression  K Nearest Neighbors  Decision Tree  Random Forest\n",
       "0           0.904298             0.975840       0.992563       0.995191\n",
       "1           0.923114             0.986635       0.993920       0.996825\n",
       "2           0.915912             0.983151       0.991941       0.996809\n",
       "3           0.909624             0.986926       0.991475       0.995841\n",
       "4           0.915089             0.978338       0.993501       0.996873\n",
       "5           0.912409             0.975764       0.991837       0.996710\n",
       "6           0.907232             0.983724       0.992557       0.996845\n",
       "7           0.910531             0.982250       0.990201       0.995620\n",
       "8           0.918869             0.985449       0.990646       0.996676\n",
       "9           0.886749             0.975348       0.993015       0.996844"
      ]
     },
     "execution_count": 118,
     "metadata": {},
     "output_type": "execute_result"
    }
   ],
   "source": [
    "models_regression = pd.concat([models_regression, pd.DataFrame(r_squared_reg_all, columns=['Random Forest'])], axis=1)\n",
    "models_regression"
   ]
  },
  {
   "cell_type": "code",
   "execution_count": 119,
   "metadata": {},
   "outputs": [
    {
     "data": {
      "image/png": "[encoded data removed]",
      "text/plain": [
       "<Figure size 432x288 with 1 Axes>"
      ]
     },
     "metadata": {
      "needs_background": "light"
     },
     "output_type": "display_data"
    }
   ],
   "source": [
    "#ROC-CURVE for RF classification \n",
    "\n",
    "from sklearn.metrics import roc_curve, auc\n",
    "\n",
    "rf_class.fit(X_train, y_class_train)\n",
    "\n",
    "# Get predicted probabilities for each class\n",
    "class_probs = rf_class.predict_proba(X_test)\n",
    "\n",
    "# Compute false positive rate, true positive rate, and thresholds for ROC curve\n",
    "fpr, tpr, thresholds = roc_curve(y_class_test, class_probs[:, 1])\n",
    "\n",
    "# AUC\n",
    "roc_auc = auc(fpr, tpr)\n",
    "\n",
    "# Plot the ROC curve\n",
    "import matplotlib.pyplot as plt\n",
    "\n",
    "plt.plot(fpr, tpr, color='darkorange', lw=2, label='ROC curve (AUC = %0.2f)' % roc_auc)\n",
    "plt.plot([0, 1], [0, 1], color='navy', lw=2, linestyle='--')\n",
    "plt.xlim([0.0, 1.0])\n",
    "plt.ylim([0.0, 1.05])\n",
    "plt.xlabel('False Positive Rate')\n",
    "plt.ylabel('True Positive Rate')\n",
    "plt.title('Receiver operating characteristic')\n",
    "plt.legend(loc=\"lower right\")\n",
    "plt.show()"
   ]
  },
  {
   "cell_type": "code",
   "execution_count": 120,
   "metadata": {},
   "outputs": [
    {
     "name": "stdout",
     "output_type": "stream",
     "text": [
      "[0.99457952 0.99522666 0.99579834 0.99588427 0.99474818 0.99586819\n",
      " 0.99610182 0.99725977 0.9950887  0.99464334]\n"
     ]
    },
    {
     "data": {
      "image/png": "[encoded data removed]",
      "text/plain": [
       "<Figure size 432x288 with 1 Axes>"
      ]
     },
     "metadata": {
      "needs_background": "light"
     },
     "output_type": "display_data"
    }
   ],
   "source": [
    "# Comparison between of r squared between training (cv) and test \n",
    "#plot r^2 for RF regression \n",
    "# Plot the results\n",
    "print(r_squared_reg)\n",
    "fig, ax = plt.subplots()\n",
    "ax.plot(range(1, 11), r_squared_reg, label='CV R-squared')\n",
    "ax.axhline(reg_r_squared, color='r', label='Test R-squared')\n",
    "ax.set_xlabel('Number of folds')\n",
    "ax.set_ylabel('R^2')\n",
    "ax.set_xticks(range(1, 11))\n",
    "ax.legend()\n",
    "plt.show()"
   ]
  },
  {
   "cell_type": "markdown",
   "metadata": {
    "cell_id": "fce2239e0eaf477ba036e1e1437383b2",
    "deepnote_cell_type": "text-cell-h2",
    "formattedRanges": []
   },
   "source": [
    "## Boosting - Emily"
   ]
  },
  {
   "cell_type": "markdown",
   "metadata": {
    "cell_id": "db6309445c6e4d51ba4d6e954d775247",
    "deepnote_cell_type": "code",
    "deepnote_to_be_reexecuted": true,
    "execution_millis": 1685947,
    "execution_start": 1681679313074,
    "source_hash": "b623e53d"
   },
   "source": [
    "### XG BOOST - CLASSIFICAION"
   ]
  },
  {
   "cell_type": "code",
   "execution_count": 121,
   "metadata": {},
   "outputs": [],
   "source": [
    "# Define X and y\n",
    "# Defind kfolds for cv\n",
    "X_boost_class = train_data[['S', 'K', 'tau', 'r']].values\n",
    "y_boost_class = train_data['BS'].values\n",
    "kfolds = StratifiedKFold(n_splits = 10, shuffle = True, random_state = 2)"
   ]
  },
  {
   "cell_type": "markdown",
   "metadata": {},
   "source": [
    "### Without Tuning Parameters- With All Default - CLASSIFICATION"
   ]
  },
  {
   "cell_type": "code",
   "execution_count": 122,
   "metadata": {},
   "outputs": [
    {
     "name": "stdout",
     "output_type": "stream",
     "text": [
      "out of sample accuracy score:0.9327\n",
      "in sample accuracy score:1.0\n"
     ]
    }
   ],
   "source": [
    "X_train,X_test,y_train,y_test=train_test_split(X_boost_class,y_boost_class,test_size=0.2,random_state=2, stratify=y_boost_class)\n",
    "\n",
    "scores_test = []\n",
    "scores_train = []\n",
    "    \n",
    "for train_index, test_index in kfolds.split(X_train, y_train):\n",
    "    \n",
    "    model = xgb.XGBClassifier()\n",
    "    model.fit(X_train[train_index], y_train[train_index])\n",
    "\n",
    "    # use fitted model to predict the in-sample and out-of-sample accuracy score\n",
    "    y_pred_test = model.predict(X_train[test_index])\n",
    "    y_pred_train = model.predict(X_train[train_index])\n",
    "\n",
    "    # score for each iteration and add score into scores list\n",
    "    score_test = accuracy_score(y_pred_test, y_train[test_index])\n",
    "    score_train = accuracy_score(y_pred_train, y_train[train_index])\n",
    "    scores_test.append(score_test)\n",
    "    scores_train.append(score_train)\n",
    "\n",
    "print(f'out of sample accuracy score:{np.round(sum(scores_test)/len(scores_test),4)}')\n",
    "print(f'in sample accuracy score:{np.round(sum(scores_train)/len(scores_train),4)}')"
   ]
  },
  {
   "cell_type": "markdown",
   "metadata": {},
   "source": [
    "<font size=\"+0.5\">\n",
    "<li>The in sample accuracy score of 0.9998 is much higher than the out of sample accuracy score of 0.9343, indicating an overfitting model with default hyperparameters. Therefore, we need to tune the hyperparameters such as max_depth of trees, alpha (L1 norm), and learning rate to control the model complexity and to prevent overfitting. \n",
    "</font>"
   ]
  },
  {
   "cell_type": "markdown",
   "metadata": {},
   "source": [
    "### Tune Hyperparameters - CLASSIFICATION"
   ]
  },
  {
   "cell_type": "code",
   "execution_count": 123,
   "metadata": {},
   "outputs": [],
   "source": [
    "# Initiate values\n",
    "alphas_list = [0,0.001,0.1,0.5]\n",
    "max_depths_list = [1,2,3,4,5]\n",
    "learning_list = [0.05,0.1,0.3]"
   ]
  },
  {
   "cell_type": "code",
   "execution_count": 124,
   "metadata": {},
   "outputs": [
    {
     "name": "stdout",
     "output_type": "stream",
     "text": [
      "{'max_depth': [1, 1, 1, 1, 1, 1, 1, 1, 1, 1, 1, 1, 2, 2, 2, 2, 2, 2, 2, 2, 2, 2, 2, 2, 3, 3, 3, 3, 3, 3, 3, 3, 3, 3, 3, 3, 4, 4, 4, 4, 4, 4, 4, 4, 4, 4, 4, 4, 5, 5, 5, 5, 5, 5, 5, 5, 5, 5, 5, 5], 'alpha': [0, 0, 0, 0.001, 0.001, 0.001, 0.1, 0.1, 0.1, 0.5, 0.5, 0.5, 0, 0, 0, 0.001, 0.001, 0.001, 0.1, 0.1, 0.1, 0.5, 0.5, 0.5, 0, 0, 0, 0.001, 0.001, 0.001, 0.1, 0.1, 0.1, 0.5, 0.5, 0.5, 0, 0, 0, 0.001, 0.001, 0.001, 0.1, 0.1, 0.1, 0.5, 0.5, 0.5, 0, 0, 0, 0.001, 0.001, 0.001, 0.1, 0.1, 0.1, 0.5, 0.5, 0.5], 'learning_rate': [0.05, 0.1, 0.3, 0.05, 0.1, 0.3, 0.05, 0.1, 0.3, 0.05, 0.1, 0.3, 0.05, 0.1, 0.3, 0.05, 0.1, 0.3, 0.05, 0.1, 0.3, 0.05, 0.1, 0.3, 0.05, 0.1, 0.3, 0.05, 0.1, 0.3, 0.05, 0.1, 0.3, 0.05, 0.1, 0.3, 0.05, 0.1, 0.3, 0.05, 0.1, 0.3, 0.05, 0.1, 0.3, 0.05, 0.1, 0.3, 0.05, 0.1, 0.3, 0.05, 0.1, 0.3, 0.05, 0.1, 0.3, 0.05, 0.1, 0.3], 'test_score': [0.9021, 0.911, 0.92, 0.9021, 0.911, 0.92, 0.9021, 0.9118, 0.9192, 0.9021, 0.914, 0.9185, 0.9215, 0.9178, 0.9282, 0.9207, 0.9185, 0.9282, 0.9215, 0.9178, 0.9275, 0.9207, 0.9215, 0.9267, 0.9148, 0.9193, 0.9305, 0.9148, 0.9208, 0.9297, 0.9163, 0.9215, 0.9305, 0.9178, 0.923, 0.9327, 0.9237, 0.9253, 0.9342, 0.9237, 0.9245, 0.9327, 0.9252, 0.926, 0.9282, 0.9245, 0.926, 0.9342, 0.9222, 0.9267, 0.9297, 0.923, 0.9275, 0.9312, 0.9252, 0.929, 0.932, 0.9238, 0.9305, 0.9342], 'train_score': [0.907, 0.9222, 0.9327, 0.907, 0.9222, 0.933, 0.907, 0.9222, 0.9326, 0.907, 0.9221, 0.9315, 0.9266, 0.9376, 0.9687, 0.9266, 0.9376, 0.9684, 0.9267, 0.9367, 0.9675, 0.9269, 0.9352, 0.9646, 0.9359, 0.9627, 0.9914, 0.9358, 0.9625, 0.9919, 0.9354, 0.9621, 0.9905, 0.9344, 0.9605, 0.9873, 0.9628, 0.9805, 0.9992, 0.9626, 0.9803, 0.9993, 0.9627, 0.9797, 0.9987, 0.96, 0.9777, 0.997, 0.9762, 0.9915, 1.0, 0.9764, 0.9915, 1.0, 0.9771, 0.9913, 0.9998, 0.9731, 0.9873, 0.9987]}\n"
     ]
    }
   ],
   "source": [
    "# Calcualte the accuracy score of xgboost model by examining different combination of hyperparameters \n",
    "\n",
    "summary = {\n",
    "    \"max_depth\": [],\n",
    "    \"alpha\": [],\n",
    "    \"learning_rate\": [],\n",
    "    \"test_score\":[],\n",
    "    \"train_score\": []\n",
    "}\n",
    "max_avg_score = 0\n",
    "best_depth = 0\n",
    "best_alpha = 0\n",
    "best_learning_rate = 0\n",
    "\n",
    "X_train,X_test,y_train,y_test=train_test_split(X_boost_class,y_boost_class,test_size=0.2,random_state=2, stratify=y_boost_class)\n",
    "\n",
    "for max_depth in max_depths_list:\n",
    "    for alpha in alphas_list:\n",
    "        for rate in learning_list:\n",
    "            scores_test = []\n",
    "            scores_train = []\n",
    "            \n",
    "            # cv=10 and tune hyperparameters of xgbclassifier model\n",
    "            for train_index, test_index in kfolds.split(X_train, y_train):\n",
    "                model = xgb.XGBClassifier(max_depth=max_depth, reg_alpha=alpha, learning_rate=rate, objective='binary:logistic', verbosity=0)\n",
    "                model.fit(X_train[train_index], y_train[train_index])\n",
    "                \n",
    "                # use fitted model to predict the in-sample and out-of-sample accuracy score\n",
    "                y_pred_test = model.predict(X_train[test_index])\n",
    "                y_pred_train = model.predict(X_train[train_index])\n",
    "                \n",
    "                # score for each iteration and add score into scores list\n",
    "                score_test = accuracy_score(y_pred_test, y_train[test_index])\n",
    "                score_train = accuracy_score(y_pred_train, y_train[train_index])\n",
    "                scores_test.append(score_test)\n",
    "                scores_train.append(score_train)\n",
    "\n",
    "            # average out-of-sample score for each combination of hyperparameters \n",
    "            max_avg_score_temp = sum(scores_test)/len(scores_test)\n",
    "            # find the max out-of-sample score from combinations of hyperparameters\n",
    "            if max_avg_score_temp > max_avg_score:\n",
    "                max_avg_score = max_avg_score_temp\n",
    "                best_depth = max_depth\n",
    "                best_alpha = alpha\n",
    "                best_learning_rate = rate\n",
    "            \n",
    "            summary[\"max_depth\"].append(max_depth)\n",
    "            summary[\"alpha\"].append(alpha)\n",
    "            summary[\"learning_rate\"].append(rate)\n",
    "            summary[\"test_score\"].append(np.round(sum(scores_test)/len(scores_test),4))\n",
    "            summary[\"train_score\"].append(np.round(sum(scores_train)/len(scores_train),4))\n",
    "            \n",
    "print(summary)"
   ]
  },
  {
   "cell_type": "code",
   "execution_count": 125,
   "metadata": {},
   "outputs": [
    {
     "name": "stdout",
     "output_type": "stream",
     "text": [
      "0.934216137358321\n",
      "4\n",
      "0\n",
      "0.3\n"
     ]
    }
   ],
   "source": [
    "# the best accuracy score result and its corresponding hyperparameters\n",
    "print(max_avg_score)\n",
    "print(best_depth)\n",
    "print(best_alpha)\n",
    "print(best_learning_rate)"
   ]
  },
  {
   "cell_type": "code",
   "execution_count": 126,
   "metadata": {},
   "outputs": [
    {
     "data": {
      "text/html": [
       "<div>\n",
       "<style scoped>\n",
       "    .dataframe tbody tr th:only-of-type {\n",
       "        vertical-align: middle;\n",
       "    }\n",
       "\n",
       "    .dataframe tbody tr th {\n",
       "        vertical-align: top;\n",
       "    }\n",
       "\n",
       "    .dataframe thead th {\n",
       "        text-align: right;\n",
       "    }\n",
       "</style>\n",
       "<table border=\"1\" class=\"dataframe\">\n",
       "  <thead>\n",
       "    <tr style=\"text-align: right;\">\n",
       "      <th></th>\n",
       "      <th>max_depth</th>\n",
       "      <th>alpha</th>\n",
       "      <th>learning_rate</th>\n",
       "      <th>test_score</th>\n",
       "      <th>train_score</th>\n",
       "      <th>Difference</th>\n",
       "    </tr>\n",
       "  </thead>\n",
       "  <tbody>\n",
       "    <tr>\n",
       "      <th>0</th>\n",
       "      <td>1</td>\n",
       "      <td>0.000</td>\n",
       "      <td>0.05</td>\n",
       "      <td>0.9021</td>\n",
       "      <td>0.9070</td>\n",
       "      <td>0.0049</td>\n",
       "    </tr>\n",
       "    <tr>\n",
       "      <th>1</th>\n",
       "      <td>1</td>\n",
       "      <td>0.000</td>\n",
       "      <td>0.10</td>\n",
       "      <td>0.9110</td>\n",
       "      <td>0.9222</td>\n",
       "      <td>0.0112</td>\n",
       "    </tr>\n",
       "    <tr>\n",
       "      <th>2</th>\n",
       "      <td>1</td>\n",
       "      <td>0.000</td>\n",
       "      <td>0.30</td>\n",
       "      <td>0.9200</td>\n",
       "      <td>0.9327</td>\n",
       "      <td>0.0127</td>\n",
       "    </tr>\n",
       "    <tr>\n",
       "      <th>3</th>\n",
       "      <td>1</td>\n",
       "      <td>0.001</td>\n",
       "      <td>0.05</td>\n",
       "      <td>0.9021</td>\n",
       "      <td>0.9070</td>\n",
       "      <td>0.0049</td>\n",
       "    </tr>\n",
       "    <tr>\n",
       "      <th>4</th>\n",
       "      <td>1</td>\n",
       "      <td>0.001</td>\n",
       "      <td>0.10</td>\n",
       "      <td>0.9110</td>\n",
       "      <td>0.9222</td>\n",
       "      <td>0.0112</td>\n",
       "    </tr>\n",
       "    <tr>\n",
       "      <th>5</th>\n",
       "      <td>1</td>\n",
       "      <td>0.001</td>\n",
       "      <td>0.30</td>\n",
       "      <td>0.9200</td>\n",
       "      <td>0.9330</td>\n",
       "      <td>0.0130</td>\n",
       "    </tr>\n",
       "    <tr>\n",
       "      <th>6</th>\n",
       "      <td>1</td>\n",
       "      <td>0.100</td>\n",
       "      <td>0.05</td>\n",
       "      <td>0.9021</td>\n",
       "      <td>0.9070</td>\n",
       "      <td>0.0049</td>\n",
       "    </tr>\n",
       "    <tr>\n",
       "      <th>7</th>\n",
       "      <td>1</td>\n",
       "      <td>0.100</td>\n",
       "      <td>0.10</td>\n",
       "      <td>0.9118</td>\n",
       "      <td>0.9222</td>\n",
       "      <td>0.0104</td>\n",
       "    </tr>\n",
       "    <tr>\n",
       "      <th>8</th>\n",
       "      <td>1</td>\n",
       "      <td>0.100</td>\n",
       "      <td>0.30</td>\n",
       "      <td>0.9192</td>\n",
       "      <td>0.9326</td>\n",
       "      <td>0.0134</td>\n",
       "    </tr>\n",
       "    <tr>\n",
       "      <th>9</th>\n",
       "      <td>1</td>\n",
       "      <td>0.500</td>\n",
       "      <td>0.05</td>\n",
       "      <td>0.9021</td>\n",
       "      <td>0.9070</td>\n",
       "      <td>0.0049</td>\n",
       "    </tr>\n",
       "    <tr>\n",
       "      <th>10</th>\n",
       "      <td>1</td>\n",
       "      <td>0.500</td>\n",
       "      <td>0.10</td>\n",
       "      <td>0.9140</td>\n",
       "      <td>0.9221</td>\n",
       "      <td>0.0081</td>\n",
       "    </tr>\n",
       "    <tr>\n",
       "      <th>11</th>\n",
       "      <td>1</td>\n",
       "      <td>0.500</td>\n",
       "      <td>0.30</td>\n",
       "      <td>0.9185</td>\n",
       "      <td>0.9315</td>\n",
       "      <td>0.0130</td>\n",
       "    </tr>\n",
       "    <tr>\n",
       "      <th>12</th>\n",
       "      <td>2</td>\n",
       "      <td>0.000</td>\n",
       "      <td>0.05</td>\n",
       "      <td>0.9215</td>\n",
       "      <td>0.9266</td>\n",
       "      <td>0.0051</td>\n",
       "    </tr>\n",
       "    <tr>\n",
       "      <th>13</th>\n",
       "      <td>2</td>\n",
       "      <td>0.000</td>\n",
       "      <td>0.10</td>\n",
       "      <td>0.9178</td>\n",
       "      <td>0.9376</td>\n",
       "      <td>0.0198</td>\n",
       "    </tr>\n",
       "    <tr>\n",
       "      <th>14</th>\n",
       "      <td>2</td>\n",
       "      <td>0.000</td>\n",
       "      <td>0.30</td>\n",
       "      <td>0.9282</td>\n",
       "      <td>0.9687</td>\n",
       "      <td>0.0405</td>\n",
       "    </tr>\n",
       "    <tr>\n",
       "      <th>15</th>\n",
       "      <td>2</td>\n",
       "      <td>0.001</td>\n",
       "      <td>0.05</td>\n",
       "      <td>0.9207</td>\n",
       "      <td>0.9266</td>\n",
       "      <td>0.0059</td>\n",
       "    </tr>\n",
       "    <tr>\n",
       "      <th>16</th>\n",
       "      <td>2</td>\n",
       "      <td>0.001</td>\n",
       "      <td>0.10</td>\n",
       "      <td>0.9185</td>\n",
       "      <td>0.9376</td>\n",
       "      <td>0.0191</td>\n",
       "    </tr>\n",
       "    <tr>\n",
       "      <th>17</th>\n",
       "      <td>2</td>\n",
       "      <td>0.001</td>\n",
       "      <td>0.30</td>\n",
       "      <td>0.9282</td>\n",
       "      <td>0.9684</td>\n",
       "      <td>0.0402</td>\n",
       "    </tr>\n",
       "    <tr>\n",
       "      <th>18</th>\n",
       "      <td>2</td>\n",
       "      <td>0.100</td>\n",
       "      <td>0.05</td>\n",
       "      <td>0.9215</td>\n",
       "      <td>0.9267</td>\n",
       "      <td>0.0052</td>\n",
       "    </tr>\n",
       "    <tr>\n",
       "      <th>19</th>\n",
       "      <td>2</td>\n",
       "      <td>0.100</td>\n",
       "      <td>0.10</td>\n",
       "      <td>0.9178</td>\n",
       "      <td>0.9367</td>\n",
       "      <td>0.0189</td>\n",
       "    </tr>\n",
       "    <tr>\n",
       "      <th>20</th>\n",
       "      <td>2</td>\n",
       "      <td>0.100</td>\n",
       "      <td>0.30</td>\n",
       "      <td>0.9275</td>\n",
       "      <td>0.9675</td>\n",
       "      <td>0.0400</td>\n",
       "    </tr>\n",
       "    <tr>\n",
       "      <th>21</th>\n",
       "      <td>2</td>\n",
       "      <td>0.500</td>\n",
       "      <td>0.05</td>\n",
       "      <td>0.9207</td>\n",
       "      <td>0.9269</td>\n",
       "      <td>0.0062</td>\n",
       "    </tr>\n",
       "    <tr>\n",
       "      <th>22</th>\n",
       "      <td>2</td>\n",
       "      <td>0.500</td>\n",
       "      <td>0.10</td>\n",
       "      <td>0.9215</td>\n",
       "      <td>0.9352</td>\n",
       "      <td>0.0137</td>\n",
       "    </tr>\n",
       "    <tr>\n",
       "      <th>23</th>\n",
       "      <td>2</td>\n",
       "      <td>0.500</td>\n",
       "      <td>0.30</td>\n",
       "      <td>0.9267</td>\n",
       "      <td>0.9646</td>\n",
       "      <td>0.0379</td>\n",
       "    </tr>\n",
       "    <tr>\n",
       "      <th>24</th>\n",
       "      <td>3</td>\n",
       "      <td>0.000</td>\n",
       "      <td>0.05</td>\n",
       "      <td>0.9148</td>\n",
       "      <td>0.9359</td>\n",
       "      <td>0.0211</td>\n",
       "    </tr>\n",
       "    <tr>\n",
       "      <th>25</th>\n",
       "      <td>3</td>\n",
       "      <td>0.000</td>\n",
       "      <td>0.10</td>\n",
       "      <td>0.9193</td>\n",
       "      <td>0.9627</td>\n",
       "      <td>0.0434</td>\n",
       "    </tr>\n",
       "    <tr>\n",
       "      <th>26</th>\n",
       "      <td>3</td>\n",
       "      <td>0.000</td>\n",
       "      <td>0.30</td>\n",
       "      <td>0.9305</td>\n",
       "      <td>0.9914</td>\n",
       "      <td>0.0609</td>\n",
       "    </tr>\n",
       "    <tr>\n",
       "      <th>27</th>\n",
       "      <td>3</td>\n",
       "      <td>0.001</td>\n",
       "      <td>0.05</td>\n",
       "      <td>0.9148</td>\n",
       "      <td>0.9358</td>\n",
       "      <td>0.0210</td>\n",
       "    </tr>\n",
       "    <tr>\n",
       "      <th>28</th>\n",
       "      <td>3</td>\n",
       "      <td>0.001</td>\n",
       "      <td>0.10</td>\n",
       "      <td>0.9208</td>\n",
       "      <td>0.9625</td>\n",
       "      <td>0.0417</td>\n",
       "    </tr>\n",
       "    <tr>\n",
       "      <th>29</th>\n",
       "      <td>3</td>\n",
       "      <td>0.001</td>\n",
       "      <td>0.30</td>\n",
       "      <td>0.9297</td>\n",
       "      <td>0.9919</td>\n",
       "      <td>0.0622</td>\n",
       "    </tr>\n",
       "    <tr>\n",
       "      <th>30</th>\n",
       "      <td>3</td>\n",
       "      <td>0.100</td>\n",
       "      <td>0.05</td>\n",
       "      <td>0.9163</td>\n",
       "      <td>0.9354</td>\n",
       "      <td>0.0191</td>\n",
       "    </tr>\n",
       "    <tr>\n",
       "      <th>31</th>\n",
       "      <td>3</td>\n",
       "      <td>0.100</td>\n",
       "      <td>0.10</td>\n",
       "      <td>0.9215</td>\n",
       "      <td>0.9621</td>\n",
       "      <td>0.0406</td>\n",
       "    </tr>\n",
       "    <tr>\n",
       "      <th>32</th>\n",
       "      <td>3</td>\n",
       "      <td>0.100</td>\n",
       "      <td>0.30</td>\n",
       "      <td>0.9305</td>\n",
       "      <td>0.9905</td>\n",
       "      <td>0.0600</td>\n",
       "    </tr>\n",
       "    <tr>\n",
       "      <th>33</th>\n",
       "      <td>3</td>\n",
       "      <td>0.500</td>\n",
       "      <td>0.05</td>\n",
       "      <td>0.9178</td>\n",
       "      <td>0.9344</td>\n",
       "      <td>0.0166</td>\n",
       "    </tr>\n",
       "    <tr>\n",
       "      <th>34</th>\n",
       "      <td>3</td>\n",
       "      <td>0.500</td>\n",
       "      <td>0.10</td>\n",
       "      <td>0.9230</td>\n",
       "      <td>0.9605</td>\n",
       "      <td>0.0375</td>\n",
       "    </tr>\n",
       "    <tr>\n",
       "      <th>35</th>\n",
       "      <td>3</td>\n",
       "      <td>0.500</td>\n",
       "      <td>0.30</td>\n",
       "      <td>0.9327</td>\n",
       "      <td>0.9873</td>\n",
       "      <td>0.0546</td>\n",
       "    </tr>\n",
       "    <tr>\n",
       "      <th>36</th>\n",
       "      <td>4</td>\n",
       "      <td>0.000</td>\n",
       "      <td>0.05</td>\n",
       "      <td>0.9237</td>\n",
       "      <td>0.9628</td>\n",
       "      <td>0.0391</td>\n",
       "    </tr>\n",
       "    <tr>\n",
       "      <th>37</th>\n",
       "      <td>4</td>\n",
       "      <td>0.000</td>\n",
       "      <td>0.10</td>\n",
       "      <td>0.9253</td>\n",
       "      <td>0.9805</td>\n",
       "      <td>0.0552</td>\n",
       "    </tr>\n",
       "    <tr>\n",
       "      <th>38</th>\n",
       "      <td>4</td>\n",
       "      <td>0.000</td>\n",
       "      <td>0.30</td>\n",
       "      <td>0.9342</td>\n",
       "      <td>0.9992</td>\n",
       "      <td>0.0650</td>\n",
       "    </tr>\n",
       "    <tr>\n",
       "      <th>39</th>\n",
       "      <td>4</td>\n",
       "      <td>0.001</td>\n",
       "      <td>0.05</td>\n",
       "      <td>0.9237</td>\n",
       "      <td>0.9626</td>\n",
       "      <td>0.0389</td>\n",
       "    </tr>\n",
       "    <tr>\n",
       "      <th>40</th>\n",
       "      <td>4</td>\n",
       "      <td>0.001</td>\n",
       "      <td>0.10</td>\n",
       "      <td>0.9245</td>\n",
       "      <td>0.9803</td>\n",
       "      <td>0.0558</td>\n",
       "    </tr>\n",
       "    <tr>\n",
       "      <th>41</th>\n",
       "      <td>4</td>\n",
       "      <td>0.001</td>\n",
       "      <td>0.30</td>\n",
       "      <td>0.9327</td>\n",
       "      <td>0.9993</td>\n",
       "      <td>0.0666</td>\n",
       "    </tr>\n",
       "    <tr>\n",
       "      <th>42</th>\n",
       "      <td>4</td>\n",
       "      <td>0.100</td>\n",
       "      <td>0.05</td>\n",
       "      <td>0.9252</td>\n",
       "      <td>0.9627</td>\n",
       "      <td>0.0375</td>\n",
       "    </tr>\n",
       "    <tr>\n",
       "      <th>43</th>\n",
       "      <td>4</td>\n",
       "      <td>0.100</td>\n",
       "      <td>0.10</td>\n",
       "      <td>0.9260</td>\n",
       "      <td>0.9797</td>\n",
       "      <td>0.0537</td>\n",
       "    </tr>\n",
       "    <tr>\n",
       "      <th>44</th>\n",
       "      <td>4</td>\n",
       "      <td>0.100</td>\n",
       "      <td>0.30</td>\n",
       "      <td>0.9282</td>\n",
       "      <td>0.9987</td>\n",
       "      <td>0.0705</td>\n",
       "    </tr>\n",
       "    <tr>\n",
       "      <th>45</th>\n",
       "      <td>4</td>\n",
       "      <td>0.500</td>\n",
       "      <td>0.05</td>\n",
       "      <td>0.9245</td>\n",
       "      <td>0.9600</td>\n",
       "      <td>0.0355</td>\n",
       "    </tr>\n",
       "    <tr>\n",
       "      <th>46</th>\n",
       "      <td>4</td>\n",
       "      <td>0.500</td>\n",
       "      <td>0.10</td>\n",
       "      <td>0.9260</td>\n",
       "      <td>0.9777</td>\n",
       "      <td>0.0517</td>\n",
       "    </tr>\n",
       "    <tr>\n",
       "      <th>47</th>\n",
       "      <td>4</td>\n",
       "      <td>0.500</td>\n",
       "      <td>0.30</td>\n",
       "      <td>0.9342</td>\n",
       "      <td>0.9970</td>\n",
       "      <td>0.0628</td>\n",
       "    </tr>\n",
       "    <tr>\n",
       "      <th>48</th>\n",
       "      <td>5</td>\n",
       "      <td>0.000</td>\n",
       "      <td>0.05</td>\n",
       "      <td>0.9222</td>\n",
       "      <td>0.9762</td>\n",
       "      <td>0.0540</td>\n",
       "    </tr>\n",
       "    <tr>\n",
       "      <th>49</th>\n",
       "      <td>5</td>\n",
       "      <td>0.000</td>\n",
       "      <td>0.10</td>\n",
       "      <td>0.9267</td>\n",
       "      <td>0.9915</td>\n",
       "      <td>0.0648</td>\n",
       "    </tr>\n",
       "    <tr>\n",
       "      <th>50</th>\n",
       "      <td>5</td>\n",
       "      <td>0.000</td>\n",
       "      <td>0.30</td>\n",
       "      <td>0.9297</td>\n",
       "      <td>1.0000</td>\n",
       "      <td>0.0703</td>\n",
       "    </tr>\n",
       "    <tr>\n",
       "      <th>51</th>\n",
       "      <td>5</td>\n",
       "      <td>0.001</td>\n",
       "      <td>0.05</td>\n",
       "      <td>0.9230</td>\n",
       "      <td>0.9764</td>\n",
       "      <td>0.0534</td>\n",
       "    </tr>\n",
       "    <tr>\n",
       "      <th>52</th>\n",
       "      <td>5</td>\n",
       "      <td>0.001</td>\n",
       "      <td>0.10</td>\n",
       "      <td>0.9275</td>\n",
       "      <td>0.9915</td>\n",
       "      <td>0.0640</td>\n",
       "    </tr>\n",
       "    <tr>\n",
       "      <th>53</th>\n",
       "      <td>5</td>\n",
       "      <td>0.001</td>\n",
       "      <td>0.30</td>\n",
       "      <td>0.9312</td>\n",
       "      <td>1.0000</td>\n",
       "      <td>0.0688</td>\n",
       "    </tr>\n",
       "    <tr>\n",
       "      <th>54</th>\n",
       "      <td>5</td>\n",
       "      <td>0.100</td>\n",
       "      <td>0.05</td>\n",
       "      <td>0.9252</td>\n",
       "      <td>0.9771</td>\n",
       "      <td>0.0519</td>\n",
       "    </tr>\n",
       "    <tr>\n",
       "      <th>55</th>\n",
       "      <td>5</td>\n",
       "      <td>0.100</td>\n",
       "      <td>0.10</td>\n",
       "      <td>0.9290</td>\n",
       "      <td>0.9913</td>\n",
       "      <td>0.0623</td>\n",
       "    </tr>\n",
       "    <tr>\n",
       "      <th>56</th>\n",
       "      <td>5</td>\n",
       "      <td>0.100</td>\n",
       "      <td>0.30</td>\n",
       "      <td>0.9320</td>\n",
       "      <td>0.9998</td>\n",
       "      <td>0.0678</td>\n",
       "    </tr>\n",
       "    <tr>\n",
       "      <th>57</th>\n",
       "      <td>5</td>\n",
       "      <td>0.500</td>\n",
       "      <td>0.05</td>\n",
       "      <td>0.9238</td>\n",
       "      <td>0.9731</td>\n",
       "      <td>0.0493</td>\n",
       "    </tr>\n",
       "    <tr>\n",
       "      <th>58</th>\n",
       "      <td>5</td>\n",
       "      <td>0.500</td>\n",
       "      <td>0.10</td>\n",
       "      <td>0.9305</td>\n",
       "      <td>0.9873</td>\n",
       "      <td>0.0568</td>\n",
       "    </tr>\n",
       "    <tr>\n",
       "      <th>59</th>\n",
       "      <td>5</td>\n",
       "      <td>0.500</td>\n",
       "      <td>0.30</td>\n",
       "      <td>0.9342</td>\n",
       "      <td>0.9987</td>\n",
       "      <td>0.0645</td>\n",
       "    </tr>\n",
       "  </tbody>\n",
       "</table>\n",
       "</div>"
      ],
      "text/plain": [
       "    max_depth  alpha  learning_rate  test_score  train_score  Difference\n",
       "0           1  0.000           0.05      0.9021       0.9070      0.0049\n",
       "1           1  0.000           0.10      0.9110       0.9222      0.0112\n",
       "2           1  0.000           0.30      0.9200       0.9327      0.0127\n",
       "3           1  0.001           0.05      0.9021       0.9070      0.0049\n",
       "4           1  0.001           0.10      0.9110       0.9222      0.0112\n",
       "5           1  0.001           0.30      0.9200       0.9330      0.0130\n",
       "6           1  0.100           0.05      0.9021       0.9070      0.0049\n",
       "7           1  0.100           0.10      0.9118       0.9222      0.0104\n",
       "8           1  0.100           0.30      0.9192       0.9326      0.0134\n",
       "9           1  0.500           0.05      0.9021       0.9070      0.0049\n",
       "10          1  0.500           0.10      0.9140       0.9221      0.0081\n",
       "11          1  0.500           0.30      0.9185       0.9315      0.0130\n",
       "12          2  0.000           0.05      0.9215       0.9266      0.0051\n",
       "13          2  0.000           0.10      0.9178       0.9376      0.0198\n",
       "14          2  0.000           0.30      0.9282       0.9687      0.0405\n",
       "15          2  0.001           0.05      0.9207       0.9266      0.0059\n",
       "16          2  0.001           0.10      0.9185       0.9376      0.0191\n",
       "17          2  0.001           0.30      0.9282       0.9684      0.0402\n",
       "18          2  0.100           0.05      0.9215       0.9267      0.0052\n",
       "19          2  0.100           0.10      0.9178       0.9367      0.0189\n",
       "20          2  0.100           0.30      0.9275       0.9675      0.0400\n",
       "21          2  0.500           0.05      0.9207       0.9269      0.0062\n",
       "22          2  0.500           0.10      0.9215       0.9352      0.0137\n",
       "23          2  0.500           0.30      0.9267       0.9646      0.0379\n",
       "24          3  0.000           0.05      0.9148       0.9359      0.0211\n",
       "25          3  0.000           0.10      0.9193       0.9627      0.0434\n",
       "26          3  0.000           0.30      0.9305       0.9914      0.0609\n",
       "27          3  0.001           0.05      0.9148       0.9358      0.0210\n",
       "28          3  0.001           0.10      0.9208       0.9625      0.0417\n",
       "29          3  0.001           0.30      0.9297       0.9919      0.0622\n",
       "30          3  0.100           0.05      0.9163       0.9354      0.0191\n",
       "31          3  0.100           0.10      0.9215       0.9621      0.0406\n",
       "32          3  0.100           0.30      0.9305       0.9905      0.0600\n",
       "33          3  0.500           0.05      0.9178       0.9344      0.0166\n",
       "34          3  0.500           0.10      0.9230       0.9605      0.0375\n",
       "35          3  0.500           0.30      0.9327       0.9873      0.0546\n",
       "36          4  0.000           0.05      0.9237       0.9628      0.0391\n",
       "37          4  0.000           0.10      0.9253       0.9805      0.0552\n",
       "38          4  0.000           0.30      0.9342       0.9992      0.0650\n",
       "39          4  0.001           0.05      0.9237       0.9626      0.0389\n",
       "40          4  0.001           0.10      0.9245       0.9803      0.0558\n",
       "41          4  0.001           0.30      0.9327       0.9993      0.0666\n",
       "42          4  0.100           0.05      0.9252       0.9627      0.0375\n",
       "43          4  0.100           0.10      0.9260       0.9797      0.0537\n",
       "44          4  0.100           0.30      0.9282       0.9987      0.0705\n",
       "45          4  0.500           0.05      0.9245       0.9600      0.0355\n",
       "46          4  0.500           0.10      0.9260       0.9777      0.0517\n",
       "47          4  0.500           0.30      0.9342       0.9970      0.0628\n",
       "48          5  0.000           0.05      0.9222       0.9762      0.0540\n",
       "49          5  0.000           0.10      0.9267       0.9915      0.0648\n",
       "50          5  0.000           0.30      0.9297       1.0000      0.0703\n",
       "51          5  0.001           0.05      0.9230       0.9764      0.0534\n",
       "52          5  0.001           0.10      0.9275       0.9915      0.0640\n",
       "53          5  0.001           0.30      0.9312       1.0000      0.0688\n",
       "54          5  0.100           0.05      0.9252       0.9771      0.0519\n",
       "55          5  0.100           0.10      0.9290       0.9913      0.0623\n",
       "56          5  0.100           0.30      0.9320       0.9998      0.0678\n",
       "57          5  0.500           0.05      0.9238       0.9731      0.0493\n",
       "58          5  0.500           0.10      0.9305       0.9873      0.0568\n",
       "59          5  0.500           0.30      0.9342       0.9987      0.0645"
      ]
     },
     "execution_count": 126,
     "metadata": {},
     "output_type": "execute_result"
    }
   ],
   "source": [
    "# the result of different combination of hyperparameters\n",
    "xgboost_classification_result = pd.DataFrame(summary)\n",
    "xgboost_classification_result['Difference'] = xgboost_classification_result['train_score']-xgboost_classification_result['test_score']\n",
    "xgboost_classification_result"
   ]
  },
  {
   "cell_type": "code",
   "execution_count": 127,
   "metadata": {},
   "outputs": [
    {
     "name": "stderr",
     "output_type": "stream",
     "text": [
      "/var/folders/l_/3fhtc0fs3573nw5pd7ts0_1r0000gp/T/ipykernel_13428/1876638774.py:7: FutureWarning: Indexing with multiple keys (implicitly converted to a tuple of keys) will be deprecated, use a list instead.\n",
      "  alpha_1 = xgboost_classification_result.groupby(['alpha'])[('test_score','train_score')].mean()\n",
      "/Users/sang/opt/anaconda3/lib/python3.9/site-packages/seaborn/_decorators.py:36: FutureWarning: Pass the following variables as keyword args: x, y. From version 0.12, the only valid positional argument will be `data`, and passing other arguments without an explicit keyword will result in an error or misinterpretation.\n",
      "  warnings.warn(\n"
     ]
    },
    {
     "data": {
      "image/png": "[encoded data removed]",
      "text/plain": [
       "<Figure size 432x288 with 1 Axes>"
      ]
     },
     "metadata": {},
     "output_type": "display_data"
    }
   ],
   "source": [
    "# Plot the relationship between each hyperparameter and accuracy score to check the optimal\n",
    "import seaborn as sns\n",
    "sns.set_style(\"whitegrid\")\n",
    "\n",
    "\n",
    "# alpha and classification error\n",
    "alpha_1 = xgboost_classification_result.groupby(['alpha'])[('test_score','train_score')].mean()\n",
    "alpha_1.reset_index(inplace=True)\n",
    "alpha_1.rename(columns={\"test_score\":\"test\",\"train_score\":\"training\"}, inplace=True)\n",
    "\n",
    "data_1 = pd.melt(alpha_1,'alpha')\n",
    "data_1['classification_error'] = 1-data_1['value']\n",
    "data_1.rename(columns={\"variable\":\"data\"}, inplace=True)\n",
    "sns.lineplot('alpha', 'classification_error', hue='data', data=data_1)\n",
    "plt.title(\"XGBoost Classification Performance - Alpha\")\n",
    "plt.savefig(\"xg_classification_alpha\")"
   ]
  },
  {
   "cell_type": "code",
   "execution_count": 128,
   "metadata": {},
   "outputs": [
    {
     "name": "stderr",
     "output_type": "stream",
     "text": [
      "/var/folders/l_/3fhtc0fs3573nw5pd7ts0_1r0000gp/T/ipykernel_13428/2064262818.py:2: FutureWarning: Indexing with multiple keys (implicitly converted to a tuple of keys) will be deprecated, use a list instead.\n",
      "  learning_rate_1 = xgboost_classification_result.groupby(['learning_rate'])[('test_score','train_score')].mean()\n",
      "/Users/sang/opt/anaconda3/lib/python3.9/site-packages/seaborn/_decorators.py:36: FutureWarning: Pass the following variables as keyword args: x, y. From version 0.12, the only valid positional argument will be `data`, and passing other arguments without an explicit keyword will result in an error or misinterpretation.\n",
      "  warnings.warn(\n"
     ]
    },
    {
     "data": {
      "image/png": "[encoded data removed]",
      "text/plain": [
       "<Figure size 432x288 with 1 Axes>"
      ]
     },
     "metadata": {},
     "output_type": "display_data"
    }
   ],
   "source": [
    "# learning_rate and classification error\n",
    "learning_rate_1 = xgboost_classification_result.groupby(['learning_rate'])[('test_score','train_score')].mean()\n",
    "learning_rate_1.reset_index(inplace=True)\n",
    "learning_rate_1.rename(columns={\"test_score\":\"test\",\"train_score\":\"training\"}, inplace=True)\n",
    "\n",
    "data_2 = pd.melt(learning_rate_1,'learning_rate')\n",
    "data_2['classification_error'] = 1-data_2['value']\n",
    "data_2.rename(columns={\"variable\":\"data\"}, inplace=True)\n",
    "sns.lineplot('learning_rate', 'classification_error', hue='data', data=data_2)\n",
    "plt.title(\"XGBoost Classification Performance - Learning Rate\")\n",
    "plt.savefig(\"xg_classification_learning\")"
   ]
  },
  {
   "cell_type": "code",
   "execution_count": 129,
   "metadata": {},
   "outputs": [
    {
     "name": "stderr",
     "output_type": "stream",
     "text": [
      "/var/folders/l_/3fhtc0fs3573nw5pd7ts0_1r0000gp/T/ipykernel_13428/3791086293.py:2: FutureWarning: Indexing with multiple keys (implicitly converted to a tuple of keys) will be deprecated, use a list instead.\n",
      "  depth_1 = xgboost_classification_result.groupby(['max_depth'])[('test_score','train_score')].mean()\n",
      "/Users/sang/opt/anaconda3/lib/python3.9/site-packages/seaborn/_decorators.py:36: FutureWarning: Pass the following variables as keyword args: x, y. From version 0.12, the only valid positional argument will be `data`, and passing other arguments without an explicit keyword will result in an error or misinterpretation.\n",
      "  warnings.warn(\n"
     ]
    },
    {
     "data": {
      "image/png": "[encoded data removed]",
      "text/plain": [
       "<Figure size 432x288 with 1 Axes>"
      ]
     },
     "metadata": {},
     "output_type": "display_data"
    }
   ],
   "source": [
    "# max_depth and classification error\n",
    "depth_1 = xgboost_classification_result.groupby(['max_depth'])[('test_score','train_score')].mean()\n",
    "depth_1.reset_index(inplace=True)\n",
    "depth_1.rename(columns={\"test_score\":\"test\",\"train_score\":\"training\"}, inplace=True)\n",
    "\n",
    "data_3 = pd.melt(depth_1,'max_depth')\n",
    "data_3['classification_error'] = 1-data_3['value']\n",
    "data_3.rename(columns={\"variable\":\"data\"}, inplace=True)\n",
    "sns.lineplot('max_depth', 'classification_error', hue='data', data=data_3)\n",
    "\n",
    "plt.title(\"XGBoost Classification Performance - Max Depth\")\n",
    "plt.savefig(\"xg_classification_depth\")"
   ]
  },
  {
   "cell_type": "markdown",
   "metadata": {},
   "source": [
    "### Final XG BOOST Model - CLASSIFICATION"
   ]
  },
  {
   "cell_type": "code",
   "execution_count": 130,
   "metadata": {},
   "outputs": [
    {
     "name": "stdout",
     "output_type": "stream",
     "text": [
      "Cross-validation accuracy with XGBoost: 0.9342564870259482\n",
      "Cross-validation classification error with XGBoost: 0.06574351297405179\n"
     ]
    }
   ],
   "source": [
    "# Use the selected parameters to create a new tree \n",
    "xgboost_classification_final = xgb.XGBClassifier(random_state=2, max_depth=best_depth, reg_alpha=best_alpha, learning_rate=best_learning_rate)\n",
    "\n",
    "# Evaluate the accuracy of the new tree using cross-validation on all data in option_train csv\n",
    "cv_scores = cross_val_score(xgboost_classification_final, X_boost_class, y_boost_class, cv=kfolds, scoring='accuracy')\n",
    "print(\"Cross-validation accuracy with XGBoost:\", np.mean(cv_scores))\n",
    "print(\"Cross-validation classification error with XGBoost:\",1-np.mean(cv_scores))"
   ]
  },
  {
   "cell_type": "code",
   "execution_count": 131,
   "metadata": {},
   "outputs": [
    {
     "data": {
      "text/html": [
       "<div>\n",
       "<style scoped>\n",
       "    .dataframe tbody tr th:only-of-type {\n",
       "        vertical-align: middle;\n",
       "    }\n",
       "\n",
       "    .dataframe tbody tr th {\n",
       "        vertical-align: top;\n",
       "    }\n",
       "\n",
       "    .dataframe thead th {\n",
       "        text-align: right;\n",
       "    }\n",
       "</style>\n",
       "<table border=\"1\" class=\"dataframe\">\n",
       "  <thead>\n",
       "    <tr style=\"text-align: right;\">\n",
       "      <th></th>\n",
       "      <th>Logistic Regression</th>\n",
       "      <th>Linear Discriminant Analysis</th>\n",
       "      <th>K Nearest Neighbors</th>\n",
       "      <th>Decision Tree</th>\n",
       "      <th>Random Forest</th>\n",
       "      <th>XGBoost</th>\n",
       "    </tr>\n",
       "  </thead>\n",
       "  <tbody>\n",
       "    <tr>\n",
       "      <th>0</th>\n",
       "      <td>0.071429</td>\n",
       "      <td>0.071429</td>\n",
       "      <td>0.089552</td>\n",
       "      <td>0.077381</td>\n",
       "      <td>0.095238</td>\n",
       "      <td>0.065476</td>\n",
       "    </tr>\n",
       "    <tr>\n",
       "      <th>1</th>\n",
       "      <td>0.095238</td>\n",
       "      <td>0.095238</td>\n",
       "      <td>0.077612</td>\n",
       "      <td>0.113095</td>\n",
       "      <td>0.077381</td>\n",
       "      <td>0.071429</td>\n",
       "    </tr>\n",
       "    <tr>\n",
       "      <th>2</th>\n",
       "      <td>0.089286</td>\n",
       "      <td>0.095238</td>\n",
       "      <td>0.068657</td>\n",
       "      <td>0.065476</td>\n",
       "      <td>0.053571</td>\n",
       "      <td>0.071429</td>\n",
       "    </tr>\n",
       "    <tr>\n",
       "      <th>3</th>\n",
       "      <td>0.095808</td>\n",
       "      <td>0.101796</td>\n",
       "      <td>0.047904</td>\n",
       "      <td>0.065868</td>\n",
       "      <td>0.047904</td>\n",
       "      <td>0.077844</td>\n",
       "    </tr>\n",
       "    <tr>\n",
       "      <th>4</th>\n",
       "      <td>0.071856</td>\n",
       "      <td>0.071856</td>\n",
       "      <td>0.071856</td>\n",
       "      <td>0.089820</td>\n",
       "      <td>0.053892</td>\n",
       "      <td>0.053892</td>\n",
       "    </tr>\n",
       "    <tr>\n",
       "      <th>5</th>\n",
       "      <td>0.101796</td>\n",
       "      <td>0.101796</td>\n",
       "      <td>NaN</td>\n",
       "      <td>0.053892</td>\n",
       "      <td>0.047904</td>\n",
       "      <td>0.053892</td>\n",
       "    </tr>\n",
       "    <tr>\n",
       "      <th>6</th>\n",
       "      <td>0.101796</td>\n",
       "      <td>0.089820</td>\n",
       "      <td>NaN</td>\n",
       "      <td>0.101796</td>\n",
       "      <td>0.047904</td>\n",
       "      <td>0.065868</td>\n",
       "    </tr>\n",
       "    <tr>\n",
       "      <th>7</th>\n",
       "      <td>0.095808</td>\n",
       "      <td>0.101796</td>\n",
       "      <td>NaN</td>\n",
       "      <td>0.065868</td>\n",
       "      <td>0.077844</td>\n",
       "      <td>0.053892</td>\n",
       "    </tr>\n",
       "    <tr>\n",
       "      <th>8</th>\n",
       "      <td>0.047904</td>\n",
       "      <td>0.047904</td>\n",
       "      <td>NaN</td>\n",
       "      <td>0.113772</td>\n",
       "      <td>0.059880</td>\n",
       "      <td>0.083832</td>\n",
       "    </tr>\n",
       "    <tr>\n",
       "      <th>9</th>\n",
       "      <td>0.089820</td>\n",
       "      <td>0.089820</td>\n",
       "      <td>NaN</td>\n",
       "      <td>0.083832</td>\n",
       "      <td>0.089820</td>\n",
       "      <td>0.059880</td>\n",
       "    </tr>\n",
       "  </tbody>\n",
       "</table>\n",
       "</div>"
      ],
      "text/plain": [
       "   Logistic Regression  Linear Discriminant Analysis  K Nearest Neighbors  \\\n",
       "0             0.071429                      0.071429             0.089552   \n",
       "1             0.095238                      0.095238             0.077612   \n",
       "2             0.089286                      0.095238             0.068657   \n",
       "3             0.095808                      0.101796             0.047904   \n",
       "4             0.071856                      0.071856             0.071856   \n",
       "5             0.101796                      0.101796                  NaN   \n",
       "6             0.101796                      0.089820                  NaN   \n",
       "7             0.095808                      0.101796                  NaN   \n",
       "8             0.047904                      0.047904                  NaN   \n",
       "9             0.089820                      0.089820                  NaN   \n",
       "\n",
       "   Decision Tree  Random Forest   XGBoost  \n",
       "0       0.077381       0.095238  0.065476  \n",
       "1       0.113095       0.077381  0.071429  \n",
       "2       0.065476       0.053571  0.071429  \n",
       "3       0.065868       0.047904  0.077844  \n",
       "4       0.089820       0.053892  0.053892  \n",
       "5       0.053892       0.047904  0.053892  \n",
       "6       0.101796       0.047904  0.065868  \n",
       "7       0.065868       0.077844  0.053892  \n",
       "8       0.113772       0.059880  0.083832  \n",
       "9       0.083832       0.089820  0.059880  "
      ]
     },
     "execution_count": 131,
     "metadata": {},
     "output_type": "execute_result"
    }
   ],
   "source": [
    "models_classification = pd.concat([models_classification, pd.DataFrame(1-cv_scores, columns=['XGBoost'])], axis=1)\n",
    "models_classification"
   ]
  },
  {
   "cell_type": "markdown",
   "metadata": {},
   "source": [
    "### XGBOOST - REGRESSION"
   ]
  },
  {
   "cell_type": "code",
   "execution_count": 132,
   "metadata": {},
   "outputs": [
    {
     "name": "stdout",
     "output_type": "stream",
     "text": [
      "{'max_depth': [1, 1, 1, 1, 1, 1, 1, 1, 1, 1, 1, 1, 2, 2, 2, 2, 2, 2, 2, 2, 2, 2, 2, 2, 3, 3, 3, 3, 3, 3, 3, 3, 3, 3, 3, 3, 4, 4, 4, 4, 4, 4, 4, 4, 4, 4, 4, 4, 5, 5, 5, 5, 5, 5, 5, 5, 5, 5, 5, 5], 'alpha': [0, 0, 0, 0.001, 0.001, 0.001, 0.1, 0.1, 0.1, 0.5, 0.5, 0.5, 0, 0, 0, 0.001, 0.001, 0.001, 0.1, 0.1, 0.1, 0.5, 0.5, 0.5, 0, 0, 0, 0.001, 0.001, 0.001, 0.1, 0.1, 0.1, 0.5, 0.5, 0.5, 0, 0, 0, 0.001, 0.001, 0.001, 0.1, 0.1, 0.1, 0.5, 0.5, 0.5, 0, 0, 0, 0.001, 0.001, 0.001, 0.1, 0.1, 0.1, 0.5, 0.5, 0.5], 'learning_rate': [0.05, 0.1, 0.3, 0.05, 0.1, 0.3, 0.05, 0.1, 0.3, 0.05, 0.1, 0.3, 0.05, 0.1, 0.3, 0.05, 0.1, 0.3, 0.05, 0.1, 0.3, 0.05, 0.1, 0.3, 0.05, 0.1, 0.3, 0.05, 0.1, 0.3, 0.05, 0.1, 0.3, 0.05, 0.1, 0.3, 0.05, 0.1, 0.3, 0.05, 0.1, 0.3, 0.05, 0.1, 0.3, 0.05, 0.1, 0.3, 0.05, 0.1, 0.3, 0.05, 0.1, 0.3, 0.05, 0.1, 0.3, 0.05, 0.1, 0.3], 'out_sample_r': [0.9051, 0.9498, 0.9677, 0.9051, 0.9498, 0.9677, 0.9051, 0.9498, 0.9678, 0.905, 0.9497, 0.9678, 0.9721, 0.9901, 0.9959, 0.9721, 0.9901, 0.9959, 0.972, 0.99, 0.9959, 0.9721, 0.99, 0.9959, 0.9904, 0.9964, 0.9976, 0.9904, 0.9964, 0.9976, 0.9904, 0.9963, 0.9977, 0.9903, 0.9963, 0.9976, 0.9952, 0.9976, 0.9981, 0.9952, 0.9976, 0.998, 0.9951, 0.9976, 0.998, 0.9951, 0.9976, 0.998, 0.9967, 0.9979, 0.998, 0.9967, 0.9979, 0.998, 0.9967, 0.998, 0.9981, 0.9965, 0.9979, 0.9981], 'in_sample_r': [0.9086, 0.9531, 0.9721, 0.9086, 0.9531, 0.9721, 0.9086, 0.9531, 0.9721, 0.9085, 0.9531, 0.972, 0.9748, 0.9921, 0.9972, 0.9748, 0.9921, 0.9972, 0.9748, 0.9921, 0.9972, 0.9748, 0.992, 0.9972, 0.9931, 0.9979, 0.9988, 0.9931, 0.9979, 0.9988, 0.993, 0.9979, 0.9988, 0.993, 0.9979, 0.9988, 0.9975, 0.999, 0.9994, 0.9975, 0.999, 0.9994, 0.9974, 0.999, 0.9994, 0.9974, 0.999, 0.9994, 0.9988, 0.9995, 0.9998, 0.9988, 0.9995, 0.9998, 0.9988, 0.9995, 0.9998, 0.9987, 0.9995, 0.9997]}\n"
     ]
    }
   ],
   "source": [
    "# Define X and y\n",
    "X_boost_reg = train_data[['S', 'K', 'tau', 'r']].values\n",
    "y_boost_reg = train_data['Value'].values\n",
    "X_train, X_test, y_train, y_test = train_test_split(X_boost_reg, y_boost_reg, test_size=0.2, random_state=2)\n",
    "\n",
    "# Initiate values\n",
    "kfolds = KFold(n_splits = 10, shuffle = True, random_state = 2)\n",
    "alphas_list = [0,0.001,0.1,0.5]\n",
    "max_depths_list = [1,2,3,4,5]\n",
    "learning_list = [0.05,0.1,0.3]\n",
    "\n",
    "summary_reg = {\n",
    "    \"max_depth\": [],\n",
    "    \"alpha\": [],\n",
    "    \"learning_rate\": [],\n",
    "    \"out_sample_r\":[],\n",
    "    \"in_sample_r\": []\n",
    "}\n",
    "max_out_sample_r = 0\n",
    "best_depth = 0\n",
    "best_alpha = 0\n",
    "best_learning_rate = 0\n",
    "\n",
    "# try combinations of hyperparameters \n",
    "for max_depth in max_depths_list:\n",
    "    for alpha in alphas_list:\n",
    "        for rate in learning_list:\n",
    "            in_sample_r_reg = []\n",
    "            out_sample_r_reg = []\n",
    "            \n",
    "            # cv=10 and tune hyperparameters of XGBRegressor model\n",
    "            for train_index, test_index in kfolds.split(X_train, y_train):\n",
    "                model_reg = xgb.XGBRegressor(max_depth=max_depth, reg_alpha=alpha, learning_rate=rate, objective='reg:squarederror', verbosity=0)\n",
    "                model_reg.fit(X_train[train_index], y_train[train_index])\n",
    "                \n",
    "                # use fitted model to predict the in-sample and out-of-sample r square score\n",
    "                in_sample_r = model_reg.score(X_train[train_index], y_train[train_index])\n",
    "                out_sample_r = model_reg.score(X_train[test_index], y_train[test_index])\n",
    "\n",
    "                # calculate r-squared for each iteration and add into lists\n",
    "                out_sample_r_reg.append(out_sample_r)\n",
    "                in_sample_r_reg.append(in_sample_r)\n",
    "\n",
    "            # average out-of-sample r-sq for each combination of hyperparameters \n",
    "            max_out_sample_r_temp = sum(out_sample_r_reg)/len(out_sample_r_reg)\n",
    "            # find the max out-of-sample r-sq from combinations of hyperparameters\n",
    "            if max_out_sample_r_temp > max_out_sample_r:\n",
    "                max_out_sample_r = max_out_sample_r_temp\n",
    "                best_depth = max_depth\n",
    "                best_alpha = alpha\n",
    "                best_learning_rate = rate\n",
    "            \n",
    "            summary_reg[\"max_depth\"].append(max_depth)\n",
    "            summary_reg[\"alpha\"].append(alpha)\n",
    "            summary_reg[\"learning_rate\"].append(rate)\n",
    "            summary_reg[\"out_sample_r\"].append(np.round(sum(out_sample_r_reg)/len(out_sample_r_reg),4))\n",
    "            summary_reg[\"in_sample_r\"].append(np.round(sum(in_sample_r_reg)/len(in_sample_r_reg),4))\n",
    "            \n",
    "print(summary_reg)"
   ]
  },
  {
   "cell_type": "code",
   "execution_count": 133,
   "metadata": {},
   "outputs": [
    {
     "name": "stdout",
     "output_type": "stream",
     "text": [
      "0.9981466422280066\n",
      "5\n",
      "0.5\n",
      "0.3\n"
     ]
    }
   ],
   "source": [
    "# the best out of sample r square result and its corresponding hyperparameters\n",
    "print(max_out_sample_r)\n",
    "print(best_depth)\n",
    "print(best_alpha)\n",
    "print(best_learning_rate)"
   ]
  },
  {
   "cell_type": "code",
   "execution_count": 134,
   "metadata": {},
   "outputs": [
    {
     "data": {
      "text/html": [
       "<div>\n",
       "<style scoped>\n",
       "    .dataframe tbody tr th:only-of-type {\n",
       "        vertical-align: middle;\n",
       "    }\n",
       "\n",
       "    .dataframe tbody tr th {\n",
       "        vertical-align: top;\n",
       "    }\n",
       "\n",
       "    .dataframe thead th {\n",
       "        text-align: right;\n",
       "    }\n",
       "</style>\n",
       "<table border=\"1\" class=\"dataframe\">\n",
       "  <thead>\n",
       "    <tr style=\"text-align: right;\">\n",
       "      <th></th>\n",
       "      <th>max_depth</th>\n",
       "      <th>alpha</th>\n",
       "      <th>learning_rate</th>\n",
       "      <th>out_sample_r</th>\n",
       "      <th>in_sample_r</th>\n",
       "      <th>Difference</th>\n",
       "    </tr>\n",
       "  </thead>\n",
       "  <tbody>\n",
       "    <tr>\n",
       "      <th>0</th>\n",
       "      <td>1</td>\n",
       "      <td>0.000</td>\n",
       "      <td>0.05</td>\n",
       "      <td>0.9051</td>\n",
       "      <td>0.9086</td>\n",
       "      <td>0.0035</td>\n",
       "    </tr>\n",
       "    <tr>\n",
       "      <th>1</th>\n",
       "      <td>1</td>\n",
       "      <td>0.000</td>\n",
       "      <td>0.10</td>\n",
       "      <td>0.9498</td>\n",
       "      <td>0.9531</td>\n",
       "      <td>0.0033</td>\n",
       "    </tr>\n",
       "    <tr>\n",
       "      <th>2</th>\n",
       "      <td>1</td>\n",
       "      <td>0.000</td>\n",
       "      <td>0.30</td>\n",
       "      <td>0.9677</td>\n",
       "      <td>0.9721</td>\n",
       "      <td>0.0044</td>\n",
       "    </tr>\n",
       "    <tr>\n",
       "      <th>3</th>\n",
       "      <td>1</td>\n",
       "      <td>0.001</td>\n",
       "      <td>0.05</td>\n",
       "      <td>0.9051</td>\n",
       "      <td>0.9086</td>\n",
       "      <td>0.0035</td>\n",
       "    </tr>\n",
       "    <tr>\n",
       "      <th>4</th>\n",
       "      <td>1</td>\n",
       "      <td>0.001</td>\n",
       "      <td>0.10</td>\n",
       "      <td>0.9498</td>\n",
       "      <td>0.9531</td>\n",
       "      <td>0.0033</td>\n",
       "    </tr>\n",
       "    <tr>\n",
       "      <th>5</th>\n",
       "      <td>1</td>\n",
       "      <td>0.001</td>\n",
       "      <td>0.30</td>\n",
       "      <td>0.9677</td>\n",
       "      <td>0.9721</td>\n",
       "      <td>0.0044</td>\n",
       "    </tr>\n",
       "    <tr>\n",
       "      <th>6</th>\n",
       "      <td>1</td>\n",
       "      <td>0.100</td>\n",
       "      <td>0.05</td>\n",
       "      <td>0.9051</td>\n",
       "      <td>0.9086</td>\n",
       "      <td>0.0035</td>\n",
       "    </tr>\n",
       "    <tr>\n",
       "      <th>7</th>\n",
       "      <td>1</td>\n",
       "      <td>0.100</td>\n",
       "      <td>0.10</td>\n",
       "      <td>0.9498</td>\n",
       "      <td>0.9531</td>\n",
       "      <td>0.0033</td>\n",
       "    </tr>\n",
       "    <tr>\n",
       "      <th>8</th>\n",
       "      <td>1</td>\n",
       "      <td>0.100</td>\n",
       "      <td>0.30</td>\n",
       "      <td>0.9678</td>\n",
       "      <td>0.9721</td>\n",
       "      <td>0.0043</td>\n",
       "    </tr>\n",
       "    <tr>\n",
       "      <th>9</th>\n",
       "      <td>1</td>\n",
       "      <td>0.500</td>\n",
       "      <td>0.05</td>\n",
       "      <td>0.9050</td>\n",
       "      <td>0.9085</td>\n",
       "      <td>0.0035</td>\n",
       "    </tr>\n",
       "    <tr>\n",
       "      <th>10</th>\n",
       "      <td>1</td>\n",
       "      <td>0.500</td>\n",
       "      <td>0.10</td>\n",
       "      <td>0.9497</td>\n",
       "      <td>0.9531</td>\n",
       "      <td>0.0034</td>\n",
       "    </tr>\n",
       "    <tr>\n",
       "      <th>11</th>\n",
       "      <td>1</td>\n",
       "      <td>0.500</td>\n",
       "      <td>0.30</td>\n",
       "      <td>0.9678</td>\n",
       "      <td>0.9720</td>\n",
       "      <td>0.0042</td>\n",
       "    </tr>\n",
       "    <tr>\n",
       "      <th>12</th>\n",
       "      <td>2</td>\n",
       "      <td>0.000</td>\n",
       "      <td>0.05</td>\n",
       "      <td>0.9721</td>\n",
       "      <td>0.9748</td>\n",
       "      <td>0.0027</td>\n",
       "    </tr>\n",
       "    <tr>\n",
       "      <th>13</th>\n",
       "      <td>2</td>\n",
       "      <td>0.000</td>\n",
       "      <td>0.10</td>\n",
       "      <td>0.9901</td>\n",
       "      <td>0.9921</td>\n",
       "      <td>0.0020</td>\n",
       "    </tr>\n",
       "    <tr>\n",
       "      <th>14</th>\n",
       "      <td>2</td>\n",
       "      <td>0.000</td>\n",
       "      <td>0.30</td>\n",
       "      <td>0.9959</td>\n",
       "      <td>0.9972</td>\n",
       "      <td>0.0013</td>\n",
       "    </tr>\n",
       "    <tr>\n",
       "      <th>15</th>\n",
       "      <td>2</td>\n",
       "      <td>0.001</td>\n",
       "      <td>0.05</td>\n",
       "      <td>0.9721</td>\n",
       "      <td>0.9748</td>\n",
       "      <td>0.0027</td>\n",
       "    </tr>\n",
       "    <tr>\n",
       "      <th>16</th>\n",
       "      <td>2</td>\n",
       "      <td>0.001</td>\n",
       "      <td>0.10</td>\n",
       "      <td>0.9901</td>\n",
       "      <td>0.9921</td>\n",
       "      <td>0.0020</td>\n",
       "    </tr>\n",
       "    <tr>\n",
       "      <th>17</th>\n",
       "      <td>2</td>\n",
       "      <td>0.001</td>\n",
       "      <td>0.30</td>\n",
       "      <td>0.9959</td>\n",
       "      <td>0.9972</td>\n",
       "      <td>0.0013</td>\n",
       "    </tr>\n",
       "    <tr>\n",
       "      <th>18</th>\n",
       "      <td>2</td>\n",
       "      <td>0.100</td>\n",
       "      <td>0.05</td>\n",
       "      <td>0.9720</td>\n",
       "      <td>0.9748</td>\n",
       "      <td>0.0028</td>\n",
       "    </tr>\n",
       "    <tr>\n",
       "      <th>19</th>\n",
       "      <td>2</td>\n",
       "      <td>0.100</td>\n",
       "      <td>0.10</td>\n",
       "      <td>0.9900</td>\n",
       "      <td>0.9921</td>\n",
       "      <td>0.0021</td>\n",
       "    </tr>\n",
       "    <tr>\n",
       "      <th>20</th>\n",
       "      <td>2</td>\n",
       "      <td>0.100</td>\n",
       "      <td>0.30</td>\n",
       "      <td>0.9959</td>\n",
       "      <td>0.9972</td>\n",
       "      <td>0.0013</td>\n",
       "    </tr>\n",
       "    <tr>\n",
       "      <th>21</th>\n",
       "      <td>2</td>\n",
       "      <td>0.500</td>\n",
       "      <td>0.05</td>\n",
       "      <td>0.9721</td>\n",
       "      <td>0.9748</td>\n",
       "      <td>0.0027</td>\n",
       "    </tr>\n",
       "    <tr>\n",
       "      <th>22</th>\n",
       "      <td>2</td>\n",
       "      <td>0.500</td>\n",
       "      <td>0.10</td>\n",
       "      <td>0.9900</td>\n",
       "      <td>0.9920</td>\n",
       "      <td>0.0020</td>\n",
       "    </tr>\n",
       "    <tr>\n",
       "      <th>23</th>\n",
       "      <td>2</td>\n",
       "      <td>0.500</td>\n",
       "      <td>0.30</td>\n",
       "      <td>0.9959</td>\n",
       "      <td>0.9972</td>\n",
       "      <td>0.0013</td>\n",
       "    </tr>\n",
       "    <tr>\n",
       "      <th>24</th>\n",
       "      <td>3</td>\n",
       "      <td>0.000</td>\n",
       "      <td>0.05</td>\n",
       "      <td>0.9904</td>\n",
       "      <td>0.9931</td>\n",
       "      <td>0.0027</td>\n",
       "    </tr>\n",
       "    <tr>\n",
       "      <th>25</th>\n",
       "      <td>3</td>\n",
       "      <td>0.000</td>\n",
       "      <td>0.10</td>\n",
       "      <td>0.9964</td>\n",
       "      <td>0.9979</td>\n",
       "      <td>0.0015</td>\n",
       "    </tr>\n",
       "    <tr>\n",
       "      <th>26</th>\n",
       "      <td>3</td>\n",
       "      <td>0.000</td>\n",
       "      <td>0.30</td>\n",
       "      <td>0.9976</td>\n",
       "      <td>0.9988</td>\n",
       "      <td>0.0012</td>\n",
       "    </tr>\n",
       "    <tr>\n",
       "      <th>27</th>\n",
       "      <td>3</td>\n",
       "      <td>0.001</td>\n",
       "      <td>0.05</td>\n",
       "      <td>0.9904</td>\n",
       "      <td>0.9931</td>\n",
       "      <td>0.0027</td>\n",
       "    </tr>\n",
       "    <tr>\n",
       "      <th>28</th>\n",
       "      <td>3</td>\n",
       "      <td>0.001</td>\n",
       "      <td>0.10</td>\n",
       "      <td>0.9964</td>\n",
       "      <td>0.9979</td>\n",
       "      <td>0.0015</td>\n",
       "    </tr>\n",
       "    <tr>\n",
       "      <th>29</th>\n",
       "      <td>3</td>\n",
       "      <td>0.001</td>\n",
       "      <td>0.30</td>\n",
       "      <td>0.9976</td>\n",
       "      <td>0.9988</td>\n",
       "      <td>0.0012</td>\n",
       "    </tr>\n",
       "    <tr>\n",
       "      <th>30</th>\n",
       "      <td>3</td>\n",
       "      <td>0.100</td>\n",
       "      <td>0.05</td>\n",
       "      <td>0.9904</td>\n",
       "      <td>0.9930</td>\n",
       "      <td>0.0026</td>\n",
       "    </tr>\n",
       "    <tr>\n",
       "      <th>31</th>\n",
       "      <td>3</td>\n",
       "      <td>0.100</td>\n",
       "      <td>0.10</td>\n",
       "      <td>0.9963</td>\n",
       "      <td>0.9979</td>\n",
       "      <td>0.0016</td>\n",
       "    </tr>\n",
       "    <tr>\n",
       "      <th>32</th>\n",
       "      <td>3</td>\n",
       "      <td>0.100</td>\n",
       "      <td>0.30</td>\n",
       "      <td>0.9977</td>\n",
       "      <td>0.9988</td>\n",
       "      <td>0.0011</td>\n",
       "    </tr>\n",
       "    <tr>\n",
       "      <th>33</th>\n",
       "      <td>3</td>\n",
       "      <td>0.500</td>\n",
       "      <td>0.05</td>\n",
       "      <td>0.9903</td>\n",
       "      <td>0.9930</td>\n",
       "      <td>0.0027</td>\n",
       "    </tr>\n",
       "    <tr>\n",
       "      <th>34</th>\n",
       "      <td>3</td>\n",
       "      <td>0.500</td>\n",
       "      <td>0.10</td>\n",
       "      <td>0.9963</td>\n",
       "      <td>0.9979</td>\n",
       "      <td>0.0016</td>\n",
       "    </tr>\n",
       "    <tr>\n",
       "      <th>35</th>\n",
       "      <td>3</td>\n",
       "      <td>0.500</td>\n",
       "      <td>0.30</td>\n",
       "      <td>0.9976</td>\n",
       "      <td>0.9988</td>\n",
       "      <td>0.0012</td>\n",
       "    </tr>\n",
       "    <tr>\n",
       "      <th>36</th>\n",
       "      <td>4</td>\n",
       "      <td>0.000</td>\n",
       "      <td>0.05</td>\n",
       "      <td>0.9952</td>\n",
       "      <td>0.9975</td>\n",
       "      <td>0.0023</td>\n",
       "    </tr>\n",
       "    <tr>\n",
       "      <th>37</th>\n",
       "      <td>4</td>\n",
       "      <td>0.000</td>\n",
       "      <td>0.10</td>\n",
       "      <td>0.9976</td>\n",
       "      <td>0.9990</td>\n",
       "      <td>0.0014</td>\n",
       "    </tr>\n",
       "    <tr>\n",
       "      <th>38</th>\n",
       "      <td>4</td>\n",
       "      <td>0.000</td>\n",
       "      <td>0.30</td>\n",
       "      <td>0.9981</td>\n",
       "      <td>0.9994</td>\n",
       "      <td>0.0013</td>\n",
       "    </tr>\n",
       "    <tr>\n",
       "      <th>39</th>\n",
       "      <td>4</td>\n",
       "      <td>0.001</td>\n",
       "      <td>0.05</td>\n",
       "      <td>0.9952</td>\n",
       "      <td>0.9975</td>\n",
       "      <td>0.0023</td>\n",
       "    </tr>\n",
       "    <tr>\n",
       "      <th>40</th>\n",
       "      <td>4</td>\n",
       "      <td>0.001</td>\n",
       "      <td>0.10</td>\n",
       "      <td>0.9976</td>\n",
       "      <td>0.9990</td>\n",
       "      <td>0.0014</td>\n",
       "    </tr>\n",
       "    <tr>\n",
       "      <th>41</th>\n",
       "      <td>4</td>\n",
       "      <td>0.001</td>\n",
       "      <td>0.30</td>\n",
       "      <td>0.9980</td>\n",
       "      <td>0.9994</td>\n",
       "      <td>0.0014</td>\n",
       "    </tr>\n",
       "    <tr>\n",
       "      <th>42</th>\n",
       "      <td>4</td>\n",
       "      <td>0.100</td>\n",
       "      <td>0.05</td>\n",
       "      <td>0.9951</td>\n",
       "      <td>0.9974</td>\n",
       "      <td>0.0023</td>\n",
       "    </tr>\n",
       "    <tr>\n",
       "      <th>43</th>\n",
       "      <td>4</td>\n",
       "      <td>0.100</td>\n",
       "      <td>0.10</td>\n",
       "      <td>0.9976</td>\n",
       "      <td>0.9990</td>\n",
       "      <td>0.0014</td>\n",
       "    </tr>\n",
       "    <tr>\n",
       "      <th>44</th>\n",
       "      <td>4</td>\n",
       "      <td>0.100</td>\n",
       "      <td>0.30</td>\n",
       "      <td>0.9980</td>\n",
       "      <td>0.9994</td>\n",
       "      <td>0.0014</td>\n",
       "    </tr>\n",
       "    <tr>\n",
       "      <th>45</th>\n",
       "      <td>4</td>\n",
       "      <td>0.500</td>\n",
       "      <td>0.05</td>\n",
       "      <td>0.9951</td>\n",
       "      <td>0.9974</td>\n",
       "      <td>0.0023</td>\n",
       "    </tr>\n",
       "    <tr>\n",
       "      <th>46</th>\n",
       "      <td>4</td>\n",
       "      <td>0.500</td>\n",
       "      <td>0.10</td>\n",
       "      <td>0.9976</td>\n",
       "      <td>0.9990</td>\n",
       "      <td>0.0014</td>\n",
       "    </tr>\n",
       "    <tr>\n",
       "      <th>47</th>\n",
       "      <td>4</td>\n",
       "      <td>0.500</td>\n",
       "      <td>0.30</td>\n",
       "      <td>0.9980</td>\n",
       "      <td>0.9994</td>\n",
       "      <td>0.0014</td>\n",
       "    </tr>\n",
       "    <tr>\n",
       "      <th>48</th>\n",
       "      <td>5</td>\n",
       "      <td>0.000</td>\n",
       "      <td>0.05</td>\n",
       "      <td>0.9967</td>\n",
       "      <td>0.9988</td>\n",
       "      <td>0.0021</td>\n",
       "    </tr>\n",
       "    <tr>\n",
       "      <th>49</th>\n",
       "      <td>5</td>\n",
       "      <td>0.000</td>\n",
       "      <td>0.10</td>\n",
       "      <td>0.9979</td>\n",
       "      <td>0.9995</td>\n",
       "      <td>0.0016</td>\n",
       "    </tr>\n",
       "    <tr>\n",
       "      <th>50</th>\n",
       "      <td>5</td>\n",
       "      <td>0.000</td>\n",
       "      <td>0.30</td>\n",
       "      <td>0.9980</td>\n",
       "      <td>0.9998</td>\n",
       "      <td>0.0018</td>\n",
       "    </tr>\n",
       "    <tr>\n",
       "      <th>51</th>\n",
       "      <td>5</td>\n",
       "      <td>0.001</td>\n",
       "      <td>0.05</td>\n",
       "      <td>0.9967</td>\n",
       "      <td>0.9988</td>\n",
       "      <td>0.0021</td>\n",
       "    </tr>\n",
       "    <tr>\n",
       "      <th>52</th>\n",
       "      <td>5</td>\n",
       "      <td>0.001</td>\n",
       "      <td>0.10</td>\n",
       "      <td>0.9979</td>\n",
       "      <td>0.9995</td>\n",
       "      <td>0.0016</td>\n",
       "    </tr>\n",
       "    <tr>\n",
       "      <th>53</th>\n",
       "      <td>5</td>\n",
       "      <td>0.001</td>\n",
       "      <td>0.30</td>\n",
       "      <td>0.9980</td>\n",
       "      <td>0.9998</td>\n",
       "      <td>0.0018</td>\n",
       "    </tr>\n",
       "    <tr>\n",
       "      <th>54</th>\n",
       "      <td>5</td>\n",
       "      <td>0.100</td>\n",
       "      <td>0.05</td>\n",
       "      <td>0.9967</td>\n",
       "      <td>0.9988</td>\n",
       "      <td>0.0021</td>\n",
       "    </tr>\n",
       "    <tr>\n",
       "      <th>55</th>\n",
       "      <td>5</td>\n",
       "      <td>0.100</td>\n",
       "      <td>0.10</td>\n",
       "      <td>0.9980</td>\n",
       "      <td>0.9995</td>\n",
       "      <td>0.0015</td>\n",
       "    </tr>\n",
       "    <tr>\n",
       "      <th>56</th>\n",
       "      <td>5</td>\n",
       "      <td>0.100</td>\n",
       "      <td>0.30</td>\n",
       "      <td>0.9981</td>\n",
       "      <td>0.9998</td>\n",
       "      <td>0.0017</td>\n",
       "    </tr>\n",
       "    <tr>\n",
       "      <th>57</th>\n",
       "      <td>5</td>\n",
       "      <td>0.500</td>\n",
       "      <td>0.05</td>\n",
       "      <td>0.9965</td>\n",
       "      <td>0.9987</td>\n",
       "      <td>0.0022</td>\n",
       "    </tr>\n",
       "    <tr>\n",
       "      <th>58</th>\n",
       "      <td>5</td>\n",
       "      <td>0.500</td>\n",
       "      <td>0.10</td>\n",
       "      <td>0.9979</td>\n",
       "      <td>0.9995</td>\n",
       "      <td>0.0016</td>\n",
       "    </tr>\n",
       "    <tr>\n",
       "      <th>59</th>\n",
       "      <td>5</td>\n",
       "      <td>0.500</td>\n",
       "      <td>0.30</td>\n",
       "      <td>0.9981</td>\n",
       "      <td>0.9997</td>\n",
       "      <td>0.0016</td>\n",
       "    </tr>\n",
       "  </tbody>\n",
       "</table>\n",
       "</div>"
      ],
      "text/plain": [
       "    max_depth  alpha  learning_rate  out_sample_r  in_sample_r  Difference\n",
       "0           1  0.000           0.05        0.9051       0.9086      0.0035\n",
       "1           1  0.000           0.10        0.9498       0.9531      0.0033\n",
       "2           1  0.000           0.30        0.9677       0.9721      0.0044\n",
       "3           1  0.001           0.05        0.9051       0.9086      0.0035\n",
       "4           1  0.001           0.10        0.9498       0.9531      0.0033\n",
       "5           1  0.001           0.30        0.9677       0.9721      0.0044\n",
       "6           1  0.100           0.05        0.9051       0.9086      0.0035\n",
       "7           1  0.100           0.10        0.9498       0.9531      0.0033\n",
       "8           1  0.100           0.30        0.9678       0.9721      0.0043\n",
       "9           1  0.500           0.05        0.9050       0.9085      0.0035\n",
       "10          1  0.500           0.10        0.9497       0.9531      0.0034\n",
       "11          1  0.500           0.30        0.9678       0.9720      0.0042\n",
       "12          2  0.000           0.05        0.9721       0.9748      0.0027\n",
       "13          2  0.000           0.10        0.9901       0.9921      0.0020\n",
       "14          2  0.000           0.30        0.9959       0.9972      0.0013\n",
       "15          2  0.001           0.05        0.9721       0.9748      0.0027\n",
       "16          2  0.001           0.10        0.9901       0.9921      0.0020\n",
       "17          2  0.001           0.30        0.9959       0.9972      0.0013\n",
       "18          2  0.100           0.05        0.9720       0.9748      0.0028\n",
       "19          2  0.100           0.10        0.9900       0.9921      0.0021\n",
       "20          2  0.100           0.30        0.9959       0.9972      0.0013\n",
       "21          2  0.500           0.05        0.9721       0.9748      0.0027\n",
       "22          2  0.500           0.10        0.9900       0.9920      0.0020\n",
       "23          2  0.500           0.30        0.9959       0.9972      0.0013\n",
       "24          3  0.000           0.05        0.9904       0.9931      0.0027\n",
       "25          3  0.000           0.10        0.9964       0.9979      0.0015\n",
       "26          3  0.000           0.30        0.9976       0.9988      0.0012\n",
       "27          3  0.001           0.05        0.9904       0.9931      0.0027\n",
       "28          3  0.001           0.10        0.9964       0.9979      0.0015\n",
       "29          3  0.001           0.30        0.9976       0.9988      0.0012\n",
       "30          3  0.100           0.05        0.9904       0.9930      0.0026\n",
       "31          3  0.100           0.10        0.9963       0.9979      0.0016\n",
       "32          3  0.100           0.30        0.9977       0.9988      0.0011\n",
       "33          3  0.500           0.05        0.9903       0.9930      0.0027\n",
       "34          3  0.500           0.10        0.9963       0.9979      0.0016\n",
       "35          3  0.500           0.30        0.9976       0.9988      0.0012\n",
       "36          4  0.000           0.05        0.9952       0.9975      0.0023\n",
       "37          4  0.000           0.10        0.9976       0.9990      0.0014\n",
       "38          4  0.000           0.30        0.9981       0.9994      0.0013\n",
       "39          4  0.001           0.05        0.9952       0.9975      0.0023\n",
       "40          4  0.001           0.10        0.9976       0.9990      0.0014\n",
       "41          4  0.001           0.30        0.9980       0.9994      0.0014\n",
       "42          4  0.100           0.05        0.9951       0.9974      0.0023\n",
       "43          4  0.100           0.10        0.9976       0.9990      0.0014\n",
       "44          4  0.100           0.30        0.9980       0.9994      0.0014\n",
       "45          4  0.500           0.05        0.9951       0.9974      0.0023\n",
       "46          4  0.500           0.10        0.9976       0.9990      0.0014\n",
       "47          4  0.500           0.30        0.9980       0.9994      0.0014\n",
       "48          5  0.000           0.05        0.9967       0.9988      0.0021\n",
       "49          5  0.000           0.10        0.9979       0.9995      0.0016\n",
       "50          5  0.000           0.30        0.9980       0.9998      0.0018\n",
       "51          5  0.001           0.05        0.9967       0.9988      0.0021\n",
       "52          5  0.001           0.10        0.9979       0.9995      0.0016\n",
       "53          5  0.001           0.30        0.9980       0.9998      0.0018\n",
       "54          5  0.100           0.05        0.9967       0.9988      0.0021\n",
       "55          5  0.100           0.10        0.9980       0.9995      0.0015\n",
       "56          5  0.100           0.30        0.9981       0.9998      0.0017\n",
       "57          5  0.500           0.05        0.9965       0.9987      0.0022\n",
       "58          5  0.500           0.10        0.9979       0.9995      0.0016\n",
       "59          5  0.500           0.30        0.9981       0.9997      0.0016"
      ]
     },
     "execution_count": 134,
     "metadata": {},
     "output_type": "execute_result"
    }
   ],
   "source": [
    "# the result of different combination of hyperparameters\n",
    "xgboost_regression_result = pd.DataFrame(summary_reg)\n",
    "xgboost_regression_result['Difference']=xgboost_regression_result['in_sample_r']-xgboost_regression_result['out_sample_r']\n",
    "xgboost_regression_result"
   ]
  },
  {
   "cell_type": "markdown",
   "metadata": {},
   "source": [
    "### Final XGBOOST Model - REGRESSION"
   ]
  },
  {
   "cell_type": "code",
   "execution_count": 135,
   "metadata": {},
   "outputs": [
    {
     "name": "stdout",
     "output_type": "stream",
     "text": [
      "Cross-validation r-squared with XGBoost Regression: 0.9981625890429034\n"
     ]
    }
   ],
   "source": [
    "# Use the selected parameters to create a new tree \n",
    "xgboost_regression_final = xgb.XGBRegressor(random_state=2, max_depth=best_depth, reg_alpha=best_alpha, learning_rate=best_learning_rate)\n",
    "\n",
    "# Evaluate the accuracy of the new tree using cross-validation on all data in option_train csv\n",
    "cv_r_squared = cross_val_score(xgboost_regression_final, X_boost_reg, y_boost_reg, cv=kfolds, scoring = 'r2')\n",
    "print(\"Cross-validation r-squared with XGBoost Regression:\", np.mean(cv_r_squared))"
   ]
  },
  {
   "cell_type": "code",
   "execution_count": 136,
   "metadata": {},
   "outputs": [
    {
     "data": {
      "text/html": [
       "<div>\n",
       "<style scoped>\n",
       "    .dataframe tbody tr th:only-of-type {\n",
       "        vertical-align: middle;\n",
       "    }\n",
       "\n",
       "    .dataframe tbody tr th {\n",
       "        vertical-align: top;\n",
       "    }\n",
       "\n",
       "    .dataframe thead th {\n",
       "        text-align: right;\n",
       "    }\n",
       "</style>\n",
       "<table border=\"1\" class=\"dataframe\">\n",
       "  <thead>\n",
       "    <tr style=\"text-align: right;\">\n",
       "      <th></th>\n",
       "      <th>Linear Regression</th>\n",
       "      <th>K Nearest Neighbors</th>\n",
       "      <th>Decision Tree</th>\n",
       "      <th>Random Forest</th>\n",
       "      <th>XGBoost</th>\n",
       "    </tr>\n",
       "  </thead>\n",
       "  <tbody>\n",
       "    <tr>\n",
       "      <th>0</th>\n",
       "      <td>0.904298</td>\n",
       "      <td>0.975840</td>\n",
       "      <td>0.992563</td>\n",
       "      <td>0.995191</td>\n",
       "      <td>0.997076</td>\n",
       "    </tr>\n",
       "    <tr>\n",
       "      <th>1</th>\n",
       "      <td>0.923114</td>\n",
       "      <td>0.986635</td>\n",
       "      <td>0.993920</td>\n",
       "      <td>0.996825</td>\n",
       "      <td>0.998488</td>\n",
       "    </tr>\n",
       "    <tr>\n",
       "      <th>2</th>\n",
       "      <td>0.915912</td>\n",
       "      <td>0.983151</td>\n",
       "      <td>0.991941</td>\n",
       "      <td>0.996809</td>\n",
       "      <td>0.997598</td>\n",
       "    </tr>\n",
       "    <tr>\n",
       "      <th>3</th>\n",
       "      <td>0.909624</td>\n",
       "      <td>0.986926</td>\n",
       "      <td>0.991475</td>\n",
       "      <td>0.995841</td>\n",
       "      <td>0.998267</td>\n",
       "    </tr>\n",
       "    <tr>\n",
       "      <th>4</th>\n",
       "      <td>0.915089</td>\n",
       "      <td>0.978338</td>\n",
       "      <td>0.993501</td>\n",
       "      <td>0.996873</td>\n",
       "      <td>0.998736</td>\n",
       "    </tr>\n",
       "    <tr>\n",
       "      <th>5</th>\n",
       "      <td>0.912409</td>\n",
       "      <td>0.975764</td>\n",
       "      <td>0.991837</td>\n",
       "      <td>0.996710</td>\n",
       "      <td>0.998287</td>\n",
       "    </tr>\n",
       "    <tr>\n",
       "      <th>6</th>\n",
       "      <td>0.907232</td>\n",
       "      <td>0.983724</td>\n",
       "      <td>0.992557</td>\n",
       "      <td>0.996845</td>\n",
       "      <td>0.998189</td>\n",
       "    </tr>\n",
       "    <tr>\n",
       "      <th>7</th>\n",
       "      <td>0.910531</td>\n",
       "      <td>0.982250</td>\n",
       "      <td>0.990201</td>\n",
       "      <td>0.995620</td>\n",
       "      <td>0.998077</td>\n",
       "    </tr>\n",
       "    <tr>\n",
       "      <th>8</th>\n",
       "      <td>0.918869</td>\n",
       "      <td>0.985449</td>\n",
       "      <td>0.990646</td>\n",
       "      <td>0.996676</td>\n",
       "      <td>0.998642</td>\n",
       "    </tr>\n",
       "    <tr>\n",
       "      <th>9</th>\n",
       "      <td>0.886749</td>\n",
       "      <td>0.975348</td>\n",
       "      <td>0.993015</td>\n",
       "      <td>0.996844</td>\n",
       "      <td>0.998265</td>\n",
       "    </tr>\n",
       "  </tbody>\n",
       "</table>\n",
       "</div>"
      ],
      "text/plain": [
       "   Linear Regression  K Nearest Neighbors  Decision Tree  Random Forest  \\\n",
       "0           0.904298             0.975840       0.992563       0.995191   \n",
       "1           0.923114             0.986635       0.993920       0.996825   \n",
       "2           0.915912             0.983151       0.991941       0.996809   \n",
       "3           0.909624             0.986926       0.991475       0.995841   \n",
       "4           0.915089             0.978338       0.993501       0.996873   \n",
       "5           0.912409             0.975764       0.991837       0.996710   \n",
       "6           0.907232             0.983724       0.992557       0.996845   \n",
       "7           0.910531             0.982250       0.990201       0.995620   \n",
       "8           0.918869             0.985449       0.990646       0.996676   \n",
       "9           0.886749             0.975348       0.993015       0.996844   \n",
       "\n",
       "    XGBoost  \n",
       "0  0.997076  \n",
       "1  0.998488  \n",
       "2  0.997598  \n",
       "3  0.998267  \n",
       "4  0.998736  \n",
       "5  0.998287  \n",
       "6  0.998189  \n",
       "7  0.998077  \n",
       "8  0.998642  \n",
       "9  0.998265  "
      ]
     },
     "execution_count": 136,
     "metadata": {},
     "output_type": "execute_result"
    }
   ],
   "source": [
    "models_regression = pd.concat([models_regression, pd.DataFrame(cv_r_squared, columns=['XGBoost'])], axis=1)\n",
    "models_regression"
   ]
  },
  {
   "cell_type": "markdown",
   "metadata": {},
   "source": [
    "# Models Comparison"
   ]
  },
  {
   "cell_type": "code",
   "execution_count": 137,
   "metadata": {},
   "outputs": [
    {
     "data": {
      "text/html": [
       "<div>\n",
       "<style scoped>\n",
       "    .dataframe tbody tr th:only-of-type {\n",
       "        vertical-align: middle;\n",
       "    }\n",
       "\n",
       "    .dataframe tbody tr th {\n",
       "        vertical-align: top;\n",
       "    }\n",
       "\n",
       "    .dataframe thead th {\n",
       "        text-align: right;\n",
       "    }\n",
       "</style>\n",
       "<table border=\"1\" class=\"dataframe\">\n",
       "  <thead>\n",
       "    <tr style=\"text-align: right;\">\n",
       "      <th></th>\n",
       "      <th>Logistic Regression</th>\n",
       "      <th>Linear Discriminant Analysis</th>\n",
       "      <th>K Nearest Neighbors</th>\n",
       "      <th>Decision Tree</th>\n",
       "      <th>Random Forest</th>\n",
       "      <th>XGBoost</th>\n",
       "    </tr>\n",
       "  </thead>\n",
       "  <tbody>\n",
       "    <tr>\n",
       "      <th>0</th>\n",
       "      <td>0.071429</td>\n",
       "      <td>0.071429</td>\n",
       "      <td>0.089552</td>\n",
       "      <td>0.077381</td>\n",
       "      <td>0.095238</td>\n",
       "      <td>0.065476</td>\n",
       "    </tr>\n",
       "    <tr>\n",
       "      <th>1</th>\n",
       "      <td>0.095238</td>\n",
       "      <td>0.095238</td>\n",
       "      <td>0.077612</td>\n",
       "      <td>0.113095</td>\n",
       "      <td>0.077381</td>\n",
       "      <td>0.071429</td>\n",
       "    </tr>\n",
       "    <tr>\n",
       "      <th>2</th>\n",
       "      <td>0.089286</td>\n",
       "      <td>0.095238</td>\n",
       "      <td>0.068657</td>\n",
       "      <td>0.065476</td>\n",
       "      <td>0.053571</td>\n",
       "      <td>0.071429</td>\n",
       "    </tr>\n",
       "    <tr>\n",
       "      <th>3</th>\n",
       "      <td>0.095808</td>\n",
       "      <td>0.101796</td>\n",
       "      <td>0.047904</td>\n",
       "      <td>0.065868</td>\n",
       "      <td>0.047904</td>\n",
       "      <td>0.077844</td>\n",
       "    </tr>\n",
       "    <tr>\n",
       "      <th>4</th>\n",
       "      <td>0.071856</td>\n",
       "      <td>0.071856</td>\n",
       "      <td>0.071856</td>\n",
       "      <td>0.089820</td>\n",
       "      <td>0.053892</td>\n",
       "      <td>0.053892</td>\n",
       "    </tr>\n",
       "    <tr>\n",
       "      <th>5</th>\n",
       "      <td>0.101796</td>\n",
       "      <td>0.101796</td>\n",
       "      <td>NaN</td>\n",
       "      <td>0.053892</td>\n",
       "      <td>0.047904</td>\n",
       "      <td>0.053892</td>\n",
       "    </tr>\n",
       "    <tr>\n",
       "      <th>6</th>\n",
       "      <td>0.101796</td>\n",
       "      <td>0.089820</td>\n",
       "      <td>NaN</td>\n",
       "      <td>0.101796</td>\n",
       "      <td>0.047904</td>\n",
       "      <td>0.065868</td>\n",
       "    </tr>\n",
       "    <tr>\n",
       "      <th>7</th>\n",
       "      <td>0.095808</td>\n",
       "      <td>0.101796</td>\n",
       "      <td>NaN</td>\n",
       "      <td>0.065868</td>\n",
       "      <td>0.077844</td>\n",
       "      <td>0.053892</td>\n",
       "    </tr>\n",
       "    <tr>\n",
       "      <th>8</th>\n",
       "      <td>0.047904</td>\n",
       "      <td>0.047904</td>\n",
       "      <td>NaN</td>\n",
       "      <td>0.113772</td>\n",
       "      <td>0.059880</td>\n",
       "      <td>0.083832</td>\n",
       "    </tr>\n",
       "    <tr>\n",
       "      <th>9</th>\n",
       "      <td>0.089820</td>\n",
       "      <td>0.089820</td>\n",
       "      <td>NaN</td>\n",
       "      <td>0.083832</td>\n",
       "      <td>0.089820</td>\n",
       "      <td>0.059880</td>\n",
       "    </tr>\n",
       "  </tbody>\n",
       "</table>\n",
       "</div>"
      ],
      "text/plain": [
       "   Logistic Regression  Linear Discriminant Analysis  K Nearest Neighbors  \\\n",
       "0             0.071429                      0.071429             0.089552   \n",
       "1             0.095238                      0.095238             0.077612   \n",
       "2             0.089286                      0.095238             0.068657   \n",
       "3             0.095808                      0.101796             0.047904   \n",
       "4             0.071856                      0.071856             0.071856   \n",
       "5             0.101796                      0.101796                  NaN   \n",
       "6             0.101796                      0.089820                  NaN   \n",
       "7             0.095808                      0.101796                  NaN   \n",
       "8             0.047904                      0.047904                  NaN   \n",
       "9             0.089820                      0.089820                  NaN   \n",
       "\n",
       "   Decision Tree  Random Forest   XGBoost  \n",
       "0       0.077381       0.095238  0.065476  \n",
       "1       0.113095       0.077381  0.071429  \n",
       "2       0.065476       0.053571  0.071429  \n",
       "3       0.065868       0.047904  0.077844  \n",
       "4       0.089820       0.053892  0.053892  \n",
       "5       0.053892       0.047904  0.053892  \n",
       "6       0.101796       0.047904  0.065868  \n",
       "7       0.065868       0.077844  0.053892  \n",
       "8       0.113772       0.059880  0.083832  \n",
       "9       0.083832       0.089820  0.059880  "
      ]
     },
     "execution_count": 137,
     "metadata": {},
     "output_type": "execute_result"
    }
   ],
   "source": [
    "# Compare classification models using chart \n",
    "# 10 folds CV classification errors\n",
    "models_classification"
   ]
  },
  {
   "cell_type": "code",
   "execution_count": 138,
   "metadata": {},
   "outputs": [
    {
     "data": {
      "text/html": [
       "<div>\n",
       "<style scoped>\n",
       "    .dataframe tbody tr th:only-of-type {\n",
       "        vertical-align: middle;\n",
       "    }\n",
       "\n",
       "    .dataframe tbody tr th {\n",
       "        vertical-align: top;\n",
       "    }\n",
       "\n",
       "    .dataframe thead th {\n",
       "        text-align: right;\n",
       "    }\n",
       "</style>\n",
       "<table border=\"1\" class=\"dataframe\">\n",
       "  <thead>\n",
       "    <tr style=\"text-align: right;\">\n",
       "      <th></th>\n",
       "      <th>Linear Regression</th>\n",
       "      <th>K Nearest Neighbors</th>\n",
       "      <th>Decision Tree</th>\n",
       "      <th>Random Forest</th>\n",
       "      <th>XGBoost</th>\n",
       "    </tr>\n",
       "  </thead>\n",
       "  <tbody>\n",
       "    <tr>\n",
       "      <th>0</th>\n",
       "      <td>0.904298</td>\n",
       "      <td>0.975840</td>\n",
       "      <td>0.992563</td>\n",
       "      <td>0.995191</td>\n",
       "      <td>0.997076</td>\n",
       "    </tr>\n",
       "    <tr>\n",
       "      <th>1</th>\n",
       "      <td>0.923114</td>\n",
       "      <td>0.986635</td>\n",
       "      <td>0.993920</td>\n",
       "      <td>0.996825</td>\n",
       "      <td>0.998488</td>\n",
       "    </tr>\n",
       "    <tr>\n",
       "      <th>2</th>\n",
       "      <td>0.915912</td>\n",
       "      <td>0.983151</td>\n",
       "      <td>0.991941</td>\n",
       "      <td>0.996809</td>\n",
       "      <td>0.997598</td>\n",
       "    </tr>\n",
       "    <tr>\n",
       "      <th>3</th>\n",
       "      <td>0.909624</td>\n",
       "      <td>0.986926</td>\n",
       "      <td>0.991475</td>\n",
       "      <td>0.995841</td>\n",
       "      <td>0.998267</td>\n",
       "    </tr>\n",
       "    <tr>\n",
       "      <th>4</th>\n",
       "      <td>0.915089</td>\n",
       "      <td>0.978338</td>\n",
       "      <td>0.993501</td>\n",
       "      <td>0.996873</td>\n",
       "      <td>0.998736</td>\n",
       "    </tr>\n",
       "    <tr>\n",
       "      <th>5</th>\n",
       "      <td>0.912409</td>\n",
       "      <td>0.975764</td>\n",
       "      <td>0.991837</td>\n",
       "      <td>0.996710</td>\n",
       "      <td>0.998287</td>\n",
       "    </tr>\n",
       "    <tr>\n",
       "      <th>6</th>\n",
       "      <td>0.907232</td>\n",
       "      <td>0.983724</td>\n",
       "      <td>0.992557</td>\n",
       "      <td>0.996845</td>\n",
       "      <td>0.998189</td>\n",
       "    </tr>\n",
       "    <tr>\n",
       "      <th>7</th>\n",
       "      <td>0.910531</td>\n",
       "      <td>0.982250</td>\n",
       "      <td>0.990201</td>\n",
       "      <td>0.995620</td>\n",
       "      <td>0.998077</td>\n",
       "    </tr>\n",
       "    <tr>\n",
       "      <th>8</th>\n",
       "      <td>0.918869</td>\n",
       "      <td>0.985449</td>\n",
       "      <td>0.990646</td>\n",
       "      <td>0.996676</td>\n",
       "      <td>0.998642</td>\n",
       "    </tr>\n",
       "    <tr>\n",
       "      <th>9</th>\n",
       "      <td>0.886749</td>\n",
       "      <td>0.975348</td>\n",
       "      <td>0.993015</td>\n",
       "      <td>0.996844</td>\n",
       "      <td>0.998265</td>\n",
       "    </tr>\n",
       "  </tbody>\n",
       "</table>\n",
       "</div>"
      ],
      "text/plain": [
       "   Linear Regression  K Nearest Neighbors  Decision Tree  Random Forest  \\\n",
       "0           0.904298             0.975840       0.992563       0.995191   \n",
       "1           0.923114             0.986635       0.993920       0.996825   \n",
       "2           0.915912             0.983151       0.991941       0.996809   \n",
       "3           0.909624             0.986926       0.991475       0.995841   \n",
       "4           0.915089             0.978338       0.993501       0.996873   \n",
       "5           0.912409             0.975764       0.991837       0.996710   \n",
       "6           0.907232             0.983724       0.992557       0.996845   \n",
       "7           0.910531             0.982250       0.990201       0.995620   \n",
       "8           0.918869             0.985449       0.990646       0.996676   \n",
       "9           0.886749             0.975348       0.993015       0.996844   \n",
       "\n",
       "    XGBoost  \n",
       "0  0.997076  \n",
       "1  0.998488  \n",
       "2  0.997598  \n",
       "3  0.998267  \n",
       "4  0.998736  \n",
       "5  0.998287  \n",
       "6  0.998189  \n",
       "7  0.998077  \n",
       "8  0.998642  \n",
       "9  0.998265  "
      ]
     },
     "execution_count": 138,
     "metadata": {},
     "output_type": "execute_result"
    }
   ],
   "source": [
    "# Compare regression models using chart \n",
    "# 10 folds CV r-squared\n",
    "models_regression"
   ]
  },
  {
   "cell_type": "code",
   "execution_count": 139,
   "metadata": {},
   "outputs": [
    {
     "data": {
      "text/html": [
       "<div>\n",
       "<style scoped>\n",
       "    .dataframe tbody tr th:only-of-type {\n",
       "        vertical-align: middle;\n",
       "    }\n",
       "\n",
       "    .dataframe tbody tr th {\n",
       "        vertical-align: top;\n",
       "    }\n",
       "\n",
       "    .dataframe thead th {\n",
       "        text-align: right;\n",
       "    }\n",
       "</style>\n",
       "<table border=\"1\" class=\"dataframe\">\n",
       "  <thead>\n",
       "    <tr style=\"text-align: right;\">\n",
       "      <th></th>\n",
       "      <th>classification_error</th>\n",
       "    </tr>\n",
       "  </thead>\n",
       "  <tbody>\n",
       "    <tr>\n",
       "      <th>Logistic Regression</th>\n",
       "      <td>0.086074</td>\n",
       "    </tr>\n",
       "    <tr>\n",
       "      <th>Linear Discriminant Analysis</th>\n",
       "      <td>0.086670</td>\n",
       "    </tr>\n",
       "    <tr>\n",
       "      <th>K Nearest Neighbors</th>\n",
       "      <td>0.071116</td>\n",
       "    </tr>\n",
       "    <tr>\n",
       "      <th>Decision Tree</th>\n",
       "      <td>0.083080</td>\n",
       "    </tr>\n",
       "    <tr>\n",
       "      <th>Random Forest</th>\n",
       "      <td>0.065134</td>\n",
       "    </tr>\n",
       "    <tr>\n",
       "      <th>XGBoost</th>\n",
       "      <td>0.065744</td>\n",
       "    </tr>\n",
       "  </tbody>\n",
       "</table>\n",
       "</div>"
      ],
      "text/plain": [
       "                              classification_error\n",
       "Logistic Regression                       0.086074\n",
       "Linear Discriminant Analysis              0.086670\n",
       "K Nearest Neighbors                       0.071116\n",
       "Decision Tree                             0.083080\n",
       "Random Forest                             0.065134\n",
       "XGBoost                                   0.065744"
      ]
     },
     "execution_count": 139,
     "metadata": {},
     "output_type": "execute_result"
    }
   ],
   "source": [
    "models_mean_cla = pd.DataFrame(models_classification.mean(), columns=['classification_error'])\n",
    "models_mean_cla"
   ]
  },
  {
   "cell_type": "code",
   "execution_count": 140,
   "metadata": {},
   "outputs": [
    {
     "data": {
      "text/html": [
       "<div>\n",
       "<style scoped>\n",
       "    .dataframe tbody tr th:only-of-type {\n",
       "        vertical-align: middle;\n",
       "    }\n",
       "\n",
       "    .dataframe tbody tr th {\n",
       "        vertical-align: top;\n",
       "    }\n",
       "\n",
       "    .dataframe thead th {\n",
       "        text-align: right;\n",
       "    }\n",
       "</style>\n",
       "<table border=\"1\" class=\"dataframe\">\n",
       "  <thead>\n",
       "    <tr style=\"text-align: right;\">\n",
       "      <th></th>\n",
       "      <th>classification_error</th>\n",
       "    </tr>\n",
       "  </thead>\n",
       "  <tbody>\n",
       "    <tr>\n",
       "      <th>Random Forest</th>\n",
       "      <td>0.065134</td>\n",
       "    </tr>\n",
       "  </tbody>\n",
       "</table>\n",
       "</div>"
      ],
      "text/plain": [
       "               classification_error\n",
       "Random Forest              0.065134"
      ]
     },
     "execution_count": 140,
     "metadata": {},
     "output_type": "execute_result"
    }
   ],
   "source": [
    "# find the best model for classificaton - Random Forest \n",
    "models_mean_cla[models_mean_cla['classification_error']==models_mean_cla['classification_error'].min()]"
   ]
  },
  {
   "cell_type": "code",
   "execution_count": 141,
   "metadata": {},
   "outputs": [
    {
     "data": {
      "text/html": [
       "<div>\n",
       "<style scoped>\n",
       "    .dataframe tbody tr th:only-of-type {\n",
       "        vertical-align: middle;\n",
       "    }\n",
       "\n",
       "    .dataframe tbody tr th {\n",
       "        vertical-align: top;\n",
       "    }\n",
       "\n",
       "    .dataframe thead th {\n",
       "        text-align: right;\n",
       "    }\n",
       "</style>\n",
       "<table border=\"1\" class=\"dataframe\">\n",
       "  <thead>\n",
       "    <tr style=\"text-align: right;\">\n",
       "      <th></th>\n",
       "      <th>r-squared</th>\n",
       "    </tr>\n",
       "  </thead>\n",
       "  <tbody>\n",
       "    <tr>\n",
       "      <th>Linear Regression</th>\n",
       "      <td>0.910383</td>\n",
       "    </tr>\n",
       "    <tr>\n",
       "      <th>K Nearest Neighbors</th>\n",
       "      <td>0.981343</td>\n",
       "    </tr>\n",
       "    <tr>\n",
       "      <th>Decision Tree</th>\n",
       "      <td>0.992165</td>\n",
       "    </tr>\n",
       "    <tr>\n",
       "      <th>Random Forest</th>\n",
       "      <td>0.996423</td>\n",
       "    </tr>\n",
       "    <tr>\n",
       "      <th>XGBoost</th>\n",
       "      <td>0.998163</td>\n",
       "    </tr>\n",
       "  </tbody>\n",
       "</table>\n",
       "</div>"
      ],
      "text/plain": [
       "                     r-squared\n",
       "Linear Regression     0.910383\n",
       "K Nearest Neighbors   0.981343\n",
       "Decision Tree         0.992165\n",
       "Random Forest         0.996423\n",
       "XGBoost               0.998163"
      ]
     },
     "execution_count": 141,
     "metadata": {},
     "output_type": "execute_result"
    }
   ],
   "source": [
    "modes_mean_reg = pd.DataFrame(models_regression.mean(), columns=['r-squared'])\n",
    "modes_mean_reg"
   ]
  },
  {
   "cell_type": "code",
   "execution_count": 142,
   "metadata": {},
   "outputs": [
    {
     "data": {
      "text/html": [
       "<div>\n",
       "<style scoped>\n",
       "    .dataframe tbody tr th:only-of-type {\n",
       "        vertical-align: middle;\n",
       "    }\n",
       "\n",
       "    .dataframe tbody tr th {\n",
       "        vertical-align: top;\n",
       "    }\n",
       "\n",
       "    .dataframe thead th {\n",
       "        text-align: right;\n",
       "    }\n",
       "</style>\n",
       "<table border=\"1\" class=\"dataframe\">\n",
       "  <thead>\n",
       "    <tr style=\"text-align: right;\">\n",
       "      <th></th>\n",
       "      <th>r-squared</th>\n",
       "    </tr>\n",
       "  </thead>\n",
       "  <tbody>\n",
       "    <tr>\n",
       "      <th>XGBoost</th>\n",
       "      <td>0.998163</td>\n",
       "    </tr>\n",
       "  </tbody>\n",
       "</table>\n",
       "</div>"
      ],
      "text/plain": [
       "         r-squared\n",
       "XGBoost   0.998163"
      ]
     },
     "execution_count": 142,
     "metadata": {},
     "output_type": "execute_result"
    }
   ],
   "source": [
    "# find the best model for regression - XGBoost\n",
    "modes_mean_reg[modes_mean_reg['r-squared']==modes_mean_reg['r-squared'].max()]"
   ]
  },
  {
   "cell_type": "code",
   "execution_count": 143,
   "metadata": {},
   "outputs": [
    {
     "data": {
      "image/png": "[encoded data removed]",
      "text/plain": [
       "<Figure size 936x576 with 1 Axes>"
      ]
     },
     "metadata": {},
     "output_type": "display_data"
    }
   ],
   "source": [
    "# Plot to compare different classification models\n",
    "models_classification_melt = pd.melt(models_classification, var_name='Model')\n",
    "models_classification_melt.rename(columns={\"value\":\"CV_Classification_Error\"}, inplace=True)\n",
    "plt.figure(figsize=(13,8))\n",
    "sns.set(style=\"whitegrid\")\n",
    "sns.boxplot(x='Model', y='CV_Classification_Error',data=models_classification_melt)\n",
    "plt.title('Models Comparison - Classification', fontsize=18)\n",
    "plt.xlabel('Model', fontsize=18);\n",
    "plt.ylabel('CV Classification Error', fontsize=18);\n",
    "plt.savefig('models_cla.png')"
   ]
  },
  {
   "cell_type": "code",
   "execution_count": 144,
   "metadata": {},
   "outputs": [
    {
     "data": {
      "image/png": "[encoded data removed]",
      "text/plain": [
       "<Figure size 936x576 with 1 Axes>"
      ]
     },
     "metadata": {},
     "output_type": "display_data"
    }
   ],
   "source": [
    "# Plot to compare different regression models\n",
    "models_regression_melt = pd.melt(models_regression, var_name='Model')\n",
    "models_regression_melt.rename(columns={\"value\":\"CV_R\"}, inplace=True)\n",
    "plt.figure(figsize=(13,8))\n",
    "sns.set(style=\"whitegrid\")\n",
    "plt.ylim(0.90,1)\n",
    "sns.boxplot(x='Model', y='CV_R',data=models_regression_melt)\n",
    "plt.title('Models Comparison - Regression', fontsize=18)\n",
    "plt.xlabel('Model', fontsize=18);\n",
    "plt.ylabel('CV R-Squared', fontsize=18);\n",
    "plt.savefig('models_reg.png')"
   ]
  },
  {
   "cell_type": "markdown",
   "metadata": {
    "cell_id": "517d4156dda2435f9fc692844e35b65a",
    "deepnote_cell_type": "text-cell-h1",
    "formattedRanges": []
   },
   "source": [
    "# Testing Data"
   ]
  },
  {
   "cell_type": "code",
   "execution_count": 145,
   "metadata": {
    "cell_id": "5bcf206206744c6da26252ebe1339bfe",
    "deepnote_cell_type": "code",
    "deepnote_to_be_reexecuted": true,
    "execution_millis": 1685894,
    "execution_start": 1681679313127,
    "source_hash": "7877bb7d"
   },
   "outputs": [],
   "source": [
    "test_data = pd.read_csv('option_test_wolabel.csv')"
   ]
  },
  {
   "cell_type": "code",
   "execution_count": 146,
   "metadata": {
    "cell_id": "a083df0bf8bb4faa8fb3105a0a3ee703",
    "deepnote_cell_type": "code",
    "deepnote_to_be_reexecuted": true,
    "execution_millis": 1685895,
    "execution_start": 1681679313127,
    "source_hash": "87f55b20"
   },
   "outputs": [
    {
     "data": {
      "text/html": [
       "<div>\n",
       "<style scoped>\n",
       "    .dataframe tbody tr th:only-of-type {\n",
       "        vertical-align: middle;\n",
       "    }\n",
       "\n",
       "    .dataframe tbody tr th {\n",
       "        vertical-align: top;\n",
       "    }\n",
       "\n",
       "    .dataframe thead th {\n",
       "        text-align: right;\n",
       "    }\n",
       "</style>\n",
       "<table border=\"1\" class=\"dataframe\">\n",
       "  <thead>\n",
       "    <tr style=\"text-align: right;\">\n",
       "      <th></th>\n",
       "      <th>S</th>\n",
       "      <th>K</th>\n",
       "      <th>tau</th>\n",
       "      <th>r</th>\n",
       "    </tr>\n",
       "  </thead>\n",
       "  <tbody>\n",
       "    <tr>\n",
       "      <th>0</th>\n",
       "      <td>431.618600</td>\n",
       "      <td>460</td>\n",
       "      <td>0.293651</td>\n",
       "      <td>0.03147</td>\n",
       "    </tr>\n",
       "    <tr>\n",
       "      <th>1</th>\n",
       "      <td>432.633296</td>\n",
       "      <td>420</td>\n",
       "      <td>0.182540</td>\n",
       "      <td>0.03147</td>\n",
       "    </tr>\n",
       "    <tr>\n",
       "      <th>2</th>\n",
       "      <td>432.633296</td>\n",
       "      <td>430</td>\n",
       "      <td>0.182540</td>\n",
       "      <td>0.03147</td>\n",
       "    </tr>\n",
       "    <tr>\n",
       "      <th>3</th>\n",
       "      <td>431.618600</td>\n",
       "      <td>415</td>\n",
       "      <td>0.293651</td>\n",
       "      <td>0.03147</td>\n",
       "    </tr>\n",
       "    <tr>\n",
       "      <th>4</th>\n",
       "      <td>434.772855</td>\n",
       "      <td>420</td>\n",
       "      <td>0.043651</td>\n",
       "      <td>0.03147</td>\n",
       "    </tr>\n",
       "    <tr>\n",
       "      <th>...</th>\n",
       "      <td>...</td>\n",
       "      <td>...</td>\n",
       "      <td>...</td>\n",
       "      <td>...</td>\n",
       "    </tr>\n",
       "    <tr>\n",
       "      <th>1115</th>\n",
       "      <td>440.067417</td>\n",
       "      <td>435</td>\n",
       "      <td>0.182540</td>\n",
       "      <td>0.02962</td>\n",
       "    </tr>\n",
       "    <tr>\n",
       "      <th>1116</th>\n",
       "      <td>439.081203</td>\n",
       "      <td>485</td>\n",
       "      <td>0.293651</td>\n",
       "      <td>0.02962</td>\n",
       "    </tr>\n",
       "    <tr>\n",
       "      <th>1117</th>\n",
       "      <td>439.081203</td>\n",
       "      <td>475</td>\n",
       "      <td>0.293651</td>\n",
       "      <td>0.02962</td>\n",
       "    </tr>\n",
       "    <tr>\n",
       "      <th>1118</th>\n",
       "      <td>442.490015</td>\n",
       "      <td>420</td>\n",
       "      <td>0.043651</td>\n",
       "      <td>0.02962</td>\n",
       "    </tr>\n",
       "    <tr>\n",
       "      <th>1119</th>\n",
       "      <td>440.067417</td>\n",
       "      <td>430</td>\n",
       "      <td>0.182540</td>\n",
       "      <td>0.02962</td>\n",
       "    </tr>\n",
       "  </tbody>\n",
       "</table>\n",
       "<p>1120 rows × 4 columns</p>\n",
       "</div>"
      ],
      "text/plain": [
       "               S    K       tau        r\n",
       "0     431.618600  460  0.293651  0.03147\n",
       "1     432.633296  420  0.182540  0.03147\n",
       "2     432.633296  430  0.182540  0.03147\n",
       "3     431.618600  415  0.293651  0.03147\n",
       "4     434.772855  420  0.043651  0.03147\n",
       "...          ...  ...       ...      ...\n",
       "1115  440.067417  435  0.182540  0.02962\n",
       "1116  439.081203  485  0.293651  0.02962\n",
       "1117  439.081203  475  0.293651  0.02962\n",
       "1118  442.490015  420  0.043651  0.02962\n",
       "1119  440.067417  430  0.182540  0.02962\n",
       "\n",
       "[1120 rows x 4 columns]"
      ]
     },
     "execution_count": 146,
     "metadata": {},
     "output_type": "execute_result"
    }
   ],
   "source": [
    "test_data"
   ]
  },
  {
   "cell_type": "code",
   "execution_count": 147,
   "metadata": {
    "cell_id": "106f539b0e234295be333ff2f33bba6f",
    "deepnote_cell_type": "code",
    "deepnote_to_be_reexecuted": true,
    "execution_millis": 1685770,
    "execution_start": 1681679313265,
    "source_hash": "dd5978af"
   },
   "outputs": [
    {
     "data": {
      "text/plain": [
       "S      1120\n",
       "K      1120\n",
       "tau    1120\n",
       "r      1120\n",
       "dtype: int64"
      ]
     },
     "execution_count": 147,
     "metadata": {},
     "output_type": "execute_result"
    }
   ],
   "source": [
    "test_data.count()"
   ]
  },
  {
   "cell_type": "code",
   "execution_count": 148,
   "metadata": {},
   "outputs": [
    {
     "data": {
      "text/plain": [
       "S      0\n",
       "K      0\n",
       "tau    0\n",
       "r      0\n",
       "dtype: int64"
      ]
     },
     "execution_count": 148,
     "metadata": {},
     "output_type": "execute_result"
    }
   ],
   "source": [
    "test_data.isna().sum()"
   ]
  },
  {
   "cell_type": "code",
   "execution_count": 149,
   "metadata": {
    "cell_id": "7b5225ee963549528e149b13d6a73e5b",
    "deepnote_cell_type": "code",
    "deepnote_to_be_reexecuted": true,
    "execution_millis": 1685750,
    "execution_start": 1681679313315,
    "source_hash": "5992dc30"
   },
   "outputs": [
    {
     "data": {
      "text/html": [
       "<div>\n",
       "<style scoped>\n",
       "    .dataframe tbody tr th:only-of-type {\n",
       "        vertical-align: middle;\n",
       "    }\n",
       "\n",
       "    .dataframe tbody tr th {\n",
       "        vertical-align: top;\n",
       "    }\n",
       "\n",
       "    .dataframe thead th {\n",
       "        text-align: right;\n",
       "    }\n",
       "</style>\n",
       "<table border=\"1\" class=\"dataframe\">\n",
       "  <thead>\n",
       "    <tr style=\"text-align: right;\">\n",
       "      <th></th>\n",
       "      <th>S</th>\n",
       "      <th>K</th>\n",
       "      <th>tau</th>\n",
       "      <th>r</th>\n",
       "    </tr>\n",
       "  </thead>\n",
       "  <tbody>\n",
       "    <tr>\n",
       "      <th>count</th>\n",
       "      <td>1120.000000</td>\n",
       "      <td>1120.000000</td>\n",
       "      <td>1120.000000</td>\n",
       "      <td>1120.000000</td>\n",
       "    </tr>\n",
       "    <tr>\n",
       "      <th>mean</th>\n",
       "      <td>441.110753</td>\n",
       "      <td>440.406250</td>\n",
       "      <td>0.203589</td>\n",
       "      <td>0.030223</td>\n",
       "    </tr>\n",
       "    <tr>\n",
       "      <th>std</th>\n",
       "      <td>7.630218</td>\n",
       "      <td>23.788616</td>\n",
       "      <td>0.103300</td>\n",
       "      <td>0.000542</td>\n",
       "    </tr>\n",
       "    <tr>\n",
       "      <th>min</th>\n",
       "      <td>425.472331</td>\n",
       "      <td>375.000000</td>\n",
       "      <td>0.003968</td>\n",
       "      <td>0.029510</td>\n",
       "    </tr>\n",
       "    <tr>\n",
       "      <th>25%</th>\n",
       "      <td>433.734305</td>\n",
       "      <td>420.000000</td>\n",
       "      <td>0.115079</td>\n",
       "      <td>0.029820</td>\n",
       "    </tr>\n",
       "    <tr>\n",
       "      <th>50%</th>\n",
       "      <td>443.411426</td>\n",
       "      <td>440.000000</td>\n",
       "      <td>0.206349</td>\n",
       "      <td>0.030130</td>\n",
       "    </tr>\n",
       "    <tr>\n",
       "      <th>75%</th>\n",
       "      <td>447.350699</td>\n",
       "      <td>460.000000</td>\n",
       "      <td>0.285714</td>\n",
       "      <td>0.030440</td>\n",
       "    </tr>\n",
       "    <tr>\n",
       "      <th>max</th>\n",
       "      <td>455.880619</td>\n",
       "      <td>500.000000</td>\n",
       "      <td>0.392857</td>\n",
       "      <td>0.031880</td>\n",
       "    </tr>\n",
       "  </tbody>\n",
       "</table>\n",
       "</div>"
      ],
      "text/plain": [
       "                 S            K          tau            r\n",
       "count  1120.000000  1120.000000  1120.000000  1120.000000\n",
       "mean    441.110753   440.406250     0.203589     0.030223\n",
       "std       7.630218    23.788616     0.103300     0.000542\n",
       "min     425.472331   375.000000     0.003968     0.029510\n",
       "25%     433.734305   420.000000     0.115079     0.029820\n",
       "50%     443.411426   440.000000     0.206349     0.030130\n",
       "75%     447.350699   460.000000     0.285714     0.030440\n",
       "max     455.880619   500.000000     0.392857     0.031880"
      ]
     },
     "execution_count": 149,
     "metadata": {},
     "output_type": "execute_result"
    }
   ],
   "source": [
    "test_data.describe(include='all')"
   ]
  },
  {
   "cell_type": "code",
   "execution_count": 150,
   "metadata": {},
   "outputs": [
    {
     "data": {
      "text/html": [
       "<div>\n",
       "<style scoped>\n",
       "    .dataframe tbody tr th:only-of-type {\n",
       "        vertical-align: middle;\n",
       "    }\n",
       "\n",
       "    .dataframe tbody tr th {\n",
       "        vertical-align: top;\n",
       "    }\n",
       "\n",
       "    .dataframe thead th {\n",
       "        text-align: right;\n",
       "    }\n",
       "</style>\n",
       "<table border=\"1\" class=\"dataframe\">\n",
       "  <thead>\n",
       "    <tr style=\"text-align: right;\">\n",
       "      <th></th>\n",
       "      <th>Value</th>\n",
       "      <th>S</th>\n",
       "      <th>K</th>\n",
       "      <th>tau</th>\n",
       "      <th>r</th>\n",
       "      <th>BS</th>\n",
       "    </tr>\n",
       "  </thead>\n",
       "  <tbody>\n",
       "    <tr>\n",
       "      <th>0</th>\n",
       "      <td>21.670404</td>\n",
       "      <td>431.623898</td>\n",
       "      <td>420.0</td>\n",
       "      <td>0.341270</td>\n",
       "      <td>0.03013</td>\n",
       "      <td>0</td>\n",
       "    </tr>\n",
       "    <tr>\n",
       "      <th>1</th>\n",
       "      <td>0.125000</td>\n",
       "      <td>427.015526</td>\n",
       "      <td>465.0</td>\n",
       "      <td>0.166667</td>\n",
       "      <td>0.03126</td>\n",
       "      <td>1</td>\n",
       "    </tr>\n",
       "    <tr>\n",
       "      <th>2</th>\n",
       "      <td>20.691244</td>\n",
       "      <td>427.762336</td>\n",
       "      <td>415.0</td>\n",
       "      <td>0.265873</td>\n",
       "      <td>0.03116</td>\n",
       "      <td>0</td>\n",
       "    </tr>\n",
       "    <tr>\n",
       "      <th>3</th>\n",
       "      <td>1.035002</td>\n",
       "      <td>451.711658</td>\n",
       "      <td>460.0</td>\n",
       "      <td>0.063492</td>\n",
       "      <td>0.02972</td>\n",
       "      <td>1</td>\n",
       "    </tr>\n",
       "    <tr>\n",
       "      <th>4</th>\n",
       "      <td>39.553020</td>\n",
       "      <td>446.718974</td>\n",
       "      <td>410.0</td>\n",
       "      <td>0.166667</td>\n",
       "      <td>0.02962</td>\n",
       "      <td>0</td>\n",
       "    </tr>\n",
       "    <tr>\n",
       "      <th>...</th>\n",
       "      <td>...</td>\n",
       "      <td>...</td>\n",
       "      <td>...</td>\n",
       "      <td>...</td>\n",
       "      <td>...</td>\n",
       "      <td>...</td>\n",
       "    </tr>\n",
       "    <tr>\n",
       "      <th>1668</th>\n",
       "      <td>1.470000</td>\n",
       "      <td>444.397163</td>\n",
       "      <td>475.0</td>\n",
       "      <td>0.273810</td>\n",
       "      <td>0.03034</td>\n",
       "      <td>1</td>\n",
       "    </tr>\n",
       "    <tr>\n",
       "      <th>1669</th>\n",
       "      <td>34.927317</td>\n",
       "      <td>438.453825</td>\n",
       "      <td>410.0</td>\n",
       "      <td>0.301587</td>\n",
       "      <td>0.02972</td>\n",
       "      <td>0</td>\n",
       "    </tr>\n",
       "    <tr>\n",
       "      <th>1670</th>\n",
       "      <td>41.127997</td>\n",
       "      <td>428.042219</td>\n",
       "      <td>390.0</td>\n",
       "      <td>0.170635</td>\n",
       "      <td>0.03188</td>\n",
       "      <td>0</td>\n",
       "    </tr>\n",
       "    <tr>\n",
       "      <th>1671</th>\n",
       "      <td>0.440003</td>\n",
       "      <td>439.081203</td>\n",
       "      <td>480.0</td>\n",
       "      <td>0.293651</td>\n",
       "      <td>0.02962</td>\n",
       "      <td>1</td>\n",
       "    </tr>\n",
       "    <tr>\n",
       "      <th>1672</th>\n",
       "      <td>0.410002</td>\n",
       "      <td>432.167692</td>\n",
       "      <td>465.0</td>\n",
       "      <td>0.218254</td>\n",
       "      <td>0.02993</td>\n",
       "      <td>1</td>\n",
       "    </tr>\n",
       "  </tbody>\n",
       "</table>\n",
       "<p>1673 rows × 6 columns</p>\n",
       "</div>"
      ],
      "text/plain": [
       "          Value           S      K       tau        r  BS\n",
       "0     21.670404  431.623898  420.0  0.341270  0.03013   0\n",
       "1      0.125000  427.015526  465.0  0.166667  0.03126   1\n",
       "2     20.691244  427.762336  415.0  0.265873  0.03116   0\n",
       "3      1.035002  451.711658  460.0  0.063492  0.02972   1\n",
       "4     39.553020  446.718974  410.0  0.166667  0.02962   0\n",
       "...         ...         ...    ...       ...      ...  ..\n",
       "1668   1.470000  444.397163  475.0  0.273810  0.03034   1\n",
       "1669  34.927317  438.453825  410.0  0.301587  0.02972   0\n",
       "1670  41.127997  428.042219  390.0  0.170635  0.03188   0\n",
       "1671   0.440003  439.081203  480.0  0.293651  0.02962   1\n",
       "1672   0.410002  432.167692  465.0  0.218254  0.02993   1\n",
       "\n",
       "[1673 rows x 6 columns]"
      ]
     },
     "execution_count": 150,
     "metadata": {},
     "output_type": "execute_result"
    }
   ],
   "source": [
    "train_data"
   ]
  },
  {
   "cell_type": "code",
   "execution_count": 151,
   "metadata": {},
   "outputs": [],
   "source": [
    "# train dataest\n",
    "X_train = train_data.iloc[:,1:5]\n",
    "\n",
    "# random forest regression(Value C) train data\n",
    "y_reg_train = train_data.iloc[:,0]\n",
    "\n",
    "# random forest classification(BS) train data\n",
    "y_class_train = train_data.iloc[:,5]\n",
    "\n",
    "# test data\n",
    "X_test = test_data"
   ]
  },
  {
   "cell_type": "code",
   "execution_count": 152,
   "metadata": {
    "cell_id": "1c2053527b7c4937b98f4fb1149461bb",
    "deepnote_cell_type": "code",
    "deepnote_to_be_reexecuted": true,
    "execution_millis": 1685716,
    "execution_start": 1681679313411,
    "source_hash": "b623e53d"
   },
   "outputs": [
    {
     "name": "stdout",
     "output_type": "stream",
     "text": [
      "       Value  BS\n",
      "0   1.292634   1\n",
      "1  17.686913   0\n",
      "2  10.227864   0\n",
      "3  22.215361   0\n",
      "4  15.510866   0\n"
     ]
    }
   ],
   "source": [
    "# fit RF regression on the training set with best parameters\n",
    "rf_reg = RandomForestRegressor(n_estimators=300, max_depth=20, min_samples_leaf = 1, min_samples_split=2, random_state=2)\n",
    "rf_reg.fit(X_train, y_reg_train)\n",
    "y_reg_pred = rf_reg.predict(X_test)\n",
    "\n",
    "# fit RF classification on the training set with best parameters \n",
    "rf_class = RandomForestClassifier(n_estimators=100, max_depth=None, min_samples_leaf = 2, min_samples_split=2, random_state=2)\n",
    "rf_class.fit(X_train, y_class_train)\n",
    "y_class_pred = rf_class.predict(X_test)\n",
    "\n",
    "# Create a dataframe with the predicted values\n",
    "prediction_df = pd.DataFrame({'Value': y_reg_pred, 'BS': y_class_pred})\n",
    "\n",
    "# Save the dataframe as a CSV file\n",
    "prediction_df.to_csv('group_23_prediction.csv', index=False)\n",
    "\n",
    "# Print the first few rows of the dataframe\n",
    "print(prediction_df.head())\n"
   ]
  }
 ],
 "metadata": {
  "deepnote": {},
  "deepnote_execution_queue": [],
  "deepnote_notebook_id": "facff7d231e34eb4b3e65a1de4579a79",
  "deepnote_persisted_session": {
   "createdAt": "2023-04-16T04:31:21.131Z"
  },
  "hide_input": false,
  "kernelspec": {
   "display_name": "Python 3 (ipykernel)",
   "language": "python",
   "name": "python3"
  },
  "language_info": {
   "codemirror_mode": {
    "name": "ipython",
    "version": 3
   },
   "file_extension": ".py",
   "mimetype": "text/x-python",
   "name": "python",
   "nbconvert_exporter": "python",
   "pygments_lexer": "ipython3",
   "version": "3.9.12"
  },
  "toc": {
   "base_numbering": 1,
   "nav_menu": {},
   "number_sections": true,
   "sideBar": true,
   "skip_h1_title": false,
   "title_cell": "Table of Contents",
   "title_sidebar": "Contents",
   "toc_cell": false,
   "toc_position": {
    "height": "calc(100% - 180px)",
    "left": "10px",
    "top": "150px",
    "width": "335.984px"
   },
   "toc_section_display": true,
   "toc_window_display": true
  }
 },
 "nbformat": 4,
 "nbformat_minor": 1
}
